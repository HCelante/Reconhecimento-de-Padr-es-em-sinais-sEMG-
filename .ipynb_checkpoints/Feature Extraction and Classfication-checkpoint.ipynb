{
 "cells": [
  {
   "cell_type": "markdown",
   "metadata": {},
   "source": [
    "# Reconhecimentos de Padrões\n",
    "\n",
    "## Alunos: Henrique Ricardo Figueira, Higor Celante\n",
    "## Dataset: sEMG for Basic Hand movements Data Set\n",
    "\n",
    "\n",
    "A base de dados utilizada tem as seguintes características:\n",
    "\n",
    "- Série Temporal\n",
    "- 2 canais EMG\n",
    "- 5 arquivos\n",
    "\n",
    "Datasets:\n",
    " - 6s = 2 homens e 2 mulheres na fixa dos 22 anos executaram os 6 movimentos 30 vezes cada, cada movimento sendo coletado por 6s.\n",
    " - 5s = 1 homem executou os 6 movimentos 100 vezes cada, por 5s cada movimento.\n",
    " \n",
    "Movimentos:\n",
    "\n",
    "- Esférico\n",
    "- Palma aberta\n",
    "- Lateral\n",
    "- Cilíndrico\n",
    "- Gancho\n",
    "- Pinça\n"
   ]
  },
  {
   "cell_type": "markdown",
   "metadata": {},
   "source": [
    "![movimentos](https://i.imgur.com/0faxxKu.png)"
   ]
  },
  {
   "cell_type": "markdown",
   "metadata": {},
   "source": [
    "### Importações"
   ]
  },
  {
   "cell_type": "code",
   "execution_count": 71,
   "metadata": {},
   "outputs": [],
   "source": [
    "import scipy.io\n",
    "import numpy as np\n",
    "import os\n",
    "from librosa import stft\n",
    "from numpy import mean, sqrt, square, arange\n",
    "from sklearn import svm\n",
    "\n",
    "from sklearn.svm import SVC\n",
    "from sklearn.model_selection import train_test_split\n",
    "from sklearn.multiclass import OutputCodeClassifier\n",
    "from sklearn.svm import LinearSVC\n",
    "from sklearn.preprocessing import StandardScaler\n",
    "from sklearn import svm\n",
    "from sklearn.discriminant_analysis import LinearDiscriminantAnalysis\n",
    "from scipy.signal import welch\n",
    "from sklearn.metrics import (brier_score_loss, precision_score, recall_score,f1_score)"
   ]
  },
  {
   "cell_type": "markdown",
   "metadata": {},
   "source": [
    "#### Carregando o Dataset"
   ]
  },
  {
   "cell_type": "code",
   "execution_count": 72,
   "metadata": {},
   "outputs": [],
   "source": [
    "caminhos = [os.path.join(\"src\", nome) for nome in os.listdir(\"src\")]\n",
    "pessoas = []\n",
    "\n",
    "for essive in caminhos:\n",
    "    if essive != \"/novo.txt\":\n",
    "        mat = scipy.io.loadmat(essive)\n",
    "        tip = [mat['tip_ch1'], mat['tip_ch2']]\n",
    "        spher = [mat['spher_ch1'], mat['spher_ch2']]\n",
    "        palmar = [mat['palm_ch1'], mat['palm_ch2']]\n",
    "        lateral = [mat['lat_ch1'], mat['lat_ch2']]\n",
    "        cilindrical = [mat['cyl_ch1'], mat['cyl_ch2']]\n",
    "        hook = [mat['hook_ch1'], mat['hook_ch2']]\n",
    "        data = [tip, spher, palmar, lateral, cilindrical, hook]\n",
    "        data = np.array(data)\n",
    "        pessoas.append(data)  \n",
    "        \n",
    "\n",
    "\n",
    "\n",
    "\n",
    "#print(\" 6 movimentos,30 tentativas, 2 canais,  3000 coletas\")\n"
   ]
  },
  {
   "cell_type": "markdown",
   "metadata": {},
   "source": [
    "### Selecionando 1 dos Datasets"
   ]
  },
  {
   "cell_type": "code",
   "execution_count": 73,
   "metadata": {},
   "outputs": [],
   "source": [
    "dataone = pessoas[2]\n",
    "dataone = np.array(dataone)\n",
    "dataone = np.swapaxes(dataone,1,2)"
   ]
  },
  {
   "cell_type": "markdown",
   "metadata": {},
   "source": [
    "#### Shape após carregamento"
   ]
  },
  {
   "cell_type": "markdown",
   "metadata": {},
   "source": [
    "> 6 movimentos, 30 tentativas, 2 canais,  3000 coletas"
   ]
  },
  {
   "cell_type": "code",
   "execution_count": 74,
   "metadata": {},
   "outputs": [
    {
     "name": "stdout",
     "output_type": "stream",
     "text": [
      "(6, 30, 2, 3000)\n"
     ]
    }
   ],
   "source": [
    "print(dataone.shape)"
   ]
  },
  {
   "cell_type": "markdown",
   "metadata": {},
   "source": [
    "#### Segmentação"
   ]
  },
  {
   "cell_type": "code",
   "execution_count": 75,
   "metadata": {},
   "outputs": [
    {
     "name": "stdout",
     "output_type": "stream",
     "text": [
      "(6, 30, 2, 3000)\n",
      "Sobreposicao:         150.0\n",
      "Salto:                350.0\n",
      "Tamanho do segmento:  500.0\n",
      "(6, 30, 2, 12, 500)\n"
     ]
    }
   ],
   "source": [
    "datax = []\n",
    "segmentosize = (len(dataone[0,0,0,:]))/6\n",
    "salto = segmentosize * 0.7\n",
    "antpasso = segmentosize - salto\n",
    "print(dataone.shape)\n",
    "#dataone = dataone.reshape(6,30,2,25,)\n",
    "\n",
    "print(\"Sobreposicao:        \", antpasso)\n",
    "print(\"Salto:               \",salto)\n",
    "print(\"Tamanho do segmento: \",segmentosize)\n",
    "\n",
    "\n",
    "for movimento in dataone:  \n",
    "    tentativs = []\n",
    "    for tentativas in movimento:\n",
    "        canals = []\n",
    "        for canal in tentativas:\n",
    "            \n",
    "            listinha = []\n",
    "            listinha.append(canal[350:850])\n",
    "            listinha.append(canal[700:1200])\n",
    "            listinha.append(canal[1050:1550])\n",
    "            listinha.append(canal[1400:1900])\n",
    "            listinha.append(canal[1750:2250])\n",
    "            listinha.append(canal[2100:2600])\n",
    "            canals.append(np.split(canal,6) + listinha)\n",
    "        tentativs.append(canals)\n",
    "    datax.append( tentativs)\n",
    "datax = np.array(datax)\n",
    "print(datax.shape)"
   ]
  },
  {
   "cell_type": "markdown",
   "metadata": {},
   "source": [
    "![segmentacao](https://i.imgur.com/rWhhCop.png)\n"
   ]
  },
  {
   "cell_type": "markdown",
   "metadata": {},
   "source": [
    "#### Shape após segmentação"
   ]
  },
  {
   "cell_type": "markdown",
   "metadata": {},
   "source": [
    "##### 6 movimentos, 30 tentativas, 2 canais,  11 segmentos de 500 valores"
   ]
  },
  {
   "cell_type": "code",
   "execution_count": 76,
   "metadata": {},
   "outputs": [
    {
     "name": "stdout",
     "output_type": "stream",
     "text": [
      "(6, 30, 2, 12, 500)\n",
      "(30, 6, 2, 25, 240)\n"
     ]
    }
   ],
   "source": [
    "print(datax.shape)\n",
    "datax = np.swapaxes(datax, 0,1)\n",
    "datax = datax.reshape(30,6,2,25,240)\n",
    "print(datax.shape)"
   ]
  },
  {
   "cell_type": "code",
   "execution_count": 77,
   "metadata": {},
   "outputs": [],
   "source": [
    "def vaiSVC(X,y):\n",
    "    X_train, X_test, y_train, y_test = train_test_split(X, y, test_size = 0.4, shuffle=True)\n",
    "\n",
    "\n",
    "    for kernel in ['rbf']:#, 'linear']:\n",
    "        for gamma in [0.001, 0.01, 0.1]:\n",
    "            for C in [1, 10, 100, 1000]:\n",
    "                classificador = []\n",
    "                classificador = svm.SVC(gamma=gamma, C=C, kernel=kernel).fit(X_train, y_train)\n",
    "                print('acuracia:', (classificador.score(X_test, y_test)) * 100, 'kernel:', kernel, 'gamma:', gamma, 'C:', C)\n",
    "            \n",
    "\n",
    "    cls = []\n",
    "    cls = LinearDiscriminantAnalysis(solver='lsqr', shrinkage='auto', n_components=7).fit(X_train, y_train)\n",
    "    print('\\n acuracia:', cls.score(X_test, y_test) * 100)"
   ]
  },
  {
   "cell_type": "code",
   "execution_count": 97,
   "metadata": {},
   "outputs": [],
   "source": [
    "def vaiSVCustom(X,y, testsize, gamma, C, kernel):\n",
    "    X_train, X_test, y_train, y_test = train_test_split(X, y, test_size = testsize, shuffle=True)\n",
    "    classificador = []\n",
    "    classificador = svm.SVC(gamma=gamma, C=C, kernel=kernel).fit(X_train, y_train)\n",
    "    print('acuracia:', (classificador.score(X_test, y_test)) * 100, 'kernel:', kernel, 'gamma:', gamma, 'C:', C)\n",
    "            \n",
    "    "
   ]
  },
  {
   "cell_type": "code",
   "execution_count": 116,
   "metadata": {},
   "outputs": [],
   "source": [
    "def vaiSVCustomreturn(X,y, testsize, gamma, C, kernel):\n",
    "    X_train, X_test, y_train, y_test = train_test_split(X, y, test_size = testsize, shuffle=True)\n",
    "    classificador = []\n",
    "    classificador = svm.SVC(gamma=gamma, C=C, kernel=kernel).fit(X_train, y_train)\n",
    "    #print('acuracia:', (classificador.score(X_test, y_test)) * 100, 'kernel:', kernel, 'gamma:', gamma, 'C:', C)\n",
    "            \n",
    "    return ( (classificador.score(X_test, y_test)) * 100)"
   ]
  },
  {
   "cell_type": "markdown",
   "metadata": {},
   "source": [
    "# Parte 1 -  Usando features como característica"
   ]
  },
  {
   "cell_type": "markdown",
   "metadata": {},
   "source": [
    "## Parte 1.1 - Domínio do tempo"
   ]
  },
  {
   "cell_type": "code",
   "execution_count": 123,
   "metadata": {},
   "outputs": [
    {
     "name": "stdout",
     "output_type": "stream",
     "text": [
      "(30, 6, 2, 25, 240)\n",
      "(30, 6, 2, 25)\n",
      "(180, 50)\n"
     ]
    }
   ],
   "source": [
    "iemg = []\n",
    "rmslist = []\n",
    "varlist = []\n",
    "\n",
    "print(datax.shape)\n",
    "for tentativa in datax:\n",
    "    tmg = []\n",
    "    tms = []\n",
    "    tar = []\n",
    "    for movimento in tentativa:\n",
    "        mmg = []\n",
    "        mms = []\n",
    "        mar = []\n",
    "        for canal in movimento:\n",
    "            cmg = []\n",
    "            cms = []\n",
    "            car = []\n",
    "            for segmento in canal:\n",
    "                cmg.append((abs(segmento.sum())/ 500 ))\n",
    "                cms.append(sqrt(mean(square(segmento))))\n",
    "                car.append(np.var(segmento))\n",
    "                \n",
    "                \n",
    "            mmg.append(cmg)\n",
    "            mms.append(cms)\n",
    "            mar.append(car)\n",
    "        tmg.append(mmg)\n",
    "        tms.append(mms)\n",
    "        tar.append(mar)\n",
    "    iemg.append(tmg)\n",
    "    rmslist.append(tms)\n",
    "    varlist.append(tar)\n",
    "iemg = np.array(iemg)\n",
    "rmslist = np.array(rmslist)\n",
    "varlist = np.array(varlist)\n",
    "\n",
    "print(rmslist.shape)\n",
    "iemg = np.swapaxes(iemg,2,3)\n",
    "\n",
    "rmslist= np.swapaxes(rmslist,2,3)\n",
    "\n",
    "varlist = np.swapaxes(varlist,2,3)\n",
    "iemg = iemg.reshape(30*6,25*2)\n",
    "rmslist = rmslist.reshape(30*6,25*2)\n",
    "varlist = varlist.reshape(30*6,25*2)\n",
    "print(iemg.shape)"
   ]
  },
  {
   "cell_type": "markdown",
   "metadata": {},
   "source": [
    "### MAV"
   ]
  },
  {
   "cell_type": "code",
   "execution_count": 80,
   "metadata": {},
   "outputs": [
    {
     "name": "stdout",
     "output_type": "stream",
     "text": [
      "(180, 50)\n"
     ]
    }
   ],
   "source": [
    "\n",
    "print(iemg.shape)"
   ]
  },
  {
   "cell_type": "markdown",
   "metadata": {},
   "source": [
    "### RMS"
   ]
  },
  {
   "cell_type": "code",
   "execution_count": 81,
   "metadata": {},
   "outputs": [
    {
     "name": "stdout",
     "output_type": "stream",
     "text": [
      "(180, 50)\n"
     ]
    }
   ],
   "source": [
    "\n",
    "print(rmslist.shape)"
   ]
  },
  {
   "cell_type": "markdown",
   "metadata": {},
   "source": [
    "### VAR"
   ]
  },
  {
   "cell_type": "code",
   "execution_count": 82,
   "metadata": {
    "scrolled": true
   },
   "outputs": [
    {
     "name": "stdout",
     "output_type": "stream",
     "text": [
      "(180, 50)\n"
     ]
    }
   ],
   "source": [
    "\n",
    "print(varlist.shape)"
   ]
  },
  {
   "cell_type": "code",
   "execution_count": 83,
   "metadata": {},
   "outputs": [
    {
     "name": "stdout",
     "output_type": "stream",
     "text": [
      "(180, 150)\n",
      "(180, 150)\n"
     ]
    }
   ],
   "source": [
    "MRV = np.concatenate((rmslist,varlist,iemg),axis = -1)\n",
    "MRV = np.array(MRV)\n",
    "print(MRV.shape)"
   ]
  },
  {
   "cell_type": "markdown",
   "metadata": {},
   "source": [
    "### Criando o vetor de labels"
   ]
  },
  {
   "cell_type": "code",
   "execution_count": 84,
   "metadata": {},
   "outputs": [
    {
     "data": {
      "text/plain": [
       "(180,)"
      ]
     },
     "execution_count": 84,
     "metadata": {},
     "output_type": "execute_result"
    }
   ],
   "source": [
    "X = MRV\n",
    "y = np.array([[str(i)] * int(X.shape[0] / 6) for i in range(6)])\n",
    "y = y.reshape(y.shape[0] * y.shape[1])\n",
    "y.shape"
   ]
  },
  {
   "cell_type": "markdown",
   "metadata": {},
   "source": [
    "### Treinando no domínio do tempo"
   ]
  },
  {
   "cell_type": "code",
   "execution_count": 122,
   "metadata": {},
   "outputs": [
    {
     "name": "stdout",
     "output_type": "stream",
     "text": [
      "acuracia: 12.5 kernel: rbf gamma: 0.001 C: 1\n",
      "acuracia: 12.5 kernel: rbf gamma: 0.001 C: 10\n",
      "acuracia: 13.88888888888889 kernel: rbf gamma: 0.001 C: 100\n",
      "acuracia: 12.5 kernel: rbf gamma: 0.001 C: 1000\n",
      "acuracia: 12.5 kernel: rbf gamma: 0.01 C: 1\n",
      "acuracia: 12.5 kernel: rbf gamma: 0.01 C: 10\n",
      "acuracia: 11.11111111111111 kernel: rbf gamma: 0.01 C: 100\n",
      "acuracia: 15.277777777777779 kernel: rbf gamma: 0.01 C: 1000\n",
      "acuracia: 11.11111111111111 kernel: rbf gamma: 0.1 C: 1\n",
      "acuracia: 9.722222222222223 kernel: rbf gamma: 0.1 C: 10\n",
      "acuracia: 13.88888888888889 kernel: rbf gamma: 0.1 C: 100\n",
      "acuracia: 15.277777777777779 kernel: rbf gamma: 0.1 C: 1000\n",
      "\n",
      " acuracia: 15.277777777777779\n"
     ]
    },
    {
     "name": "stderr",
     "output_type": "stream",
     "text": [
      "/home/higor/Documentos/RP/lib/python3.5/site-packages/sklearn/discriminant_analysis.py:466: ChangedBehaviorWarning: n_components cannot be larger than min(n_features, n_classes - 1). Using min(n_features, n_classes - 1) = min(150, 6 - 1) = 5 components.\n",
      "  ChangedBehaviorWarning)\n",
      "/home/higor/Documentos/RP/lib/python3.5/site-packages/sklearn/discriminant_analysis.py:472: FutureWarning: In version 0.23, setting n_components > min(n_features, n_classes - 1) will raise a ValueError. You should set n_components to None (default), or a value smaller or equal to min(n_features, n_classes - 1).\n",
      "  warnings.warn(future_msg, FutureWarning)\n"
     ]
    }
   ],
   "source": [
    "vaiSVC(MRV,y)"
   ]
  },
  {
   "cell_type": "markdown",
   "metadata": {},
   "source": [
    "## Parte 1.2 -  Domínio da frequência"
   ]
  },
  {
   "cell_type": "markdown",
   "metadata": {},
   "source": [
    "### Transformação domínio da frequência  /> FFT"
   ]
  },
  {
   "cell_type": "code",
   "execution_count": 86,
   "metadata": {},
   "outputs": [
    {
     "name": "stdout",
     "output_type": "stream",
     "text": [
      "(6, 30, 2, 6000)\n",
      "(6, 30, 2, 25, 257)\n"
     ]
    }
   ],
   "source": [
    "\n",
    "data2 = np.swapaxes(datax, 1, 0)\n",
    "data2 = data2.reshape(6,30,2,12*500)\n",
    "print(data2.shape)\n",
    "from scipy.signal import stft\n",
    "_, _, w = stft(data2, fs=500, nperseg=512, noverlap=256)\n",
    "w = np.swapaxes(w, 3, 4)\n",
    "\n",
    "print(w.shape)"
   ]
  },
  {
   "cell_type": "markdown",
   "metadata": {},
   "source": [
    "### FMD"
   ]
  },
  {
   "cell_type": "code",
   "execution_count": 87,
   "metadata": {},
   "outputs": [
    {
     "name": "stdout",
     "output_type": "stream",
     "text": [
      "(6, 30, 2, 25)\n"
     ]
    }
   ],
   "source": [
    "def PSD(x):\n",
    "    return np.sqrt(np.abs(x))\n",
    "\n",
    "fmd = np.sum(PSD(w), axis=-1) / 2\n",
    "#fmd = fmd.reshape(6*30*2*41)\n",
    "print(fmd.shape)"
   ]
  },
  {
   "cell_type": "markdown",
   "metadata": {},
   "source": [
    "### MMDF"
   ]
  },
  {
   "cell_type": "code",
   "execution_count": 88,
   "metadata": {},
   "outputs": [
    {
     "name": "stdout",
     "output_type": "stream",
     "text": [
      "(6, 30, 2, 25)\n"
     ]
    }
   ],
   "source": [
    "mmdf = np.sum(np.abs(w), axis=-1) / 2\n",
    "#mmdf = mmdf.reshape(6*30*41*2)\n",
    "print(mmdf.shape)"
   ]
  },
  {
   "cell_type": "markdown",
   "metadata": {},
   "source": [
    "#### Unindo as características no domínio da frequência"
   ]
  },
  {
   "cell_type": "code",
   "execution_count": 89,
   "metadata": {},
   "outputs": [
    {
     "name": "stdout",
     "output_type": "stream",
     "text": [
      "(6, 30, 2, 25) (6, 30, 2, 25)\n",
      "(6, 30, 2, 50)\n",
      "(180, 100)\n"
     ]
    }
   ],
   "source": [
    "print(fmd.shape,mmdf.shape)\n",
    "\n",
    "FM = np.concatenate((fmd,mmdf), axis =-1)\n",
    "#FM = [fmd] + [mmdf]\n",
    "FM = np.array(FM)\n",
    "print(FM.shape)\n",
    "\n",
    "FM = FM.reshape(6*30,50*2)\n",
    "print(FM.shape)"
   ]
  },
  {
   "cell_type": "markdown",
   "metadata": {},
   "source": [
    "### Criando o vetor de labels"
   ]
  },
  {
   "cell_type": "code",
   "execution_count": 90,
   "metadata": {},
   "outputs": [
    {
     "data": {
      "text/plain": [
       "(180,)"
      ]
     },
     "execution_count": 90,
     "metadata": {},
     "output_type": "execute_result"
    }
   ],
   "source": [
    "X = FM\n",
    "y = np.array([[str(i)] * int(X.shape[0] / 6) for i in range(6)])\n",
    "y = y.reshape(y.shape[0] * y.shape[1])\n",
    "y.shape"
   ]
  },
  {
   "cell_type": "markdown",
   "metadata": {},
   "source": [
    "### Treinando e testando"
   ]
  },
  {
   "cell_type": "code",
   "execution_count": 91,
   "metadata": {},
   "outputs": [
    {
     "name": "stdout",
     "output_type": "stream",
     "text": [
      "acuracia: 86.11111111111111 kernel: rbf gamma: 0.001 C: 1\n",
      "acuracia: 88.88888888888889 kernel: rbf gamma: 0.001 C: 10\n",
      "acuracia: 93.05555555555556 kernel: rbf gamma: 0.001 C: 100\n",
      "acuracia: 94.44444444444444 kernel: rbf gamma: 0.001 C: 1000\n",
      "acuracia: 87.5 kernel: rbf gamma: 0.01 C: 1\n",
      "acuracia: 90.27777777777779 kernel: rbf gamma: 0.01 C: 10\n",
      "acuracia: 90.27777777777779 kernel: rbf gamma: 0.01 C: 100\n",
      "acuracia: 90.27777777777779 kernel: rbf gamma: 0.01 C: 1000\n",
      "acuracia: 48.61111111111111 kernel: rbf gamma: 0.1 C: 1\n",
      "acuracia: 54.166666666666664 kernel: rbf gamma: 0.1 C: 10\n",
      "acuracia: 54.166666666666664 kernel: rbf gamma: 0.1 C: 100\n",
      "acuracia: 54.166666666666664 kernel: rbf gamma: 0.1 C: 1000\n",
      "\n",
      " acuracia: 88.88888888888889\n"
     ]
    },
    {
     "name": "stderr",
     "output_type": "stream",
     "text": [
      "/home/higor/Documentos/RP/lib/python3.5/site-packages/sklearn/discriminant_analysis.py:466: ChangedBehaviorWarning: n_components cannot be larger than min(n_features, n_classes - 1). Using min(n_features, n_classes - 1) = min(100, 6 - 1) = 5 components.\n",
      "  ChangedBehaviorWarning)\n",
      "/home/higor/Documentos/RP/lib/python3.5/site-packages/sklearn/discriminant_analysis.py:472: FutureWarning: In version 0.23, setting n_components > min(n_features, n_classes - 1) will raise a ValueError. You should set n_components to None (default), or a value smaller or equal to min(n_features, n_classes - 1).\n",
      "  warnings.warn(future_msg, FutureWarning)\n"
     ]
    }
   ],
   "source": [
    "vaiSVC(FM,y)"
   ]
  },
  {
   "cell_type": "code",
   "execution_count": 92,
   "metadata": {},
   "outputs": [
    {
     "name": "stdout",
     "output_type": "stream",
     "text": [
      "(180, 100) (180, 150)\n"
     ]
    }
   ],
   "source": [
    "#FM = FM[:12960,:]\n",
    "\n",
    "print(FM.shape,MRV.shape)"
   ]
  },
  {
   "cell_type": "markdown",
   "metadata": {},
   "source": [
    "# Parte 1.3 -  Domínio da Frequência + Domínio do tempo"
   ]
  },
  {
   "cell_type": "code",
   "execution_count": 93,
   "metadata": {},
   "outputs": [
    {
     "name": "stdout",
     "output_type": "stream",
     "text": [
      "(180, 250)\n"
     ]
    }
   ],
   "source": [
    "Combo = np.concatenate((FM,MRV), axis= 1)\n",
    "\n",
    "#Combo = [FM] + [MRV]\n",
    "Combo = np.array(Combo)\n",
    "print(Combo.shape)"
   ]
  },
  {
   "cell_type": "markdown",
   "metadata": {},
   "source": [
    "### Criando vetor de labels"
   ]
  },
  {
   "cell_type": "code",
   "execution_count": 94,
   "metadata": {},
   "outputs": [
    {
     "data": {
      "text/plain": [
       "(180,)"
      ]
     },
     "execution_count": 94,
     "metadata": {},
     "output_type": "execute_result"
    }
   ],
   "source": [
    "X = Combo\n",
    "y = np.array([[str(i)] * int(X.shape[0] / 6) for i in range(6)])\n",
    "y = y.reshape(y.shape[0] * y.shape[1])\n",
    "y.shape"
   ]
  },
  {
   "cell_type": "markdown",
   "metadata": {},
   "source": [
    "### Treinando e testando"
   ]
  },
  {
   "cell_type": "code",
   "execution_count": 95,
   "metadata": {},
   "outputs": [
    {
     "name": "stdout",
     "output_type": "stream",
     "text": [
      "acuracia: 88.88888888888889 kernel: rbf gamma: 0.001 C: 1\n",
      "acuracia: 93.05555555555556 kernel: rbf gamma: 0.001 C: 10\n",
      "acuracia: 91.66666666666666 kernel: rbf gamma: 0.001 C: 100\n",
      "acuracia: 91.66666666666666 kernel: rbf gamma: 0.001 C: 1000\n",
      "acuracia: 90.27777777777779 kernel: rbf gamma: 0.01 C: 1\n",
      "acuracia: 90.27777777777779 kernel: rbf gamma: 0.01 C: 10\n",
      "acuracia: 90.27777777777779 kernel: rbf gamma: 0.01 C: 100\n",
      "acuracia: 90.27777777777779 kernel: rbf gamma: 0.01 C: 1000\n",
      "acuracia: 41.66666666666667 kernel: rbf gamma: 0.1 C: 1\n",
      "acuracia: 43.05555555555556 kernel: rbf gamma: 0.1 C: 10\n",
      "acuracia: 43.05555555555556 kernel: rbf gamma: 0.1 C: 100\n",
      "acuracia: 43.05555555555556 kernel: rbf gamma: 0.1 C: 1000\n",
      "\n",
      " acuracia: 81.94444444444444\n"
     ]
    },
    {
     "name": "stderr",
     "output_type": "stream",
     "text": [
      "/home/higor/Documentos/RP/lib/python3.5/site-packages/sklearn/discriminant_analysis.py:466: ChangedBehaviorWarning: n_components cannot be larger than min(n_features, n_classes - 1). Using min(n_features, n_classes - 1) = min(250, 6 - 1) = 5 components.\n",
      "  ChangedBehaviorWarning)\n",
      "/home/higor/Documentos/RP/lib/python3.5/site-packages/sklearn/discriminant_analysis.py:472: FutureWarning: In version 0.23, setting n_components > min(n_features, n_classes - 1) will raise a ValueError. You should set n_components to None (default), or a value smaller or equal to min(n_features, n_classes - 1).\n",
      "  warnings.warn(future_msg, FutureWarning)\n"
     ]
    }
   ],
   "source": [
    "vaiSVC(Combo,y)\n"
   ]
  },
  {
   "cell_type": "markdown",
   "metadata": {},
   "source": [
    "#### acuracia: 93.05555555555556 kernel: rbf gamma: 0.001 C: 10"
   ]
  },
  {
   "cell_type": "code",
   "execution_count": 99,
   "metadata": {},
   "outputs": [
    {
     "name": "stdout",
     "output_type": "stream",
     "text": [
      "acuracia: 97.22222222222221 kernel: rbf gamma: 0.001 C: 10\n"
     ]
    }
   ],
   "source": [
    "vaiSVCustom(X,y, 0.2, 0.001, 10, 'rbf')"
   ]
  },
  {
   "cell_type": "code",
   "execution_count": 102,
   "metadata": {},
   "outputs": [
    {
     "name": "stdout",
     "output_type": "stream",
     "text": [
      "acuracia: 94.44444444444444 kernel: rbf gamma: 0.01 C: 10\n"
     ]
    }
   ],
   "source": [
    "vaiSVCustom(X,y, 0.1, 0.01, 10, 'rbf')\n"
   ]
  },
  {
   "cell_type": "code",
   "execution_count": 117,
   "metadata": {},
   "outputs": [
    {
     "name": "stdout",
     "output_type": "stream",
     "text": [
      "94.44444444444444\n",
      "97.22222222222221\n",
      "91.66666666666666\n",
      "91.66666666666666\n",
      "97.22222222222221\n",
      "91.66666666666666\n",
      "91.66666666666666\n",
      "91.66666666666666\n",
      "91.66666666666666\n",
      "94.44444444444444\n",
      "91.66666666666666\n",
      "97.22222222222221\n",
      "91.66666666666666\n",
      "94.44444444444444\n",
      "94.44444444444444\n",
      "97.22222222222221\n",
      "94.44444444444444\n",
      "97.22222222222221\n",
      "91.66666666666666\n",
      "91.66666666666666\n",
      "91.66666666666666\n",
      "94.44444444444444\n",
      "97.22222222222221\n",
      "94.44444444444444\n",
      "94.44444444444444\n",
      "94.44444444444444\n",
      "91.66666666666666\n",
      "91.66666666666666\n",
      "94.44444444444444\n",
      "91.66666666666666\n",
      "94.44444444444444\n",
      "91.66666666666666\n",
      "91.66666666666666\n",
      "91.66666666666666\n",
      "91.66666666666666\n",
      "97.22222222222221\n",
      "94.44444444444444\n",
      "94.44444444444444\n",
      "91.66666666666666\n",
      "94.44444444444444\n",
      "94.44444444444444\n",
      "100.0\n",
      "100.0\n"
     ]
    }
   ],
   "source": [
    "retorno = 0.0\n",
    "while(retorno < 99.0):\n",
    "\n",
    "    retorno = vaiSVCustomreturn(X,y, 0.2, 0.001, 10, 'rbf')\n",
    "    if(retorno > 90.0):\n",
    "        print(retorno)\n",
    "print(retorno)"
   ]
  },
  {
   "cell_type": "code",
   "execution_count": null,
   "metadata": {},
   "outputs": [],
   "source": []
  }
 ],
 "metadata": {
  "kernelspec": {
   "display_name": "Python 3",
   "language": "python",
   "name": "python3"
  },
  "language_info": {
   "codemirror_mode": {
    "name": "ipython",
    "version": 3
   },
   "file_extension": ".py",
   "mimetype": "text/x-python",
   "name": "python",
   "nbconvert_exporter": "python",
   "pygments_lexer": "ipython3",
   "version": "3.5.3"
  }
 },
 "nbformat": 4,
 "nbformat_minor": 2
}
