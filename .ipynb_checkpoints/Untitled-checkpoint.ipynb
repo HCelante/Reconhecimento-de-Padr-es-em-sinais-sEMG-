{
 "cells": [
  {
   "cell_type": "markdown",
   "metadata": {},
   "source": [
    "### Importação das Bibliotecas\n"
   ]
  },
  {
   "cell_type": "code",
   "execution_count": 4,
   "metadata": {},
   "outputs": [],
   "source": [
    "from keras import regularizers\n",
    "from keras.models import Sequential\n",
    "from keras.layers import Dense, Dropout\n",
    "from keras.optimizers import SGD, Adam\n",
    "from keras.utils.np_utils import to_categorical\n",
    "import numpy as np\n",
    "from sklearn.metrics import classification_report, accuracy_score, confusion_matrix\n",
    "from sklearn.model_selection import GridSearchCV, train_test_split\n",
    "from sklearn.preprocessing import LabelEncoder\n",
    "from urllib.request import urlopen, urlretrieve\n",
    "\n",
    "import matplotlib.pyplot as plt\n",
    "%matplotlib inline\n"
   ]
  },
  {
   "cell_type": "markdown",
   "metadata": {},
   "source": [
    "### Carregando o Dataset"
   ]
  },
  {
   "cell_type": "code",
   "execution_count": 39,
   "metadata": {},
   "outputs": [
    {
     "name": "stdout",
     "output_type": "stream",
     "text": [
      "[['1' '1e-05' '-2e-05' ... '0' '-1e-05' '0']\n",
      " ['5' '1e-05' '-2e-05' ... '0' '-1e-05' '0']\n",
      " ['6' '-1e-05' '1e-05' ... '-1e-05' '1e-05' '0']\n",
      " ...\n",
      " ['65659' '-1e-05' '1e-05' ... '-1e-05' '-4e-05' '0']\n",
      " ['65660' '-1e-05' '1e-05' ... '-1e-05' '-4e-05' '0']\n",
      " ['65661' '-1e-05' '1e-05' ... '-1e-05' '-4e-05' '0']]\n",
      "63196\n",
      "(63196, 10)\n"
     ]
    }
   ],
   "source": [
    "filedata = open('Dataset/1.txt')\n",
    "data = filedata.read()\n",
    "\n",
    "datasetcru = np.array([s.split('\\t') for s in data.split('\\n')][1:-1]) # ignora a primeira linha\n",
    "#print(classes)\n",
    "print(dataset)\n",
    "print(len(dataset))\n",
    "print(dataset.shape)"
   ]
  },
  {
   "cell_type": "code",
   "execution_count": null,
   "metadata": {},
   "outputs": [],
   "source": []
  }
 ],
 "metadata": {
  "kernelspec": {
   "display_name": "Python 3",
   "language": "python",
   "name": "python3"
  },
  "language_info": {
   "codemirror_mode": {
    "name": "ipython",
    "version": 3
   },
   "file_extension": ".py",
   "mimetype": "text/x-python",
   "name": "python",
   "nbconvert_exporter": "python",
   "pygments_lexer": "ipython3",
   "version": "3.6.8"
  }
 },
 "nbformat": 4,
 "nbformat_minor": 2
}
