{
 "cells": [
  {
   "cell_type": "markdown",
   "metadata": {},
   "source": [
    "# Reconhecimento de Padrões\n",
    "#### UTFPR — Universidade Tecnológica Federal do Paraná \n",
    "#### Nomes: Rafael Menezes Barboza, Carlos Alexandre Peron dos Santos\n",
    "\n",
    "\n",
    "Este trabalho tem como objetivo buscar por caracteristicas na base \"EMG data for gestures Data Set\" e assim identificar posições das maos. O link abaixo é referente a base de dados utilizada disponivel para download.\n",
    "https://archive.ics.uci.edu/ml/datasets/EMG+data+for+gestures#\n",
    "\n",
    "O codigo fonte esta disponivel publicamente no GitHub e pode ser acessado pelo link abaixo.\n",
    "https://github.com/rmmenezes/ReconhecimentoDePadroes-UTFPR.git"
   ]
  },
  {
   "cell_type": "markdown",
   "metadata": {},
   "source": [
    "### Import das bibliotecas e estruturas necessárias"
   ]
  },
  {
   "cell_type": "code",
   "execution_count": 42,
   "metadata": {},
   "outputs": [],
   "source": [
    "import os\n",
    "import numpy as np\n",
    "import math\n",
    "from librosa import stft\n",
    "from scipy.signal import welch\n",
    "from sklearn.preprocessing import StandardScaler\n",
    "from sklearn.model_selection import train_test_split\n",
    "from sklearn import svm\n",
    "from sklearn.discriminant_analysis import LinearDiscriminantAnalysis\n",
    "\n",
    "X = []\n",
    "y = []\n",
    "caracteristicas = []\n",
    "classes = []"
   ]
  },
  {
   "cell_type": "markdown",
   "metadata": {},
   "source": [
    "### Leitura da base de dados.\n",
    "\n",
    "Os arquivos estão estruturados em 36 diretórios, equivalente aos 36 participantes do experimento.\n",
    "Cada diretório possui dois arquivos, equivalentes aos trials de cada participante.\n",
    "Cada arquivo possui leituras de 8 canais conectados ao ante-braço dos participantes durante um período de tempo não fixo. As leituras foram realizadas movimento à movimento alternados com intervalos de \"descanço\" (movimento não classificado - repouso).\n",
    "\n",
    "Por exemplo: leituras da classe 1, leituras durante repouso, leitruas da class 2, leituras durante repouso, leitruas da class 3..."
   ]
  },
  {
   "cell_type": "code",
   "execution_count": 43,
   "metadata": {},
   "outputs": [
    {
     "name": "stdout",
     "output_type": "stream",
     "text": [
      "(1816,) (1816,)\n"
     ]
    }
   ],
   "source": [
    "diretorio_db = \"../data/EMG_data_for_gestures-master\"\n",
    "pastas = os.listdir(diretorio_db)\n",
    "for pasta in pastas:\n",
    "    arquivos = os.listdir(diretorio_db + '/' + pasta)\n",
    "    for arquivo in arquivos:\n",
    "        #le o arquivo e divide linha por linha\n",
    "        conteudo = open(diretorio_db + '/' + pasta + '/' + arquivo).read().split('\\n')\n",
    "        #remove ultima linha (linha em branco)\n",
    "        conteudo.pop()\n",
    "        #remove primeira linha (cabecalho)\n",
    "        conteudo.pop(0)\n",
    "        classe_atual = '0'\n",
    "        experimento_caracteristicas = []\n",
    "        experimento_classes = []\n",
    "        for i in range(len(conteudo)):\n",
    "            conteudo[i] = conteudo[i].split('\\t')\n",
    "            #remove primeira linha (campo \"time\")\n",
    "            conteudo[i].pop(0)\n",
    "            if conteudo[i][-1] != classe_atual:\n",
    "                caracteristicas.append(experimento_caracteristicas)\n",
    "                if(len(experimento_classes)) == 0:\n",
    "                    classes.append('0')\n",
    "                else:\n",
    "                    classes.append(experimento_classes[0])\n",
    "                classe_atual = conteudo[i][-1]\n",
    "\n",
    "                experimento_caracteristicas = []\n",
    "                experimento_classes = []\n",
    "                experimento_caracteristicas.append(conteudo[i][:-1])\n",
    "                experimento_classes.append(conteudo[i][-1])\n",
    "            else:\n",
    "                experimento_caracteristicas.append(conteudo[i][:-1])\n",
    "                experimento_classes.append(conteudo[i][-1])\n",
    "            \n",
    "        caracteristicas.append(experimento_caracteristicas)\n",
    "        classes.append(experimento_classes[0])\n",
    "        \n",
    "\n",
    "for i in range(len(caracteristicas)):\n",
    "    for j in range(len(caracteristicas[i])):\n",
    "        for k in range(len(caracteristicas[i][j])):\n",
    "            caracteristicas[i][j][k] = float(caracteristicas[i][j][k])\n",
    "        caracteristicas[i][j] = np.array(caracteristicas[i][j])\n",
    "    caracteristicas[i] = np.array(caracteristicas[i])\n",
    "    classes[i] = np.array(classes[i])\n",
    "caracteristicas = np.array(caracteristicas)\n",
    "classes = np.array(classes)\n",
    "\n",
    "print(caracteristicas.shape, classes.shape)"
   ]
  },
  {
   "cell_type": "markdown",
   "metadata": {},
   "source": [
    "### Extração de informação primária necessária para cálculo das características no domínio do tempo."
   ]
  },
  {
   "cell_type": "code",
   "execution_count": 44,
   "metadata": {},
   "outputs": [],
   "source": [
    "quantos_valores = []\n",
    "\n",
    "somas_geral = []\n",
    "somas_temp = []\n",
    "\n",
    "somas_quadraticas = []\n",
    "somas_quadraticas_temp = []\n",
    "\n",
    "somas_quadraticas_sem_modulo = []\n",
    "somas_quadraticas_sem_modulo_temp = []\n",
    "\n",
    "somas_wf = []\n",
    "somas_wf_temp = []\n",
    "\n",
    "for i in range(8):\n",
    "    somas_temp.append(0.0)\n",
    "    somas_quadraticas_temp.append(0.0)\n",
    "    somas_wf_temp.append(0.0)\n",
    "    somas_quadraticas_sem_modulo_temp.append(0.0)\n",
    "\n",
    "for experimento in caracteristicas:\n",
    "    for tipo in experimento:\n",
    "        cont = 0\n",
    "        for i in range(len(tipo)):\n",
    "            somas_temp[i] += abs(float(tipo[i]))\n",
    "            somas_quadraticas_temp[i] += abs(float(tipo[i])) ** 2\n",
    "            somas_quadraticas_sem_modulo_temp[i] += float(tipo[i]) ** 2\n",
    "            cont += 1\n",
    "            if(cont < len(tipo) - 1):\n",
    "                somas_wf_temp[i] = abs(float(tipo[i+1]) - float(tipo[i]))\n",
    "    somas_geral.append(somas_temp)\n",
    "    somas_quadraticas.append(somas_quadraticas_temp)\n",
    "    somas_wf.append(somas_wf_temp)\n",
    "    somas_quadraticas_sem_modulo.append(somas_quadraticas_sem_modulo_temp)\n",
    "    \n",
    "    quantos_valores.append(cont)"
   ]
  },
  {
   "cell_type": "markdown",
   "metadata": {},
   "source": [
    "### Extração das características no domínio do tempo."
   ]
  },
  {
   "cell_type": "code",
   "execution_count": 45,
   "metadata": {},
   "outputs": [],
   "source": [
    "iemg = np.array(somas_geral)\n",
    "\n",
    "mav = np.array(somas_geral)\n",
    "for i in range(len(mav)):\n",
    "    for j in range(len(mav[i])):\n",
    "        mav[i][j] *= 1/len(quantos_valores)\n",
    "\n",
    "ssi = np.array(somas_quadraticas)\n",
    "\n",
    "mavs = mav\n",
    "for i in range(len(mavs)-1):\n",
    "    mavs[i] = mavs[i+1] - mavs[i]\n",
    "\n",
    "var = np.array(somas_quadraticas_sem_modulo)\n",
    "for i in range(len(var)):\n",
    "    for j in range(len(var[i])):\n",
    "        var[i][j] *= 1/(len(quantos_valores) - 1)\n",
    "\n",
    "rms = ssi\n",
    "for i in range(len(rms)):\n",
    "    for j in range(len(rms[i])):\n",
    "        rms[i][j] *= math.sqrt(1/len(quantos_valores))\n",
    "        \n",
    "wf = np.array(somas_wf)"
   ]
  },
  {
   "cell_type": "markdown",
   "metadata": {},
   "source": [
    "### Transformação do sinal para o domínio da frequência, e mais extração de caracteristicas."
   ]
  },
  {
   "cell_type": "code",
   "execution_count": 46,
   "metadata": {},
   "outputs": [
    {
     "name": "stderr",
     "output_type": "stream",
     "text": [
      "/home/todos/alunos/cm/a834173/Documentos/ReconhecimentoDePadroes-UTFPR/lib/python3.5/site-packages/scipy/signal/spectral.py:1969: UserWarning: nperseg = 256 is greater than input length  = 4, using nperseg = 4\n",
      "  .format(nperseg, input_length))\n",
      "/home/todos/alunos/cm/a834173/Documentos/ReconhecimentoDePadroes-UTFPR/lib/python3.5/site-packages/scipy/signal/spectral.py:1969: UserWarning: nperseg = 256 is greater than input length  = 3, using nperseg = 3\n",
      "  .format(nperseg, input_length))\n",
      "/home/todos/alunos/cm/a834173/Documentos/ReconhecimentoDePadroes-UTFPR/lib/python3.5/site-packages/scipy/signal/spectral.py:1969: UserWarning: nperseg = 256 is greater than input length  = 6, using nperseg = 6\n",
      "  .format(nperseg, input_length))\n",
      "/home/todos/alunos/cm/a834173/Documentos/ReconhecimentoDePadroes-UTFPR/lib/python3.5/site-packages/scipy/signal/spectral.py:1969: UserWarning: nperseg = 256 is greater than input length  = 5, using nperseg = 5\n",
      "  .format(nperseg, input_length))\n",
      "/home/todos/alunos/cm/a834173/Documentos/ReconhecimentoDePadroes-UTFPR/lib/python3.5/site-packages/scipy/signal/spectral.py:1969: UserWarning: nperseg = 256 is greater than input length  = 2, using nperseg = 2\n",
      "  .format(nperseg, input_length))\n",
      "/home/todos/alunos/cm/a834173/Documentos/ReconhecimentoDePadroes-UTFPR/lib/python3.5/site-packages/scipy/signal/spectral.py:1969: UserWarning: nperseg = 256 is greater than input length  = 8, using nperseg = 8\n",
      "  .format(nperseg, input_length))\n",
      "/home/todos/alunos/cm/a834173/Documentos/ReconhecimentoDePadroes-UTFPR/lib/python3.5/site-packages/scipy/signal/spectral.py:1969: UserWarning: nperseg = 256 is greater than input length  = 7, using nperseg = 7\n",
      "  .format(nperseg, input_length))\n",
      "/home/todos/alunos/cm/a834173/Documentos/ReconhecimentoDePadroes-UTFPR/lib/python3.5/site-packages/scipy/signal/spectral.py:1969: UserWarning: nperseg = 256 is greater than input length  = 9, using nperseg = 9\n",
      "  .format(nperseg, input_length))\n",
      "/home/todos/alunos/cm/a834173/Documentos/ReconhecimentoDePadroes-UTFPR/lib/python3.5/site-packages/scipy/signal/spectral.py:1969: UserWarning: nperseg = 256 is greater than input length  = 10, using nperseg = 10\n",
      "  .format(nperseg, input_length))\n",
      "/home/todos/alunos/cm/a834173/Documentos/ReconhecimentoDePadroes-UTFPR/lib/python3.5/site-packages/scipy/signal/spectral.py:1969: UserWarning: nperseg = 256 is greater than input length  = 11, using nperseg = 11\n",
      "  .format(nperseg, input_length))\n",
      "/home/todos/alunos/cm/a834173/Documentos/ReconhecimentoDePadroes-UTFPR/lib/python3.5/site-packages/scipy/signal/spectral.py:1969: UserWarning: nperseg = 256 is greater than input length  = 14, using nperseg = 14\n",
      "  .format(nperseg, input_length))\n",
      "/home/todos/alunos/cm/a834173/Documentos/ReconhecimentoDePadroes-UTFPR/lib/python3.5/site-packages/scipy/signal/spectral.py:1969: UserWarning: nperseg = 256 is greater than input length  = 12, using nperseg = 12\n",
      "  .format(nperseg, input_length))\n",
      "/home/todos/alunos/cm/a834173/Documentos/ReconhecimentoDePadroes-UTFPR/lib/python3.5/site-packages/scipy/signal/spectral.py:1969: UserWarning: nperseg = 256 is greater than input length  = 13, using nperseg = 13\n",
      "  .format(nperseg, input_length))\n",
      "/home/todos/alunos/cm/a834173/Documentos/ReconhecimentoDePadroes-UTFPR/lib/python3.5/site-packages/scipy/signal/spectral.py:1969: UserWarning: nperseg = 256 is greater than input length  = 40, using nperseg = 40\n",
      "  .format(nperseg, input_length))\n",
      "/home/todos/alunos/cm/a834173/Documentos/ReconhecimentoDePadroes-UTFPR/lib/python3.5/site-packages/scipy/signal/spectral.py:1969: UserWarning: nperseg = 256 is greater than input length  = 21, using nperseg = 21\n",
      "  .format(nperseg, input_length))\n"
     ]
    }
   ],
   "source": [
    "fmd = []\n",
    "fmn = []\n",
    "cont = 0\n",
    "for experimento in caracteristicas:\n",
    "    cont += 1\n",
    "    if len(experimento) == 0:\n",
    "        fmd.append(np.zeros(8))\n",
    "        fmn.append(np.zeros(8))\n",
    "    else:\n",
    "        somatorio_fmd = 0\n",
    "        somatorio_fmn = 0\n",
    "        fmd_temp = []\n",
    "        fmn_temp = []\n",
    "        for i in range(len(experimento[0])):\n",
    "            passo_necessario = np.asfortranarray(experimento[:,i])\n",
    "            transformada = np.abs(stft(passo_necessario, n_fft=512, hop_length=512))\n",
    "            psd = welch(transformada)\n",
    "            Fi = (cont * 500) / (2 * len(psd[1]))\n",
    "            for linha in psd[1]:\n",
    "                somatorio_fmd += linha.sum()\n",
    "                somatorio_fmn += linha.sum()\n",
    "            fmn_temp.append((Fi * somatorio_fmn) / somatorio_fmn)\n",
    "            fmd_temp.append(0.5 * somatorio_fmd)\n",
    "        fmd_temp = np.array(fmd_temp)\n",
    "        fmd.append(fmd_temp)\n",
    "        fmn_temp = np.array(fmn_temp)\n",
    "        fmn.append(fmn_temp)\n",
    "fmd = np.array(fmd)\n",
    "fmn = np.array(fmn)"
   ]
  },
  {
   "cell_type": "markdown",
   "metadata": {},
   "source": [
    "### Normalização das caracteristicas e divisão da base para treino (contendo 80% das amostras) e teste (contendo os 20% restantes)."
   ]
  },
  {
   "cell_type": "code",
   "execution_count": 47,
   "metadata": {},
   "outputs": [],
   "source": [
    "# iemg = iemg.mean(axis=1)\n",
    "# mav = mav.mean(axis=1)\n",
    "# ssi = ssi.mean(axis=1)\n",
    "# mavs = mavs.mean(axis=1)\n",
    "# var = var.mean(axis=1)\n",
    "# rms = rms.mean(axis=1)\n",
    "# wf = wf.mean(axis=1)\n",
    "\n",
    "# fmd = fmd.mean(axis=1)\n",
    "# fmn = fmn.mean(axis=1)\n",
    "\n",
    "\n",
    "X = np.concatenate((iemg, mav, ssi, mavs, var, rms, wf, fmd, fmn), axis=1)\n",
    "y = classes\n",
    "\n",
    "ss = StandardScaler()\n",
    "ss.fit(X)\n",
    "ss.transform(X)\n",
    "\n",
    "X_train, X_test, y_train, y_test = train_test_split(X, y, test_size = 0.2, shuffle=True)"
   ]
  },
  {
   "cell_type": "markdown",
   "metadata": {},
   "source": [
    "Classificação dos sinais.\n",
    "0 - dados não marcados,\n",
    "1 - mão em repouso,\n",
    "2 - mão fechada em punho,\n",
    "3 - flexão do punho,\n",
    "4 - extensão do punho,\n",
    "5 - desvios radiais,\n",
    "6 - desvios ulnares,\n",
    "7 - palma estendida (o gesto não foi realizado por todos os sujeitos)"
   ]
  },
  {
   "cell_type": "markdown",
   "metadata": {},
   "source": [
    "### Classificação.\n",
    "\n",
    "Classificação dos sinais:\n",
    "0 - dados não marcados;\n",
    "1 - mão em repouso;\n",
    "2 - mão fechada em punho;\n",
    "3 - flexão do punho;\n",
    "4 - extensão do punho;\n",
    "5 - desvios radiais;\n",
    "6 - desvios ulnares;\n",
    "7 - palma estendida (o gesto não foi realizado por todos os sujeitos).\n",
    "\n",
    "Utilização dos classificadores SVM e LDA.\n",
    "Para o classificador SVM, foram testados os valores de gamma 0.001, 0.01, 0.1, os valores de C 1, 10, 100, 1000, e os kernels \"rbf\" e \"linear\".\n",
    "\n",
    "Para o classificador LDA foram testados os solvers \"svd\" e \"lsqr\", mas descartado o \"svd\" por apresentar resultado muito abaixo do esperado."
   ]
  },
  {
   "cell_type": "code",
   "execution_count": 59,
   "metadata": {},
   "outputs": [
    {
     "name": "stdout",
     "output_type": "stream",
     "text": [
      "acuracia: 51.92307692307693 kernel: rbf gamma: 0.001 C: 1\n",
      "acuracia: 51.92307692307693 kernel: rbf gamma: 0.001 C: 10\n",
      "acuracia: 51.373626373626365 kernel: rbf gamma: 0.001 C: 100\n",
      "acuracia: 43.40659340659341 kernel: rbf gamma: 0.001 C: 1000\n",
      "acuracia: 51.92307692307693 kernel: rbf gamma: 0.01 C: 1\n",
      "acuracia: 9.065934065934066 kernel: rbf gamma: 0.01 C: 10\n",
      "acuracia: 4.1208791208791204 kernel: rbf gamma: 0.01 C: 100\n",
      "acuracia: 4.1208791208791204 kernel: rbf gamma: 0.01 C: 1000\n",
      "acuracia: 51.92307692307693 kernel: rbf gamma: 0.1 C: 1\n",
      "acuracia: 6.318681318681318 kernel: rbf gamma: 0.1 C: 10\n",
      "acuracia: 6.318681318681318 kernel: rbf gamma: 0.1 C: 100\n",
      "acuracia: 6.318681318681318 kernel: rbf gamma: 0.1 C: 1000\n",
      "\n",
      "LDA acuracia: 46.7032967032967\n"
     ]
    }
   ],
   "source": [
    "for kernel in ['rbf']:#, 'linear']:\n",
    "    for gamma in [0.001, 0.01, 0.1]:\n",
    "        for C in [1, 10, 100, 1000]:\n",
    "            classificador = []\n",
    "            classificador = svm.SVC(gamma=gamma, C=C, kernel=kernel).fit(X_train, y_train)\n",
    "            print('acuracia:', (classificador.score(X_test, y_test)) * 100, 'kernel:', kernel, 'gamma:', gamma, 'C:', C)\n",
    "            \n",
    "\n",
    "cls = []\n",
    "cls = LinearDiscriminantAnalysis(solver='lsqr', shrinkage='auto', n_components=7).fit(X_train, y_train)\n",
    "print('\\nLDA acuracia:', cls.score(X_test, y_test) * 100)"
   ]
  },
  {
   "cell_type": "code",
   "execution_count": null,
   "metadata": {},
   "outputs": [],
   "source": []
  }
 ],
 "metadata": {
  "kernelspec": {
   "display_name": "Python 3",
   "language": "python",
   "name": "python3"
  },
  "language_info": {
   "codemirror_mode": {
    "name": "ipython",
    "version": 3
   },
   "file_extension": ".py",
   "mimetype": "text/x-python",
   "name": "python",
   "nbconvert_exporter": "python",
   "pygments_lexer": "ipython3",
   "version": "3.7.3"
  }
 },
 "nbformat": 4,
 "nbformat_minor": 2
}
