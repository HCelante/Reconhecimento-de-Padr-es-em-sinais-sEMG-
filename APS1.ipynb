{
 "cells": [
  {
   "cell_type": "markdown",
   "metadata": {},
   "source": [
    "# Reconhecimentos de Padrões\n",
    "\n",
    "## Alunos: Henrique Ricardo Figueira, Higor Celante\n",
    "## Dataset: sEMG for Basic Hand movements Data Set\n",
    "\n",
    "\n",
    "A base de dados utilizada tem as seguintes características:\n",
    "\n",
    "- Série Temporal\n",
    "- 2 canais EMG\n",
    "- 5 arquivos\n",
    "\n",
    "Datasets:\n",
    " - 6s = 2 homens e 2 mulheres na fixa dos 22 anos executaram os 6 movimentos 30 vezes cada, cada movimento sendo coletado por 6s.\n",
    " - 5s = 1 homem executou os 6 movimentos 100 vezes cada, por 5s cada movimento.\n",
    " \n",
    "Movimentos:\n",
    "\n",
    "- Esférico\n",
    "- Palma aberta\n",
    "- Lateral\n",
    "- Cilíndrico\n",
    "- Gancho\n",
    "- Pinça\n"
   ]
  },
  {
   "cell_type": "markdown",
   "metadata": {},
   "source": [
    "![movimentos](https://i.imgur.com/0faxxKu.png)"
   ]
  },
  {
   "cell_type": "markdown",
   "metadata": {},
   "source": [
    "### Importações"
   ]
  },
  {
   "cell_type": "code",
   "execution_count": 1,
   "metadata": {},
   "outputs": [],
   "source": [
    "import scipy.io\n",
    "import numpy as np\n",
    "import os\n",
    "from librosa import stft\n",
    "from numpy import mean, sqrt, square, arange\n",
    "from sklearn import svm\n",
    "\n",
    "from sklearn.svm import SVC\n",
    "from sklearn.model_selection import train_test_split\n",
    "from sklearn.multiclass import OutputCodeClassifier\n",
    "from sklearn.svm import LinearSVC\n",
    "from sklearn.preprocessing import StandardScaler\n",
    "from sklearn import svm\n",
    "from sklearn.discriminant_analysis import LinearDiscriminantAnalysis\n",
    "from scipy.signal import welch\n",
    "from sklearn.metrics import (brier_score_loss, precision_score, recall_score,f1_score)"
   ]
  },
  {
   "cell_type": "markdown",
   "metadata": {},
   "source": [
    "#### Carregando o Dataset"
   ]
  },
  {
   "cell_type": "code",
   "execution_count": 2,
   "metadata": {},
   "outputs": [],
   "source": [
    "caminhos = [os.path.join(\"src\", nome) for nome in os.listdir(\"src\")]\n",
    "pessoas = []\n",
    "\n",
    "for essive in caminhos:\n",
    "    if essive != \"/novo.txt\":\n",
    "        mat = scipy.io.loadmat(essive)\n",
    "        tip = [mat['tip_ch1'], mat['tip_ch2']]\n",
    "        spher = [mat['spher_ch1'], mat['spher_ch2']]\n",
    "        palmar = [mat['palm_ch1'], mat['palm_ch2']]\n",
    "        lateral = [mat['lat_ch1'], mat['lat_ch2']]\n",
    "        cilindrical = [mat['cyl_ch1'], mat['cyl_ch2']]\n",
    "        hook = [mat['hook_ch1'], mat['hook_ch2']]\n",
    "        data = [tip, spher, palmar, lateral, cilindrical, hook]\n",
    "        data = np.array(data)\n",
    "        pessoas.append(data)  \n",
    "        \n",
    "\n",
    "\n",
    "\n",
    "\n",
    "#print(\" 6 movimentos,30 tentativas, 2 canais,  3000 coletas\")\n"
   ]
  },
  {
   "cell_type": "markdown",
   "metadata": {},
   "source": [
    "### Selecionando 1 dos Datasets"
   ]
  },
  {
   "cell_type": "code",
   "execution_count": 3,
   "metadata": {},
   "outputs": [],
   "source": [
    "dataone = pessoas[2]\n",
    "dataone = np.array(dataone)\n",
    "dataone = np.swapaxes(dataone,1,2)"
   ]
  },
  {
   "cell_type": "markdown",
   "metadata": {},
   "source": [
    "#### Shape após carregamento"
   ]
  },
  {
   "cell_type": "markdown",
   "metadata": {},
   "source": [
    "> 6 movimentos, 30 tentativas, 2 canais,  3000 coletas"
   ]
  },
  {
   "cell_type": "code",
   "execution_count": 4,
   "metadata": {},
   "outputs": [
    {
     "name": "stdout",
     "output_type": "stream",
     "text": [
      "(6, 30, 2, 3000)\n"
     ]
    }
   ],
   "source": [
    "print(dataone.shape)"
   ]
  },
  {
   "cell_type": "markdown",
   "metadata": {},
   "source": [
    "#### Segmentação"
   ]
  },
  {
   "cell_type": "code",
   "execution_count": 5,
   "metadata": {},
   "outputs": [
    {
     "name": "stdout",
     "output_type": "stream",
     "text": [
      "(6, 30, 2, 3000)\n",
      "Sobreposicao:         150.0\n",
      "Salto:                350.0\n",
      "Tamanho do segmento:  500.0\n"
     ]
    }
   ],
   "source": [
    "datax = []\n",
    "segmentosize = (len(dataone[0,0,0,:]))/6\n",
    "salto = segmentosize * 0.7\n",
    "antpasso = segmentosize - salto\n",
    "print(dataone.shape)\n",
    "#dataone = dataone.reshape(6,30,2,25,)\n",
    "\n",
    "print(\"Sobreposicao:        \", antpasso)\n",
    "print(\"Salto:               \",salto)\n",
    "print(\"Tamanho do segmento: \",segmentosize)\n",
    "\n",
    "\n",
    "for movimento in dataone:  \n",
    "    tentativs = []\n",
    "    for tentativas in movimento:\n",
    "        canals = []\n",
    "        for canal in tentativas:\n",
    "            \n",
    "            listinha = []\n",
    "            listinha.append(canal[350:850])\n",
    "            listinha.append(canal[700:1200])\n",
    "            listinha.append(canal[1050:1550])\n",
    "            listinha.append(canal[1400:1900])\n",
    "            listinha.append(canal[1750:2250])\n",
    "            listinha.append(canal[2100:2600])\n",
    "            canals.append(np.split(canal,6) + listinha)\n",
    "        tentativs.append(canals)\n",
    "    datax.append( tentativs)\n",
    "datax = np.array(datax)\n"
   ]
  },
  {
   "cell_type": "markdown",
   "metadata": {},
   "source": [
    "![segmentacao](https://i.imgur.com/rWhhCop.png)\n"
   ]
  },
  {
   "cell_type": "markdown",
   "metadata": {},
   "source": [
    "#### Shape após segmentação"
   ]
  },
  {
   "cell_type": "markdown",
   "metadata": {},
   "source": [
    "##### 6 movimentos, 30 tentativas, 2 canais,  11 segmentos de 500 valores"
   ]
  },
  {
   "cell_type": "code",
   "execution_count": 6,
   "metadata": {},
   "outputs": [
    {
     "name": "stdout",
     "output_type": "stream",
     "text": [
      "(6, 30, 2, 12, 500)\n",
      "(30, 6, 2, 25, 240)\n"
     ]
    }
   ],
   "source": [
    "print(datax.shape)\n",
    "datax = np.swapaxes(datax, 0,1)\n",
    "datax = datax.reshape(30,6,2,25,240)\n",
    "print(datax.shape)"
   ]
  },
  {
   "cell_type": "code",
   "execution_count": 7,
   "metadata": {},
   "outputs": [],
   "source": [
    "def vaiSVC(X,y):\n",
    "    X_train, X_test, y_train, y_test = train_test_split(X, y, test_size = 0.4, shuffle=True)\n",
    "\n",
    "\n",
    "    for kernel in ['rbf']:#, 'linear']:\n",
    "        for gamma in [0.001, 0.01, 0.1]:\n",
    "            for C in [1, 10, 100, 1000]:\n",
    "                classificador = []\n",
    "                classificador = svm.SVC(gamma=gamma, C=C, kernel=kernel).fit(X_train, y_train)\n",
    "                print('acuracia:', (classificador.score(X_test, y_test)) * 100, 'kernel:', kernel, 'gamma:', gamma, 'C:', C)\n",
    "            \n",
    "\n",
    "    cls = []\n",
    "    cls = LinearDiscriminantAnalysis(solver='lsqr', shrinkage='auto', n_components=7).fit(X_train, y_train)\n",
    "    print('\\n acuracia:', cls.score(X_test, y_test) * 100)"
   ]
  },
  {
   "cell_type": "markdown",
   "metadata": {},
   "source": [
    "# Parte 1 -  Usando features como característica"
   ]
  },
  {
   "cell_type": "markdown",
   "metadata": {},
   "source": [
    "## Parte 1.1 - Domínio do tempo"
   ]
  },
  {
   "cell_type": "code",
   "execution_count": 8,
   "metadata": {},
   "outputs": [
    {
     "name": "stdout",
     "output_type": "stream",
     "text": [
      "(30, 6, 25, 2)\n",
      "(4500, 2)\n"
     ]
    }
   ],
   "source": [
    "iemg = []\n",
    "rmslist = []\n",
    "varlist = []\n",
    "\n",
    "\n",
    "for tentativa in datax:\n",
    "    tmg = []\n",
    "    tms = []\n",
    "    tar = []\n",
    "    for movimento in tentativa:\n",
    "        mmg = []\n",
    "        mms = []\n",
    "        mar = []\n",
    "        for canal in movimento:\n",
    "            cmg = []\n",
    "            cms = []\n",
    "            car = []\n",
    "            for segmento in canal:\n",
    "                cmg.append((abs(segmento.sum())/ 500 ))\n",
    "                cms.append(sqrt(mean(square(segmento))))\n",
    "                car.append(np.var(segmento))\n",
    "                \n",
    "                \n",
    "            mmg.append(cmg)\n",
    "            mms.append(cms)\n",
    "            mar.append(car)\n",
    "        tmg.append(mmg)\n",
    "        tms.append(mms)\n",
    "        tar.append(mar)\n",
    "    iemg.append(tmg)\n",
    "    rmslist.append(tms)\n",
    "    varlist.append(tar)\n",
    "iemg = np.array(iemg)\n",
    "rmslist = np.array(rmslist)\n",
    "varlist = np.array(varlist)\n",
    "\n",
    "\n",
    "# Trecho dedicado a pt 2\n",
    "#print(auxiemg.shape)\n",
    "#auxiemg = iemg.swapaxes(1,3)\n",
    "#print(auxiemg.shape)\n",
    "#auxrmslist = rmslist.swapaxes(1,3)\n",
    "#auxvarlist = varlist.swapaxes(1,3)\n",
    "#print(auxiemg.shape)\n",
    "#auxiemg = auxiemg.reshape(30*2*12,6)\n",
    "#auxrmslist = auxrmslist.reshape(30*2*12,6)\n",
    "#auxvarlist = auxvarlist.reshape(30*2*12,6)\n",
    "\n",
    "#pt2list = np.concatenate((auxrmslist,auxvarlist,auxiemg),axis = 3)\n",
    "#print(\"shape para pt2\", pt2list.shape)\n",
    "\n",
    "\n",
    "######\n",
    "\n",
    "iemg = np.swapaxes(iemg,2,3)\n",
    "\n",
    "rmslist= np.swapaxes(rmslist,2,3)\n",
    "print(rmslist.shape)\n",
    "varlist = np.swapaxes(varlist,2,3)\n",
    "iemg = iemg.reshape(30*6*25,2)\n",
    "rmslist = rmslist.reshape(30*6*25,2)\n",
    "varlist = varlist.reshape(30*6*25,2)\n",
    "print(iemg.shape)"
   ]
  },
  {
   "cell_type": "markdown",
   "metadata": {},
   "source": [
    "### MAV"
   ]
  },
  {
   "cell_type": "code",
   "execution_count": 9,
   "metadata": {},
   "outputs": [
    {
     "name": "stdout",
     "output_type": "stream",
     "text": [
      "(4500, 2)\n"
     ]
    }
   ],
   "source": [
    "\n",
    "print(iemg.shape)"
   ]
  },
  {
   "cell_type": "markdown",
   "metadata": {},
   "source": [
    "### RMS"
   ]
  },
  {
   "cell_type": "code",
   "execution_count": 10,
   "metadata": {},
   "outputs": [
    {
     "name": "stdout",
     "output_type": "stream",
     "text": [
      "(4500, 2)\n"
     ]
    }
   ],
   "source": [
    "\n",
    "print(rmslist.shape)"
   ]
  },
  {
   "cell_type": "markdown",
   "metadata": {},
   "source": [
    "### VAR"
   ]
  },
  {
   "cell_type": "code",
   "execution_count": 11,
   "metadata": {
    "scrolled": true
   },
   "outputs": [
    {
     "name": "stdout",
     "output_type": "stream",
     "text": [
      "(4500, 2)\n"
     ]
    }
   ],
   "source": [
    "\n",
    "print(varlist.shape)"
   ]
  },
  {
   "cell_type": "code",
   "execution_count": 12,
   "metadata": {},
   "outputs": [
    {
     "name": "stdout",
     "output_type": "stream",
     "text": [
      "(3, 4500, 2)\n",
      "(4500, 6)\n"
     ]
    }
   ],
   "source": [
    "#MRV = np.concatenate((rmslist,varlist,iemg),axis = 0)\n",
    "MRV = [rmslist] + [varlist] + [iemg]\n",
    "MRV = np.array(MRV)\n",
    "print(MRV.shape)\n",
    "MRV = MRV.swapaxes(0,1)\n",
    "\n",
    "MRV = MRV.reshape(4500,3*2)\n",
    "print(MRV.shape)"
   ]
  },
  {
   "cell_type": "markdown",
   "metadata": {},
   "source": [
    "### Criando o vetor de labels"
   ]
  },
  {
   "cell_type": "code",
   "execution_count": 13,
   "metadata": {},
   "outputs": [
    {
     "data": {
      "text/plain": [
       "(4500,)"
      ]
     },
     "execution_count": 13,
     "metadata": {},
     "output_type": "execute_result"
    }
   ],
   "source": [
    "X = MRV\n",
    "y = np.array([[str(i)] * int(X.shape[0] / 6) for i in range(6)])\n",
    "y = y.reshape(y.shape[0] * y.shape[1])\n",
    "#y = y.swapaxes(0,1)\n",
    "y.shape\n"
   ]
  },
  {
   "cell_type": "markdown",
   "metadata": {},
   "source": [
    "### Treinando no domínio do tempo"
   ]
  },
  {
   "cell_type": "code",
   "execution_count": 14,
   "metadata": {},
   "outputs": [
    {
     "name": "stdout",
     "output_type": "stream",
     "text": [
      "acuracia: 16.27777777777778 kernel: rbf gamma: 0.001 C: 1\n",
      "acuracia: 17.833333333333336 kernel: rbf gamma: 0.001 C: 10\n",
      "acuracia: 18.61111111111111 kernel: rbf gamma: 0.001 C: 100\n",
      "acuracia: 18.555555555555557 kernel: rbf gamma: 0.001 C: 1000\n",
      "acuracia: 17.72222222222222 kernel: rbf gamma: 0.01 C: 1\n",
      "acuracia: 18.555555555555557 kernel: rbf gamma: 0.01 C: 10\n",
      "acuracia: 18.666666666666668 kernel: rbf gamma: 0.01 C: 100\n",
      "acuracia: 18.166666666666668 kernel: rbf gamma: 0.01 C: 1000\n",
      "acuracia: 18.61111111111111 kernel: rbf gamma: 0.1 C: 1\n",
      "acuracia: 19.88888888888889 kernel: rbf gamma: 0.1 C: 10\n",
      "acuracia: 19.611111111111114 kernel: rbf gamma: 0.1 C: 100\n",
      "acuracia: 22.333333333333332 kernel: rbf gamma: 0.1 C: 1000\n",
      "\n",
      " acuracia: 18.11111111111111\n"
     ]
    },
    {
     "name": "stderr",
     "output_type": "stream",
     "text": [
      "/home/higor/Documentos/RP/lib/python3.5/site-packages/sklearn/discriminant_analysis.py:466: ChangedBehaviorWarning: n_components cannot be larger than min(n_features, n_classes - 1). Using min(n_features, n_classes - 1) = min(6, 6 - 1) = 5 components.\n",
      "  ChangedBehaviorWarning)\n",
      "/home/higor/Documentos/RP/lib/python3.5/site-packages/sklearn/discriminant_analysis.py:472: FutureWarning: In version 0.23, setting n_components > min(n_features, n_classes - 1) will raise a ValueError. You should set n_components to None (default), or a value smaller or equal to min(n_features, n_classes - 1).\n",
      "  warnings.warn(future_msg, FutureWarning)\n"
     ]
    }
   ],
   "source": [
    "vaiSVC(MRV,y)"
   ]
  },
  {
   "cell_type": "markdown",
   "metadata": {},
   "source": [
    "## Parte 1.2 -  Domínio da frequência"
   ]
  },
  {
   "cell_type": "markdown",
   "metadata": {},
   "source": [
    "### Transformação domínio da frequência  /> FFT"
   ]
  },
  {
   "cell_type": "code",
   "execution_count": 15,
   "metadata": {},
   "outputs": [
    {
     "name": "stdout",
     "output_type": "stream",
     "text": [
      "(6, 30, 2, 6000)\n",
      "(6, 30, 2, 25, 257)\n"
     ]
    }
   ],
   "source": [
    "\n",
    "data2 = np.swapaxes(datax, 1, 0)\n",
    "data2 = data2.reshape(6,30,2,12*500)\n",
    "print(data2.shape)\n",
    "from scipy.signal import stft\n",
    "_, _, w = stft(data2, fs=500, nperseg=512, noverlap=256)\n",
    "w = np.swapaxes(w, 3, 4)\n",
    "\n",
    "print(w.shape)"
   ]
  },
  {
   "cell_type": "markdown",
   "metadata": {},
   "source": [
    "### FMD"
   ]
  },
  {
   "cell_type": "code",
   "execution_count": 16,
   "metadata": {},
   "outputs": [
    {
     "name": "stdout",
     "output_type": "stream",
     "text": [
      "(6, 30, 2, 25)\n"
     ]
    }
   ],
   "source": [
    "def PSD(x):\n",
    "    return np.sqrt(np.abs(x))\n",
    "\n",
    "fmd = np.sum(PSD(w), axis=-1) / 2\n",
    "#fmd = fmd.reshape(6*30*2*41)\n",
    "print(fmd.shape)"
   ]
  },
  {
   "cell_type": "markdown",
   "metadata": {},
   "source": [
    "### MMDF"
   ]
  },
  {
   "cell_type": "code",
   "execution_count": 17,
   "metadata": {},
   "outputs": [
    {
     "name": "stdout",
     "output_type": "stream",
     "text": [
      "(6, 30, 2, 25)\n"
     ]
    }
   ],
   "source": [
    "mmdf = np.sum(np.abs(w), axis=-1) / 2\n",
    "#mmdf = mmdf.reshape(6*30*41*2)\n",
    "print(mmdf.shape)"
   ]
  },
  {
   "cell_type": "markdown",
   "metadata": {},
   "source": [
    "#### Unindo as características no domínio da frequência"
   ]
  },
  {
   "cell_type": "code",
   "execution_count": 20,
   "metadata": {},
   "outputs": [
    {
     "name": "stdout",
     "output_type": "stream",
     "text": [
      "(2, 6, 30, 2, 25)\n",
      "(30, 6, 25, 2, 2)\n",
      "(4500, 4)\n"
     ]
    }
   ],
   "source": [
    "\n",
    "\n",
    "#FM = np.concatenate((fmd,mmdf), axis =-1)\n",
    "FM = [fmd] + [mmdf]\n",
    "FM = np.array(FM)\n",
    "print(FM.shape)\n",
    "FM = FM.swapaxes(0,-1)\n",
    "FM = FM.swapaxes(0,2)\n",
    "print(FM.shape)\n",
    "FM = FM.reshape(6*30*25,2*2)\n",
    "print(FM.shape)"
   ]
  },
  {
   "cell_type": "markdown",
   "metadata": {},
   "source": [
    "### Criando o vetor de labels"
   ]
  },
  {
   "cell_type": "code",
   "execution_count": 21,
   "metadata": {},
   "outputs": [
    {
     "data": {
      "text/plain": [
       "(4500,)"
      ]
     },
     "execution_count": 21,
     "metadata": {},
     "output_type": "execute_result"
    }
   ],
   "source": [
    "X = FM\n",
    "y = np.array([[str(i)] * int(X.shape[0] / 6) for i in range(6)])\n",
    "y = y.reshape(y.shape[0] * y.shape[1])\n",
    "y.shape"
   ]
  },
  {
   "cell_type": "markdown",
   "metadata": {},
   "source": [
    "### Treinando e testando"
   ]
  },
  {
   "cell_type": "code",
   "execution_count": 22,
   "metadata": {},
   "outputs": [
    {
     "name": "stdout",
     "output_type": "stream",
     "text": [
      "acuracia: 16.27777777777778 kernel: rbf gamma: 0.001 C: 1\n",
      "acuracia: 18.11111111111111 kernel: rbf gamma: 0.001 C: 10\n",
      "acuracia: 26.38888888888889 kernel: rbf gamma: 0.001 C: 100\n",
      "acuracia: 28.61111111111111 kernel: rbf gamma: 0.001 C: 1000\n",
      "acuracia: 26.833333333333332 kernel: rbf gamma: 0.01 C: 1\n",
      "acuracia: 29.27777777777778 kernel: rbf gamma: 0.01 C: 10\n",
      "acuracia: 32.22222222222222 kernel: rbf gamma: 0.01 C: 100\n",
      "acuracia: 32.611111111111114 kernel: rbf gamma: 0.01 C: 1000\n",
      "acuracia: 34.61111111111111 kernel: rbf gamma: 0.1 C: 1\n",
      "acuracia: 36.666666666666664 kernel: rbf gamma: 0.1 C: 10\n",
      "acuracia: 37.111111111111114 kernel: rbf gamma: 0.1 C: 100\n",
      "acuracia: 38.55555555555556 kernel: rbf gamma: 0.1 C: 1000\n",
      "\n",
      " acuracia: 16.72222222222222\n"
     ]
    },
    {
     "name": "stderr",
     "output_type": "stream",
     "text": [
      "/home/higor/Documentos/RP/lib/python3.5/site-packages/sklearn/discriminant_analysis.py:466: ChangedBehaviorWarning: n_components cannot be larger than min(n_features, n_classes - 1). Using min(n_features, n_classes - 1) = min(4, 6 - 1) = 4 components.\n",
      "  ChangedBehaviorWarning)\n",
      "/home/higor/Documentos/RP/lib/python3.5/site-packages/sklearn/discriminant_analysis.py:472: FutureWarning: In version 0.23, setting n_components > min(n_features, n_classes - 1) will raise a ValueError. You should set n_components to None (default), or a value smaller or equal to min(n_features, n_classes - 1).\n",
      "  warnings.warn(future_msg, FutureWarning)\n"
     ]
    }
   ],
   "source": [
    "vaiSVC(FM,y)"
   ]
  },
  {
   "cell_type": "code",
   "execution_count": 23,
   "metadata": {},
   "outputs": [
    {
     "name": "stdout",
     "output_type": "stream",
     "text": [
      "(4500, 4) (4500, 6)\n"
     ]
    }
   ],
   "source": [
    "#FM = FM[:12960,:]\n",
    "\n",
    "print(FM.shape,MRV.shape)"
   ]
  },
  {
   "cell_type": "markdown",
   "metadata": {},
   "source": [
    "# Parte 1.3 -  Domínio da Frequência + Domínio do tempo"
   ]
  },
  {
   "cell_type": "code",
   "execution_count": 25,
   "metadata": {},
   "outputs": [
    {
     "name": "stdout",
     "output_type": "stream",
     "text": [
      "(4500, 10)\n"
     ]
    }
   ],
   "source": [
    "Combo = np.concatenate((FM,MRV), axis= 1)\n",
    "\n",
    "#Combo = [FM] + [MRV]\n",
    "Combo = np.array(Combo)\n",
    "print(Combo.shape)"
   ]
  },
  {
   "cell_type": "markdown",
   "metadata": {},
   "source": [
    "### Criando vetor de labels"
   ]
  },
  {
   "cell_type": "code",
   "execution_count": 26,
   "metadata": {},
   "outputs": [
    {
     "data": {
      "text/plain": [
       "(4500,)"
      ]
     },
     "execution_count": 26,
     "metadata": {},
     "output_type": "execute_result"
    }
   ],
   "source": [
    "X = Combo\n",
    "y = np.array([[str(i)] * int(X.shape[0] / 6) for i in range(6)])\n",
    "y = y.reshape(y.shape[0] * y.shape[1])\n",
    "y.shape"
   ]
  },
  {
   "cell_type": "markdown",
   "metadata": {},
   "source": [
    "### Treinando e testando"
   ]
  },
  {
   "cell_type": "code",
   "execution_count": 27,
   "metadata": {},
   "outputs": [
    {
     "name": "stdout",
     "output_type": "stream",
     "text": [
      "acuracia: 16.055555555555557 kernel: rbf gamma: 0.001 C: 1\n",
      "acuracia: 18.944444444444443 kernel: rbf gamma: 0.001 C: 10\n",
      "acuracia: 21.38888888888889 kernel: rbf gamma: 0.001 C: 100\n",
      "acuracia: 25.0 kernel: rbf gamma: 0.001 C: 1000\n",
      "acuracia: 23.77777777777778 kernel: rbf gamma: 0.01 C: 1\n",
      "acuracia: 26.611111111111114 kernel: rbf gamma: 0.01 C: 10\n",
      "acuracia: 28.444444444444443 kernel: rbf gamma: 0.01 C: 100\n",
      "acuracia: 31.333333333333336 kernel: rbf gamma: 0.01 C: 1000\n",
      "acuracia: 32.27777777777778 kernel: rbf gamma: 0.1 C: 1\n",
      "acuracia: 34.22222222222222 kernel: rbf gamma: 0.1 C: 10\n",
      "acuracia: 38.0 kernel: rbf gamma: 0.1 C: 100\n",
      "acuracia: 40.11111111111111 kernel: rbf gamma: 0.1 C: 1000\n",
      "\n",
      " acuracia: 17.333333333333336\n"
     ]
    },
    {
     "name": "stderr",
     "output_type": "stream",
     "text": [
      "/home/higor/Documentos/RP/lib/python3.5/site-packages/sklearn/discriminant_analysis.py:466: ChangedBehaviorWarning: n_components cannot be larger than min(n_features, n_classes - 1). Using min(n_features, n_classes - 1) = min(10, 6 - 1) = 5 components.\n",
      "  ChangedBehaviorWarning)\n",
      "/home/higor/Documentos/RP/lib/python3.5/site-packages/sklearn/discriminant_analysis.py:472: FutureWarning: In version 0.23, setting n_components > min(n_features, n_classes - 1) will raise a ValueError. You should set n_components to None (default), or a value smaller or equal to min(n_features, n_classes - 1).\n",
      "  warnings.warn(future_msg, FutureWarning)\n"
     ]
    }
   ],
   "source": [
    "vaiSVC(Combo,y)"
   ]
  },
  {
   "cell_type": "code",
   "execution_count": null,
   "metadata": {},
   "outputs": [],
   "source": []
  },
  {
   "cell_type": "code",
   "execution_count": null,
   "metadata": {},
   "outputs": [],
   "source": []
  },
  {
   "cell_type": "markdown",
   "metadata": {},
   "source": [
    "# Tudo errado pra baixo"
   ]
  },
  {
   "cell_type": "markdown",
   "metadata": {},
   "source": [
    "# Tudo errado pra baixo"
   ]
  },
  {
   "cell_type": "markdown",
   "metadata": {},
   "source": [
    "# Tudo errado pra baixo"
   ]
  },
  {
   "cell_type": "markdown",
   "metadata": {},
   "source": [
    "# Tudo errado pra baixo"
   ]
  },
  {
   "cell_type": "code",
   "execution_count": null,
   "metadata": {},
   "outputs": [],
   "source": []
  },
  {
   "cell_type": "code",
   "execution_count": null,
   "metadata": {},
   "outputs": [],
   "source": []
  },
  {
   "cell_type": "markdown",
   "metadata": {},
   "source": [
    "# Experimento 1"
   ]
  },
  {
   "cell_type": "markdown",
   "metadata": {},
   "source": [
    "## testar com segmentos maiores"
   ]
  },
  {
   "cell_type": "code",
   "execution_count": 194,
   "metadata": {},
   "outputs": [
    {
     "name": "stdout",
     "output_type": "stream",
     "text": [
      "(30, 6, 2, 25, 240)\n"
     ]
    }
   ],
   "source": [
    "print(datax.shape)"
   ]
  },
  {
   "cell_type": "code",
   "execution_count": 234,
   "metadata": {},
   "outputs": [
    {
     "name": "stdout",
     "output_type": "stream",
     "text": [
      "(30, 6, 2, 10, 600)\n"
     ]
    }
   ],
   "source": [
    "datax = datax.reshape(30, 6, 2,10,600)\n",
    "#datax = datax.swapaxes(2,3)\n",
    "print(datax.shape)"
   ]
  },
  {
   "cell_type": "code",
   "execution_count": 238,
   "metadata": {},
   "outputs": [
    {
     "name": "stdout",
     "output_type": "stream",
     "text": [
      "(30, 6, 2, 10)\n"
     ]
    }
   ],
   "source": [
    "fmd = np.sum(PSD(datax), axis=-1) / 2\n",
    "#fmd = fmd.reshape(30*6,2,10)\n",
    "print(fmd.shape)"
   ]
  },
  {
   "cell_type": "code",
   "execution_count": 239,
   "metadata": {},
   "outputs": [
    {
     "name": "stdout",
     "output_type": "stream",
     "text": [
      "(30, 6, 2, 10)\n"
     ]
    }
   ],
   "source": [
    "mmdf = np.sum(np.abs(datax), axis=-1) / 2\n",
    "#mmdf = mmdf.reshape(30*6,2*10)\n",
    "print(mmdf.shape)"
   ]
  },
  {
   "cell_type": "code",
   "execution_count": 243,
   "metadata": {},
   "outputs": [
    {
     "name": "stdout",
     "output_type": "stream",
     "text": [
      "(2, 30, 6, 2, 10)\n",
      "(6, 30, 10, 2, 2)\n",
      "(1800, 4)\n"
     ]
    }
   ],
   "source": [
    "UnionFreq = [mmdf] + [fmd]\n",
    "UnionFreq = np.array(UnionFreq)\n",
    "print(UnionFreq.shape)\n",
    "UnionFreq = UnionFreq.swapaxes(0,2)\n",
    "UnionFreq = UnionFreq.swapaxes(-1,2)\n",
    "print(UnionFreq.shape)\n",
    "UnionFreq = UnionFreq.reshape(6*30*10,2*2)\n",
    "print(UnionFreq.shape)"
   ]
  },
  {
   "cell_type": "code",
   "execution_count": 244,
   "metadata": {},
   "outputs": [
    {
     "data": {
      "text/plain": [
       "(1800,)"
      ]
     },
     "execution_count": 244,
     "metadata": {},
     "output_type": "execute_result"
    }
   ],
   "source": [
    "X = UnionFreq\n",
    "y = np.array([[str(i)] * int(X.shape[0] / 6) for i in range(6)])\n",
    "y = y.reshape(y.shape[0] * y.shape[1])\n",
    "y.shape"
   ]
  },
  {
   "cell_type": "code",
   "execution_count": 245,
   "metadata": {},
   "outputs": [
    {
     "name": "stdout",
     "output_type": "stream",
     "text": [
      "acuracia: 55.13888888888889 kernel: rbf gamma: 0.001 C: 1\n",
      "acuracia: 55.97222222222222 kernel: rbf gamma: 0.001 C: 10\n",
      "acuracia: 57.49999999999999 kernel: rbf gamma: 0.001 C: 100\n",
      "acuracia: 56.80555555555556 kernel: rbf gamma: 0.001 C: 1000\n",
      "acuracia: 53.75 kernel: rbf gamma: 0.01 C: 1\n",
      "acuracia: 55.97222222222222 kernel: rbf gamma: 0.01 C: 10\n",
      "acuracia: 55.69444444444444 kernel: rbf gamma: 0.01 C: 100\n",
      "acuracia: 54.72222222222223 kernel: rbf gamma: 0.01 C: 1000\n",
      "acuracia: 53.47222222222222 kernel: rbf gamma: 0.1 C: 1\n",
      "acuracia: 51.24999999999999 kernel: rbf gamma: 0.1 C: 10\n",
      "acuracia: 50.55555555555556 kernel: rbf gamma: 0.1 C: 100\n",
      "acuracia: 50.83333333333333 kernel: rbf gamma: 0.1 C: 1000\n",
      "\n",
      " acuracia: 42.5\n"
     ]
    },
    {
     "name": "stderr",
     "output_type": "stream",
     "text": [
      "/home/higor/Documentos/RP/lib/python3.5/site-packages/sklearn/discriminant_analysis.py:466: ChangedBehaviorWarning: n_components cannot be larger than min(n_features, n_classes - 1). Using min(n_features, n_classes - 1) = min(4, 6 - 1) = 4 components.\n",
      "  ChangedBehaviorWarning)\n",
      "/home/higor/Documentos/RP/lib/python3.5/site-packages/sklearn/discriminant_analysis.py:472: FutureWarning: In version 0.23, setting n_components > min(n_features, n_classes - 1) will raise a ValueError. You should set n_components to None (default), or a value smaller or equal to min(n_features, n_classes - 1).\n",
      "  warnings.warn(future_msg, FutureWarning)\n"
     ]
    }
   ],
   "source": [
    "vaiSVC(X,y)"
   ]
  },
  {
   "cell_type": "markdown",
   "metadata": {},
   "source": [
    "# Pra baixo nao corrigido"
   ]
  },
  {
   "cell_type": "code",
   "execution_count": null,
   "metadata": {},
   "outputs": [],
   "source": []
  },
  {
   "cell_type": "code",
   "execution_count": null,
   "metadata": {},
   "outputs": [],
   "source": []
  },
  {
   "cell_type": "code",
   "execution_count": null,
   "metadata": {},
   "outputs": [],
   "source": []
  },
  {
   "cell_type": "code",
   "execution_count": null,
   "metadata": {},
   "outputs": [],
   "source": []
  },
  {
   "cell_type": "code",
   "execution_count": null,
   "metadata": {},
   "outputs": [],
   "source": []
  },
  {
   "cell_type": "code",
   "execution_count": null,
   "metadata": {},
   "outputs": [],
   "source": []
  },
  {
   "cell_type": "code",
   "execution_count": null,
   "metadata": {},
   "outputs": [],
   "source": []
  },
  {
   "cell_type": "code",
   "execution_count": null,
   "metadata": {},
   "outputs": [],
   "source": []
  },
  {
   "cell_type": "code",
   "execution_count": null,
   "metadata": {},
   "outputs": [],
   "source": []
  },
  {
   "cell_type": "code",
   "execution_count": null,
   "metadata": {},
   "outputs": [],
   "source": []
  },
  {
   "cell_type": "code",
   "execution_count": null,
   "metadata": {},
   "outputs": [],
   "source": []
  },
  {
   "cell_type": "code",
   "execution_count": null,
   "metadata": {},
   "outputs": [],
   "source": []
  },
  {
   "cell_type": "code",
   "execution_count": null,
   "metadata": {},
   "outputs": [],
   "source": []
  },
  {
   "cell_type": "code",
   "execution_count": null,
   "metadata": {},
   "outputs": [],
   "source": []
  },
  {
   "cell_type": "markdown",
   "metadata": {},
   "source": [
    "# Parte 2 - Usando movimentos como classe"
   ]
  },
  {
   "cell_type": "markdown",
   "metadata": {},
   "source": [
    "## Parte 2.1 - Domnínio do tempo"
   ]
  },
  {
   "cell_type": "code",
   "execution_count": 172,
   "metadata": {},
   "outputs": [
    {
     "name": "stdout",
     "output_type": "stream",
     "text": [
      "(30, 25, 2, 18)\n"
     ]
    }
   ],
   "source": [
    "print(pt2list.shape)"
   ]
  },
  {
   "cell_type": "code",
   "execution_count": 173,
   "metadata": {},
   "outputs": [
    {
     "data": {
      "text/plain": [
       "(30,)"
      ]
     },
     "execution_count": 173,
     "metadata": {},
     "output_type": "execute_result"
    }
   ],
   "source": [
    "X = pt2list\n",
    "y = np.array([[str(i)] * int(X.shape[0] / 6) for i in range(6)])\n",
    "y = y.reshape(y.shape[0] * y.shape[1])\n",
    "y.shape"
   ]
  },
  {
   "cell_type": "code",
   "execution_count": 147,
   "metadata": {},
   "outputs": [
    {
     "name": "stdout",
     "output_type": "stream",
     "text": [
      "acuracia: 27.160493827160494 kernel: rbf gamma: 0.001 C: 1\n",
      "acuracia: 51.23456790123457 kernel: rbf gamma: 0.001 C: 10\n",
      "acuracia: 61.26543209876543 kernel: rbf gamma: 0.001 C: 100\n",
      "acuracia: 64.81481481481481 kernel: rbf gamma: 0.001 C: 1000\n",
      "acuracia: 50.92592592592593 kernel: rbf gamma: 0.01 C: 1\n",
      "acuracia: 60.802469135802475 kernel: rbf gamma: 0.01 C: 10\n",
      "acuracia: 64.81481481481481 kernel: rbf gamma: 0.01 C: 100\n",
      "acuracia: 66.35802469135803 kernel: rbf gamma: 0.01 C: 1000\n",
      "acuracia: 60.95679012345679 kernel: rbf gamma: 0.1 C: 1\n",
      "acuracia: 64.81481481481481 kernel: rbf gamma: 0.1 C: 10\n",
      "acuracia: 66.51234567901234 kernel: rbf gamma: 0.1 C: 100\n",
      "acuracia: 70.83333333333334 kernel: rbf gamma: 0.1 C: 1000\n",
      "\n",
      "LDA acuracia: 62.03703703703704\n"
     ]
    },
    {
     "name": "stderr",
     "output_type": "stream",
     "text": [
      "/home/higor/.local/lib/python3.7/site-packages/sklearn/discriminant_analysis.py:466: ChangedBehaviorWarning: n_components cannot be larger than min(n_features, n_classes - 1). Using min(n_features, n_classes - 1) = min(6, 6 - 1) = 5 components.\n",
      "  ChangedBehaviorWarning)\n",
      "/home/higor/.local/lib/python3.7/site-packages/sklearn/discriminant_analysis.py:472: FutureWarning: In version 0.23, setting n_components > min(n_features, n_classes - 1) will raise a ValueError. You should set n_components to None (default), or a value smaller or equal to min(n_features, n_classes - 1).\n",
      "  warnings.warn(future_msg, FutureWarning)\n"
     ]
    }
   ],
   "source": [
    "vaiSVC(pt2list,y)"
   ]
  },
  {
   "cell_type": "markdown",
   "metadata": {},
   "source": [
    "## Parte 2.2 - Domínio da frequência"
   ]
  },
  {
   "cell_type": "code",
   "execution_count": 148,
   "metadata": {},
   "outputs": [
    {
     "name": "stdout",
     "output_type": "stream",
     "text": [
      "(6, 30, 2, 41)\n",
      "(6, 30, 2, 41)\n",
      "(41, 30, 2, 6)\n",
      "(41, 30, 2, 6)\n",
      "(2460, 6)\n",
      "(2460, 6)\n"
     ]
    }
   ],
   "source": [
    "print(mmdf.shape)\n",
    "print(fmd.shape)\n",
    "\n",
    "mmdf = mmdf.swapaxes(0,-1)\n",
    "fmd = fmd.swapaxes(0,-1)\n",
    "\n",
    "print(mmdf.shape)\n",
    "print(fmd.shape)\n",
    "\n",
    "mmdf = mmdf.reshape(41*30*2,6)\n",
    "fmd = fmd.reshape(41*30*2,6)\n",
    "\n",
    "print(mmdf.shape)\n",
    "print(fmd.shape)"
   ]
  },
  {
   "cell_type": "markdown",
   "metadata": {},
   "source": [
    "# Parte 2.3 - Domínio da frequência e tempo"
   ]
  },
  {
   "cell_type": "code",
   "execution_count": 149,
   "metadata": {},
   "outputs": [
    {
     "name": "stdout",
     "output_type": "stream",
     "text": [
      "(7080, 6)\n"
     ]
    }
   ],
   "source": [
    "combfre = np.concatenate((mmdf,fmd,pt2list),axis = 0)\n",
    "print(combfre.shape)"
   ]
  },
  {
   "cell_type": "markdown",
   "metadata": {},
   "source": [
    "### Criando vetor de labels"
   ]
  },
  {
   "cell_type": "code",
   "execution_count": 150,
   "metadata": {},
   "outputs": [
    {
     "data": {
      "text/plain": [
       "(7080,)"
      ]
     },
     "execution_count": 150,
     "metadata": {},
     "output_type": "execute_result"
    }
   ],
   "source": [
    "X = combfre\n",
    "y = np.array([[str(i)] * int(X.shape[0] / 6) for i in range(6)])\n",
    "y = y.reshape(y.shape[0] * y.shape[1])\n",
    "y.shape"
   ]
  },
  {
   "cell_type": "markdown",
   "metadata": {},
   "source": [
    "## Treinando e testando"
   ]
  },
  {
   "cell_type": "code",
   "execution_count": 151,
   "metadata": {},
   "outputs": [
    {
     "name": "stdout",
     "output_type": "stream",
     "text": [
      "acuracia: 59.65160075329566 kernel: rbf gamma: 0.001 C: 1\n",
      "acuracia: 63.653483992467045 kernel: rbf gamma: 0.001 C: 10\n",
      "acuracia: 64.87758945386064 kernel: rbf gamma: 0.001 C: 100\n",
      "acuracia: 66.90207156308851 kernel: rbf gamma: 0.001 C: 1000\n",
      "acuracia: 64.21845574387947 kernel: rbf gamma: 0.01 C: 1\n",
      "acuracia: 64.07721280602637 kernel: rbf gamma: 0.01 C: 10\n",
      "acuracia: 65.01883239171374 kernel: rbf gamma: 0.01 C: 100\n",
      "acuracia: 64.21845574387947 kernel: rbf gamma: 0.01 C: 1000\n",
      "acuracia: 62.241054613935965 kernel: rbf gamma: 0.1 C: 1\n",
      "acuracia: 59.981167608286256 kernel: rbf gamma: 0.1 C: 10\n",
      "acuracia: 56.355932203389834 kernel: rbf gamma: 0.1 C: 100\n",
      "acuracia: 55.037664783427495 kernel: rbf gamma: 0.1 C: 1000\n",
      "\n",
      "LDA acuracia: 44.962335216572505\n"
     ]
    },
    {
     "name": "stderr",
     "output_type": "stream",
     "text": [
      "/home/higor/.local/lib/python3.7/site-packages/sklearn/discriminant_analysis.py:466: ChangedBehaviorWarning: n_components cannot be larger than min(n_features, n_classes - 1). Using min(n_features, n_classes - 1) = min(6, 6 - 1) = 5 components.\n",
      "  ChangedBehaviorWarning)\n",
      "/home/higor/.local/lib/python3.7/site-packages/sklearn/discriminant_analysis.py:472: FutureWarning: In version 0.23, setting n_components > min(n_features, n_classes - 1) will raise a ValueError. You should set n_components to None (default), or a value smaller or equal to min(n_features, n_classes - 1).\n",
      "  warnings.warn(future_msg, FutureWarning)\n"
     ]
    }
   ],
   "source": [
    "vaiSVC(combfre,y)"
   ]
  },
  {
   "cell_type": "code",
   "execution_count": null,
   "metadata": {},
   "outputs": [],
   "source": []
  },
  {
   "cell_type": "code",
   "execution_count": null,
   "metadata": {},
   "outputs": [],
   "source": []
  },
  {
   "cell_type": "code",
   "execution_count": null,
   "metadata": {},
   "outputs": [],
   "source": []
  },
  {
   "cell_type": "code",
   "execution_count": null,
   "metadata": {},
   "outputs": [],
   "source": []
  },
  {
   "cell_type": "code",
   "execution_count": null,
   "metadata": {},
   "outputs": [],
   "source": []
  },
  {
   "cell_type": "code",
   "execution_count": null,
   "metadata": {},
   "outputs": [],
   "source": []
  },
  {
   "cell_type": "code",
   "execution_count": null,
   "metadata": {},
   "outputs": [],
   "source": []
  },
  {
   "cell_type": "code",
   "execution_count": null,
   "metadata": {},
   "outputs": [],
   "source": []
  },
  {
   "cell_type": "code",
   "execution_count": null,
   "metadata": {},
   "outputs": [],
   "source": []
  },
  {
   "cell_type": "markdown",
   "metadata": {},
   "source": [
    "#### FFT"
   ]
  },
  {
   "cell_type": "code",
   "execution_count": 46,
   "metadata": {},
   "outputs": [
    {
     "name": "stdout",
     "output_type": "stream",
     "text": [
      "(30, 6, 2, 12, 500)\n",
      "(12, 2)\n",
      "(30, 12)\n",
      "(30, 12)\n"
     ]
    }
   ],
   "source": [
    "\n",
    "\n",
    "print(datax.shape)\n",
    "psdf = []\n",
    "fmn = []\n",
    "fmd = []\n",
    "cont = 0\n",
    "allft = []\n",
    "for lvl1 in datax:\n",
    "    ffttemp = []\n",
    "    fmd_temp = []\n",
    "    fmn_temp = []\n",
    "    som_fmd = 0\n",
    "    som_fmn = 0\n",
    "    for lvl2 in lvl1:\n",
    "        for lvl3 in lvl2:\n",
    "            #, hop_length=150\n",
    "            if (cont < 12):\n",
    "                temp = np.abs(stft(lvl3[cont], n_fft=12,hop_length=350))\n",
    "                psd = welch(temp)\n",
    "                psdf.append(psd)\n",
    "                Fi = (cont * 500) / (2 * len(psd[1]))\n",
    "                cont+=1\n",
    "            for lvl3 in psd[1]:\n",
    "                som_fmd += lvl3.sum()\n",
    "                som_fmn += lvl3.sum()\n",
    "                \n",
    "            fmn_temp.append((Fi * som_fmn) / som_fmn)\n",
    "            fmd_temp.append(0.5 * som_fmd)\n",
    "            allfttemp = fmn_temp + fmd_temp\n",
    "    fmd_temp = np.array(fmd_temp)\n",
    "    fmd.append(fmd_temp)\n",
    "    fmn_temp = np.array(fmn_temp)\n",
    "    fmn.append(fmn_temp)\n",
    "    allft.append(allfttemp)\n",
    "    \n",
    "fmd = np.array(fmd)\n",
    "fmn = np.array(fmn)\n",
    "psdf = np.array(psdf)\n",
    "allft = np.array(allft)\n",
    "print(psdf.shape)\n",
    "print(fmd.shape)\n",
    "print(fmn.shape)\n",
    "#print(allft.shape)"
   ]
  },
  {
   "cell_type": "markdown",
   "metadata": {},
   "source": [
    "#### PSD"
   ]
  },
  {
   "cell_type": "code",
   "execution_count": 357,
   "metadata": {},
   "outputs": [
    {
     "name": "stdout",
     "output_type": "stream",
     "text": [
      "(11, 2)\n"
     ]
    }
   ],
   "source": [
    "\n",
    "print(psdf.shape)"
   ]
  },
  {
   "cell_type": "markdown",
   "metadata": {},
   "source": [
    "#### FMD"
   ]
  },
  {
   "cell_type": "code",
   "execution_count": 358,
   "metadata": {},
   "outputs": [
    {
     "name": "stdout",
     "output_type": "stream",
     "text": [
      "(6, 60)\n"
     ]
    }
   ],
   "source": [
    "\n",
    "print(fmd.shape)"
   ]
  },
  {
   "cell_type": "markdown",
   "metadata": {},
   "source": [
    "#### FMN"
   ]
  },
  {
   "cell_type": "code",
   "execution_count": 359,
   "metadata": {},
   "outputs": [
    {
     "name": "stdout",
     "output_type": "stream",
     "text": [
      "(6, 60)\n"
     ]
    }
   ],
   "source": [
    "\n",
    "print(fmn.shape)"
   ]
  },
  {
   "cell_type": "markdown",
   "metadata": {},
   "source": [
    "#### Junção do FMN e FMD, MAV, RMS, VAR"
   ]
  },
  {
   "cell_type": "code",
   "execution_count": 360,
   "metadata": {},
   "outputs": [
    {
     "name": "stdout",
     "output_type": "stream",
     "text": [
      "(6, 120)\n"
     ]
    }
   ],
   "source": [
    "#allft = allft * VARLIST [:,0:120]\n",
    "\n",
    "print(allft.shape)"
   ]
  },
  {
   "cell_type": "markdown",
   "metadata": {},
   "source": [
    "### Movimento 1"
   ]
  },
  {
   "cell_type": "code",
   "execution_count": 402,
   "metadata": {},
   "outputs": [],
   "source": []
  },
  {
   "cell_type": "code",
   "execution_count": 425,
   "metadata": {},
   "outputs": [
    {
     "name": "stdout",
     "output_type": "stream",
     "text": [
      "(6, 2100)\n",
      "(12600, 1)\n"
     ]
    }
   ],
   "source": [
    "teste = np.concatenate((iemg, rmslist, varlist, fmn, fmd), axis =1)\n",
    "print(teste.shape)\n",
    "X = teste.reshape(12600,1)\n",
    "print(X.shape)"
   ]
  },
  {
   "cell_type": "code",
   "execution_count": 454,
   "metadata": {},
   "outputs": [
    {
     "name": "stdout",
     "output_type": "stream",
     "text": [
      "0\n",
      "2100\n",
      "1\n",
      "4200\n",
      "2\n",
      "6300\n",
      "3\n",
      "8400\n",
      "4\n",
      "10500\n",
      "5\n",
      "12600\n",
      "0\n",
      "2100\n",
      "1\n",
      "4200\n",
      "2\n",
      "6300\n",
      "3\n",
      "8400\n",
      "4\n",
      "10500\n",
      "5\n",
      "12600\n",
      "0\n",
      "2100\n",
      "1\n",
      "4200\n",
      "2\n",
      "6300\n",
      "3\n",
      "8400\n",
      "4\n",
      "10500\n",
      "5\n",
      "12600\n",
      "0\n",
      "2100\n",
      "1\n",
      "4200\n",
      "2\n",
      "6300\n",
      "3\n",
      "8400\n",
      "4\n",
      "10500\n",
      "5\n",
      "12600\n",
      "0\n",
      "2100\n",
      "1\n",
      "4200\n",
      "2\n",
      "6300\n",
      "3\n",
      "8400\n",
      "4\n",
      "10500\n",
      "5\n",
      "12600\n",
      "0\n",
      "2100\n",
      "1\n",
      "4200\n",
      "2\n",
      "6300\n",
      "3\n",
      "8400\n",
      "4\n",
      "10500\n",
      "5\n",
      "12600\n",
      "[1, 1, 1, 1, 1, 1, 1, 1, 1, 1, 1, 1, 1, 1, 1, 1, 1, 1, 1, 1, 1, 1, 1, 1, 1, 1, 1, 1, 1, 1, 1, 1, 1, 1, 1, 1, 1, 1, 1, 1, 1, 1, 1, 1, 1, 1, 1, 1, 1, 1, 1, 1, 1, 1, 1, 1, 1, 1, 1, 1, 1, 1, 1, 1, 1, 1, 1, 1, 1, 1, 1, 1, 1, 1, 1, 1, 1, 1, 1, 1, 1, 1, 1, 1, 1, 1, 1, 1, 1, 1, 1, 1, 1, 1, 1, 1, 1, 1, 1, 1, 1, 1, 1, 1, 1, 1, 1, 1, 1, 1, 1, 1, 1, 1, 1, 1, 1, 1, 1, 1, 1, 1, 1, 1, 1, 1, 1, 1, 1, 1, 1, 1, 1, 1, 1, 1, 1, 1, 1, 1, 1, 1, 1, 1, 1, 1, 1, 1, 1, 1, 1, 1, 1, 1, 1, 1, 1, 1, 1, 1, 1, 1, 1, 1, 1, 1, 1, 1, 1, 1, 1, 1, 1, 1, 1, 1, 1, 1, 1, 1, 1, 1, 1, 1, 1, 1, 1, 1, 1, 1, 1, 1, 1, 1, 1, 1, 1, 1, 1, 1, 1, 1, 1, 1, 1, 1, 1, 1, 1, 1, 1, 1, 1, 1, 1, 1, 1, 1, 1, 1, 1, 1, 1, 1, 1, 1, 1, 1, 1, 1, 1, 1, 1, 1, 1, 1, 1, 1, 1, 1, 1, 1, 1, 1, 1, 1, 1, 1, 1, 1, 1, 1, 1, 1, 1, 1, 1, 1, 1, 1, 1, 1, 1, 1, 1, 1, 1, 1, 1, 1, 1, 1, 1, 1, 1, 1, 1, 1, 1, 1, 1, 1, 1, 1, 1, 1, 1, 1, 1, 1, 1, 1, 1, 1, 1, 1, 1, 1, 1, 1, 1, 1, 1, 1, 1, 1, 1, 1, 1, 1, 1, 1, 1, 1, 1, 1, 1, 1, 1, 1, 1, 1, 1, 1, 1, 1, 1, 1, 1, 1, 1, 1, 1, 1, 1, 1, 1, 1, 1, 1, 1, 1, 1, 1, 1, 1, 1, 1, 1, 1, 1, 1, 1, 1, 1, 1, 1, 1, 1, 1, 1, 1, 1, 1, 1, 1, 1, 1, 1, 1, 1, 1, 1, 1, 1, 1, 1, 1, 1, 1, 1, 1, 1, 1, 1, 1, 1, 1, 1, 1, 1, 1, 1, 1, 1, 1, 1, 1, 1, 1, 1, 1, 1, 1, 1, 1, 1, 1, 1, 1, 1, 1, 1, 1, 1, 1, 1, 1, 1, 1, 1, 1, 1, 1, 1, 1, 1, 1, 1, 1, 1, 1, 1, 1, 1, 1, 1, 1, 1, 1, 1, 1, 1, 1, 1, 1, 1, 1, 1, 1, 1, 1, 1, 1, 1, 1, 1, 1, 1, 1, 1, 1, 1, 1, 1, 1, 1, 1, 1, 1, 1, 1, 1, 1, 1, 1, 1, 1, 1, 1, 1, 1, 1, 1, 1, 1, 1, 1, 1, 1, 1, 1, 1, 1, 1, 1, 1, 1, 1, 1, 1, 1, 1, 1, 1, 1, 1, 1, 1, 1, 1, 1, 1, 1, 1, 1, 1, 1, 1, 1, 1, 1, 1, 1, 1, 1, 1, 1, 1, 1, 1, 1, 1, 1, 1, 1, 1, 1, 1, 1, 1, 1, 1, 1, 1, 1, 1, 1, 1, 1, 1, 1, 1, 1, 1, 1, 1, 1, 1, 1, 1, 1, 1, 1, 1, 1, 1, 1, 1, 1, 1, 1, 1, 1, 1, 1, 1, 1, 1, 1, 1, 1, 1, 1, 1, 1, 1, 1, 1, 1, 1, 1, 1, 1, 1, 1, 1, 1, 1, 1, 1, 1, 1, 1, 1, 1, 1, 1, 1, 1, 1, 1, 1, 1, 1, 1, 1, 1, 1, 1, 1, 1, 1, 1, 1, 1, 1, 1, 1, 1, 1, 1, 1, 1, 1, 1, 1, 1, 1, 1, 1, 1, 1, 1, 1, 1, 1, 1, 1, 1, 1, 1, 1, 1, 1, 1, 1, 1, 1, 1, 1, 1, 1, 1, 1, 1, 1, 1, 1, 1, 1, 1, 1, 1, 1, 1, 1, 1, 1, 1, 1, 1, 1, 1, 1, 1, 1, 1, 1, 1, 1, 1, 1, 1, 1, 1, 1, 1, 1, 1, 1, 1, 1, 1, 1, 1, 1, 1, 1, 1, 1, 1, 1, 1, 1, 1, 1, 1, 1, 1, 1, 1, 1, 1, 1, 1, 1, 1, 1, 1, 1, 1, 1, 1, 1, 1, 1, 1, 1, 1, 1, 1, 1, 1, 1, 1, 1, 1, 1, 1, 1, 1, 1, 1, 1, 1, 1, 1, 1, 1, 1, 1, 1, 1, 1, 1, 1, 1, 1, 1, 1, 1, 1, 1, 1, 1, 1, 1, 1, 1, 1, 1, 1, 1, 1, 1, 1, 1, 1, 1, 1, 1, 1, 1, 1, 1, 1, 1, 1, 1, 1, 1, 1, 1, 1, 1, 1, 1, 1, 1, 1, 1, 1, 1, 1, 1, 1, 1, 1, 1, 1, 1, 1, 1, 1, 1, 1, 1, 1, 1, 1, 1, 1, 1, 1, 1, 1, 1, 1, 1, 1, 1, 1, 1, 1, 1, 1, 1, 1, 1, 1, 1, 1, 1, 1, 1, 1, 1, 1, 1, 1, 1, 1, 1, 1, 1, 1, 1, 1, 1, 1, 1, 1, 1, 1, 1, 1, 1, 1, 1, 1, 1, 1, 1, 1, 1, 1, 1, 1, 1, 1, 1, 1, 1, 1, 1, 1, 1, 1, 1, 1, 1, 1, 1, 1, 1, 1, 1, 1, 1, 1, 1, 1, 1, 1, 1, 1, 1, 1, 1, 1, 1, 1, 1, 1, 1, 1, 1, 1, 1, 1, 1, 1, 1, 1, 1, 1, 1, 1, 1, 1, 1, 1, 1, 1, 1, 1, 1, 1, 1, 1, 1, 1, 1, 1, 1, 1, 1, 1, 1, 1, 1, 1, 1, 1, 1, 1, 1, 1, 1, 1, 1, 1, 1, 1, 1, 1, 1, 1, 1, 1, 1, 1, 1, 1, 1, 1, 1, 1, 1, 1, 1, 1, 1, 1, 1, 1, 1, 1, 1, 1, 1, 1, 1, 1, 1, 1, 1, 1, 1, 1, 1, 1, 1, 1, 1, 1, 1, 1, 1, 1, 1, 1, 1, 1, 1, 1, 1, 1, 1, 1, 1, 1, 1, 1, 1, 1, 1, 1, 1, 1, 1, 1, 1, 1, 1, 1, 1, 1, 1, 1, 1, 1, 1, 1, 1, 1, 1, 1, 1, 1, 1, 1, 1, 1, 1, 1, 1, 1, 1, 1, 1, 1, 1, 1, 1, 1, 1, 1, 1, 1, 1, 1, 1, 1, 1, 1, 1, 1, 1, 1, 1, 1, 1, 1, 1, 1, 1, 1, 1, 1, 1, 1, 1, 1, 1, 1, 1, 1, 1, 1, 1, 1, 1, 1, 1, 1, 1, 1, 1, 1, 1, 1, 1, 1, 1, 1, 1, 1, 1, 1, 1, 1, 1, 1, 1, 1, 1, 1, 1, 1, 1, 1, 1, 1, 1, 1, 1, 1, 1, 1, 1, 1, 1, 1, 1, 1, 1, 1, 1, 1, 1, 1, 1, 1, 1, 1, 1, 1, 1, 1, 1, 1, 1, 1, 1, 1, 1, 1, 1, 1, 1, 1, 1, 1, 1, 1, 1, 1, 1, 1, 1, 1, 1, 1, 1, 1, 1, 1, 1, 1, 1, 1, 1, 1, 1, 1, 1, 1, 1, 1, 1, 1, 1, 1, 1, 1, 1, 1, 1, 1, 1, 1, 1, 1, 1, 1, 1, 1, 1, 1, 1, 1, 1, 1, 1, 1, 1, 1, 1, 1, 1, 1, 1, 1, 1, 1, 1, 1, 1, 1, 1, 1, 1, 1, 1, 1, 1, 1, 1, 1, 1, 1, 1, 1, 1, 1, 1, 1, 1, 1, 1, 1, 1, 1, 1, 1, 1, 1, 1, 1, 1, 1, 1, 1, 1, 1, 1, 1, 1, 1, 1, 1, 1, 1, 1, 1, 1, 1, 1, 1, 1, 1, 1, 1, 1, 1, 1, 1, 1, 1, 1, 1, 1, 1, 1, 1, 1, 1, 1, 1, 1, 1, 1, 1, 1, 1, 1, 1, 1, 1, 1, 1, 1, 1, 1, 1, 1, 1, 1, 1, 1, 1, 1, 1, 1, 1, 1, 1, 1, 1, 1, 1, 1, 1, 1, 1, 1, 1, 1, 1, 1, 1, 1, 1, 1, 1, 1, 1, 1, 1, 1, 1, 1, 1, 1, 1, 1, 1, 1, 1, 1, 1, 1, 1, 1, 1, 1, 1, 1, 1, 1, 1, 1, 1, 1, 1, 1, 1, 1, 1, 1, 1, 1, 1, 1, 1, 1, 1, 1, 1, 1, 1, 1, 1, 1, 1, 1, 1, 1, 1, 1, 1, 1, 1, 1, 1, 1, 1, 1, 1, 1, 1, 1, 1, 1, 1, 1, 1, 1, 1, 1, 1, 1, 1, 1, 1, 1, 1, 1, 1, 1, 1, 1, 1, 1, 1, 1, 1, 1, 1, 1, 1, 1, 1, 1, 1, 1, 1, 1, 1, 1, 1, 1, 1, 1, 1, 1, 1, 1, 1, 1, 1, 1, 1, 1, 1, 1, 1, 1, 1, 1, 1, 1, 1, 1, 1, 1, 1, 1, 1, 1, 1, 1, 1, 1, 1, 1, 1, 1, 1, 1, 1, 1, 1, 1, 1, 1, 1, 1, 1, 1, 1, 1, 1, 1, 1, 1, 1, 1, 1, 1, 1, 1, 1, 1, 1, 1, 1, 1, 1, 1, 1, 1, 1, 1, 1, 1, 1, 1, 1, 1, 1, 1, 1, 1, 1, 1, 1, 1, 1, 1, 1, 1, 1, 1, 1, 1, 1, 1, 1, 1, 1, 1, 1, 1, 1, 1, 1, 1, 1, 1, 1, 1, 1, 1, 1, 1, 1, 1, 1, 1, 1, 1, 1, 1, 1, 1, 1, 1, 1, 1, 1, 1, 1, 1, 1, 1, 1, 1, 1, 1, 1, 1, 1, 1, 1, 1, 1, 1, 1, 1, 1, 1, 1, 1, 1, 1, 1, 1, 1, 1, 1, 1, 1, 1, 1, 1, 1, 1, 1, 1, 1, 1, 1, 1, 1, 1, 1, 1, 1, 1, 1, 1, 1, 1, 1, 1, 1, 1, 1, 1, 1, 1, 1, 1, 1, 1, 1, 1, 1, 1, 1, 1, 1, 1, 1, 1, 1, 1, 1, 1, 1, 1, 1, 1, 1, 1, 1, 1, 1, 1, 1, 1, 1, 1, 1, 1, 1, 1, 1, 1, 1, 1, 1, 1, 1, 1, 1, 1, 1, 1, 1, 1, 1, 1, 1, 1, 1, 1, 1, 1, 1, 1, 1, 1, 1, 1, 1, 1, 1, 1, 1, 1, 1, 1, 1, 1, 1, 1, 1, 1, 1, 1, 1, 1, 1, 1, 1, 1, 1, 1, 1, 1, 1, 1, 1, 1, 1, 1, 1, 1, 1, 1, 1, 1, 1, 1, 1, 1, 1, 1, 1, 1, 1, 1, 1, 1, 1, 1, 1, 1, 1, 1, 1, 1, 1, 1, 1, 1, 1, 1, 1, 1, 1, 1, 1, 1, 1, 1, 1, 1, 1, 1, 1, 1, 1, 1, 1, 1, 1, 1, 1, 1, 1, 1, 1, 1, 1, 1, 1, 1, 1, 1, 1, 1, 1, 1, 1, 1, 1, 1, 1, 1, 1, 1, 1, 1, 1, 1, 1, 1, 1, 1, 1, 1, 1, 1, 1, 1, 1, 1, 1, 1, 1, 1, 1, 1, 1, 1, 1, 1, 1, 1, 1, 1, 1, 1, 1, 1, 1, 1, 1, 1, 1, 1, 1, 1, 1, 1, 1, 1, 1, 1, 1, 1, 1, 1, 1, 1, 1, 1, 1, 1, 1, 1, 1, 1, 1, 1, 1, 1, 1, 1, 1, 1, 1, 1, 1, 1, 1, 1, 1, 1, 1, 1, 1, 1, 1, 1, 1, 1, 1, 1, 1, 1, 1, 1, 1, 1, 1, 1, 1, 1, 1, 1, 1, 1, 1, 1, 1, 1, 1, 1, 1, 1, 1, 1, 1, 1, 1, 1, 1, 1, 1, 1, 1, 1, 1, 1, 1, 1, 1, 1, 1, 1, 1, 1, 1, 1, 1, 1, 1, 1, 1, 1, 1, 1, 1, 1, 1, 1, 1, 1, 1, 1, 1, 1, 1, 1, 1, 1, 1, 1, 1, 1, 1, 1, 1, 1, 1, 1, 1, 1, 1, 1, 1, 1, 1, 1, 1, 1, 1, 1, 1, 1, 1, 1, 1, 1, 1, 1, 1, 1, 1, 1, 1, 1, 1, 1, 1, 1, 1, 1, 1, 1, 1, 1, 1, 1, 1, 1, 1, 1, 1, 1, 1, 1, 1, 1, 1, 1, 1, 1, 1, 1, 1, 1, 1, 1, 1, 1, 1, 1, 1, 1, 1, 1, 1, 1, 1, 1, 1, 1, 1, 1, 1, 1, 1, 1, 1, 1, 1, 1, 1, 1, 1, 1, 1, 1, 1, 1, 1, 1, 1, 1, 1, 1, 1, 1]\n",
      "(6, 12600)\n"
     ]
    }
   ],
   "source": [
    "y = []\n",
    "cont = 0\n",
    "\n",
    "\n",
    "cumy = []\n",
    "\n",
    "\n",
    "for i in range(6):\n",
    "    y0 = []\n",
    "    cont = 0\n",
    "    for movimentos in teste:\n",
    "        \n",
    "        for sample in movimentos:\n",
    "            if(cont == i):\n",
    "                y0.append(1)\n",
    "\n",
    "            \n",
    "            else:\n",
    "                y0.append(2)\n",
    "        print(cont)\n",
    "        cont+=1\n",
    "        print(len(y0))\n",
    "    cumy.append(y0)\n",
    "print(cumy[cont-1][10500:])\n",
    "    \n",
    "\n",
    "cumy = np.array(cumy)\n",
    "print(cumy.shape)\n"
   ]
  },
  {
   "cell_type": "code",
   "execution_count": 455,
   "metadata": {},
   "outputs": [],
   "source": [
    "#y = []\n",
    "#for lvl1 in teste:\n",
    "   #for lvl2 in lvl1:\n",
    "    #        y.append(lvl2)\n",
    "#y = np.array(y)\n",
    "#print(y.shape)"
   ]
  },
  {
   "cell_type": "code",
   "execution_count": 456,
   "metadata": {},
   "outputs": [
    {
     "name": "stdout",
     "output_type": "stream",
     "text": [
      "(12600, 1)\n",
      "[2 2 2 2 2 2 2 2 2 2]\n"
     ]
    }
   ],
   "source": [
    "#X = X.swapaxes(0,1)\n",
    "\n",
    "print(X.shape)\n",
    "#print(y.shape)\n",
    "print(cumy[1][655:665])\n"
   ]
  },
  {
   "cell_type": "code",
   "execution_count": 458,
   "metadata": {},
   "outputs": [
    {
     "name": "stdout",
     "output_type": "stream",
     "text": [
      "(12600,)\n",
      "acuracia: 83.25396825396825 kernel: rbf gamma: 0.001 C: 1\n",
      "acuracia: 83.25396825396825 kernel: rbf gamma: 0.001 C: 10\n",
      "acuracia: 83.25396825396825 kernel: rbf gamma: 0.001 C: 100\n",
      "acuracia: 83.25396825396825 kernel: rbf gamma: 0.001 C: 1000\n",
      "acuracia: 83.25396825396825 kernel: rbf gamma: 0.01 C: 1\n",
      "acuracia: 83.25396825396825 kernel: rbf gamma: 0.01 C: 10\n",
      "acuracia: 83.25396825396825 kernel: rbf gamma: 0.01 C: 100\n",
      "acuracia: 83.25396825396825 kernel: rbf gamma: 0.01 C: 1000\n",
      "acuracia: 83.25396825396825 kernel: rbf gamma: 0.1 C: 1\n",
      "acuracia: 83.25396825396825 kernel: rbf gamma: 0.1 C: 10\n",
      "acuracia: 83.25396825396825 kernel: rbf gamma: 0.1 C: 100\n",
      "acuracia: 83.2936507936508 kernel: rbf gamma: 0.1 C: 1000\n",
      "\n",
      "LDA acuracia: 83.25396825396825\n",
      "(12600,)\n"
     ]
    },
    {
     "name": "stderr",
     "output_type": "stream",
     "text": [
      "/home/higor/.local/lib/python3.7/site-packages/sklearn/discriminant_analysis.py:466: ChangedBehaviorWarning: n_components cannot be larger than min(n_features, n_classes - 1). Using min(n_features, n_classes - 1) = min(1, 2 - 1) = 1 components.\n",
      "  ChangedBehaviorWarning)\n",
      "/home/higor/.local/lib/python3.7/site-packages/sklearn/discriminant_analysis.py:472: FutureWarning: In version 0.23, setting n_components > min(n_features, n_classes - 1) will raise a ValueError. You should set n_components to None (default), or a value smaller or equal to min(n_features, n_classes - 1).\n",
      "  warnings.warn(future_msg, FutureWarning)\n"
     ]
    },
    {
     "name": "stdout",
     "output_type": "stream",
     "text": [
      "acuracia: 84.92063492063492 kernel: rbf gamma: 0.001 C: 1\n",
      "acuracia: 84.92063492063492 kernel: rbf gamma: 0.001 C: 10\n",
      "acuracia: 87.97619047619048 kernel: rbf gamma: 0.001 C: 100\n",
      "acuracia: 88.17460317460318 kernel: rbf gamma: 0.001 C: 1000\n",
      "acuracia: 87.65873015873015 kernel: rbf gamma: 0.01 C: 1\n",
      "acuracia: 87.10317460317461 kernel: rbf gamma: 0.01 C: 10\n",
      "acuracia: 88.29365079365078 kernel: rbf gamma: 0.01 C: 100\n",
      "acuracia: 87.97619047619048 kernel: rbf gamma: 0.01 C: 1000\n",
      "acuracia: 88.65079365079364 kernel: rbf gamma: 0.1 C: 1\n",
      "acuracia: 88.76984126984127 kernel: rbf gamma: 0.1 C: 10\n",
      "acuracia: 88.84920634920634 kernel: rbf gamma: 0.1 C: 100\n",
      "acuracia: 88.84920634920634 kernel: rbf gamma: 0.1 C: 1000\n",
      "\n",
      "LDA acuracia: 84.92063492063492\n",
      "(12600,)\n"
     ]
    },
    {
     "name": "stderr",
     "output_type": "stream",
     "text": [
      "/home/higor/.local/lib/python3.7/site-packages/sklearn/discriminant_analysis.py:466: ChangedBehaviorWarning: n_components cannot be larger than min(n_features, n_classes - 1). Using min(n_features, n_classes - 1) = min(1, 2 - 1) = 1 components.\n",
      "  ChangedBehaviorWarning)\n",
      "/home/higor/.local/lib/python3.7/site-packages/sklearn/discriminant_analysis.py:472: FutureWarning: In version 0.23, setting n_components > min(n_features, n_classes - 1) will raise a ValueError. You should set n_components to None (default), or a value smaller or equal to min(n_features, n_classes - 1).\n",
      "  warnings.warn(future_msg, FutureWarning)\n"
     ]
    },
    {
     "name": "stdout",
     "output_type": "stream",
     "text": [
      "acuracia: 83.01587301587303 kernel: rbf gamma: 0.001 C: 1\n",
      "acuracia: 83.01587301587303 kernel: rbf gamma: 0.001 C: 10\n",
      "acuracia: 83.01587301587303 kernel: rbf gamma: 0.001 C: 100\n",
      "acuracia: 83.01587301587303 kernel: rbf gamma: 0.001 C: 1000\n",
      "acuracia: 83.01587301587303 kernel: rbf gamma: 0.01 C: 1\n",
      "acuracia: 83.01587301587303 kernel: rbf gamma: 0.01 C: 10\n",
      "acuracia: 83.01587301587303 kernel: rbf gamma: 0.01 C: 100\n",
      "acuracia: 83.01587301587303 kernel: rbf gamma: 0.01 C: 1000\n",
      "acuracia: 83.01587301587303 kernel: rbf gamma: 0.1 C: 1\n",
      "acuracia: 83.01587301587303 kernel: rbf gamma: 0.1 C: 10\n",
      "acuracia: 83.01587301587303 kernel: rbf gamma: 0.1 C: 100\n",
      "acuracia: 83.01587301587303 kernel: rbf gamma: 0.1 C: 1000\n",
      "\n",
      "LDA acuracia: 83.01587301587303\n",
      "(12600,)\n"
     ]
    },
    {
     "name": "stderr",
     "output_type": "stream",
     "text": [
      "/home/higor/.local/lib/python3.7/site-packages/sklearn/discriminant_analysis.py:466: ChangedBehaviorWarning: n_components cannot be larger than min(n_features, n_classes - 1). Using min(n_features, n_classes - 1) = min(1, 2 - 1) = 1 components.\n",
      "  ChangedBehaviorWarning)\n",
      "/home/higor/.local/lib/python3.7/site-packages/sklearn/discriminant_analysis.py:472: FutureWarning: In version 0.23, setting n_components > min(n_features, n_classes - 1) will raise a ValueError. You should set n_components to None (default), or a value smaller or equal to min(n_features, n_classes - 1).\n",
      "  warnings.warn(future_msg, FutureWarning)\n"
     ]
    },
    {
     "name": "stdout",
     "output_type": "stream",
     "text": [
      "acuracia: 82.65873015873015 kernel: rbf gamma: 0.001 C: 1\n",
      "acuracia: 82.65873015873015 kernel: rbf gamma: 0.001 C: 10\n",
      "acuracia: 82.65873015873015 kernel: rbf gamma: 0.001 C: 100\n",
      "acuracia: 82.65873015873015 kernel: rbf gamma: 0.001 C: 1000\n",
      "acuracia: 82.65873015873015 kernel: rbf gamma: 0.01 C: 1\n",
      "acuracia: 82.65873015873015 kernel: rbf gamma: 0.01 C: 10\n",
      "acuracia: 82.65873015873015 kernel: rbf gamma: 0.01 C: 100\n",
      "acuracia: 82.65873015873015 kernel: rbf gamma: 0.01 C: 1000\n",
      "acuracia: 82.65873015873015 kernel: rbf gamma: 0.1 C: 1\n",
      "acuracia: 82.65873015873015 kernel: rbf gamma: 0.1 C: 10\n",
      "acuracia: 82.65873015873015 kernel: rbf gamma: 0.1 C: 100\n",
      "acuracia: 82.65873015873015 kernel: rbf gamma: 0.1 C: 1000\n",
      "\n",
      "LDA acuracia: 82.65873015873015\n",
      "(12600,)\n"
     ]
    },
    {
     "name": "stderr",
     "output_type": "stream",
     "text": [
      "/home/higor/.local/lib/python3.7/site-packages/sklearn/discriminant_analysis.py:466: ChangedBehaviorWarning: n_components cannot be larger than min(n_features, n_classes - 1). Using min(n_features, n_classes - 1) = min(1, 2 - 1) = 1 components.\n",
      "  ChangedBehaviorWarning)\n",
      "/home/higor/.local/lib/python3.7/site-packages/sklearn/discriminant_analysis.py:472: FutureWarning: In version 0.23, setting n_components > min(n_features, n_classes - 1) will raise a ValueError. You should set n_components to None (default), or a value smaller or equal to min(n_features, n_classes - 1).\n",
      "  warnings.warn(future_msg, FutureWarning)\n"
     ]
    },
    {
     "name": "stdout",
     "output_type": "stream",
     "text": [
      "acuracia: 82.57936507936508 kernel: rbf gamma: 0.001 C: 1\n",
      "acuracia: 82.57936507936508 kernel: rbf gamma: 0.001 C: 10\n",
      "acuracia: 82.57936507936508 kernel: rbf gamma: 0.001 C: 100\n",
      "acuracia: 82.57936507936508 kernel: rbf gamma: 0.001 C: 1000\n",
      "acuracia: 82.57936507936508 kernel: rbf gamma: 0.01 C: 1\n",
      "acuracia: 82.57936507936508 kernel: rbf gamma: 0.01 C: 10\n",
      "acuracia: 82.57936507936508 kernel: rbf gamma: 0.01 C: 100\n",
      "acuracia: 82.57936507936508 kernel: rbf gamma: 0.01 C: 1000\n",
      "acuracia: 82.57936507936508 kernel: rbf gamma: 0.1 C: 1\n",
      "acuracia: 82.57936507936508 kernel: rbf gamma: 0.1 C: 10\n",
      "acuracia: 82.57936507936508 kernel: rbf gamma: 0.1 C: 100\n",
      "acuracia: 82.57936507936508 kernel: rbf gamma: 0.1 C: 1000\n",
      "\n",
      "LDA acuracia: 82.57936507936508\n",
      "(12600,)\n"
     ]
    },
    {
     "name": "stderr",
     "output_type": "stream",
     "text": [
      "/home/higor/.local/lib/python3.7/site-packages/sklearn/discriminant_analysis.py:466: ChangedBehaviorWarning: n_components cannot be larger than min(n_features, n_classes - 1). Using min(n_features, n_classes - 1) = min(1, 2 - 1) = 1 components.\n",
      "  ChangedBehaviorWarning)\n",
      "/home/higor/.local/lib/python3.7/site-packages/sklearn/discriminant_analysis.py:472: FutureWarning: In version 0.23, setting n_components > min(n_features, n_classes - 1) will raise a ValueError. You should set n_components to None (default), or a value smaller or equal to min(n_features, n_classes - 1).\n",
      "  warnings.warn(future_msg, FutureWarning)\n"
     ]
    },
    {
     "name": "stdout",
     "output_type": "stream",
     "text": [
      "acuracia: 83.80952380952381 kernel: rbf gamma: 0.001 C: 1\n",
      "acuracia: 83.80952380952381 kernel: rbf gamma: 0.001 C: 10\n",
      "acuracia: 83.80952380952381 kernel: rbf gamma: 0.001 C: 100\n",
      "acuracia: 83.80952380952381 kernel: rbf gamma: 0.001 C: 1000\n",
      "acuracia: 83.80952380952381 kernel: rbf gamma: 0.01 C: 1\n",
      "acuracia: 83.80952380952381 kernel: rbf gamma: 0.01 C: 10\n",
      "acuracia: 83.80952380952381 kernel: rbf gamma: 0.01 C: 100\n",
      "acuracia: 83.80952380952381 kernel: rbf gamma: 0.01 C: 1000\n",
      "acuracia: 83.80952380952381 kernel: rbf gamma: 0.1 C: 1\n",
      "acuracia: 83.80952380952381 kernel: rbf gamma: 0.1 C: 10\n",
      "acuracia: 83.80952380952381 kernel: rbf gamma: 0.1 C: 100\n",
      "acuracia: 83.80952380952381 kernel: rbf gamma: 0.1 C: 1000\n",
      "\n",
      "LDA acuracia: 83.80952380952381\n"
     ]
    },
    {
     "name": "stderr",
     "output_type": "stream",
     "text": [
      "/home/higor/.local/lib/python3.7/site-packages/sklearn/discriminant_analysis.py:466: ChangedBehaviorWarning: n_components cannot be larger than min(n_features, n_classes - 1). Using min(n_features, n_classes - 1) = min(1, 2 - 1) = 1 components.\n",
      "  ChangedBehaviorWarning)\n",
      "/home/higor/.local/lib/python3.7/site-packages/sklearn/discriminant_analysis.py:472: FutureWarning: In version 0.23, setting n_components > min(n_features, n_classes - 1) will raise a ValueError. You should set n_components to None (default), or a value smaller or equal to min(n_features, n_classes - 1).\n",
      "  warnings.warn(future_msg, FutureWarning)\n"
     ]
    }
   ],
   "source": [
    "\n",
    "ss = StandardScaler()\n",
    "ss.fit(X)\n",
    "ss.transform(X)\n",
    "for ypsilons in cumy:\n",
    "    print(ypsilons.shape)\n",
    "    X_train, X_test, y_train, y_test = train_test_split(X, ypsilons, test_size = 0.2, shuffle=True)\n",
    "    #X_train, X_test, y_train, y_test = train_test_split(X, y0, test_size=0.33, random_state=42)\n",
    "    #clf = OutputCodeClassifier(LinearSVC(random_state=0), code_size=2, random_state=0)\n",
    "    #clf.fit(X_train, y_train).predict(X_test) \n",
    "    #y_pred = clf.fit(X_train, y_train).predict(X_test)\n",
    "    #print(y_pred.shape)\n",
    "    #print(\"\\tPrecision: %1.3f\" % precision_score(y_test, y_pred))\n",
    "\n",
    "\n",
    "    for kernel in ['rbf']:#, 'linear']:\n",
    "        for gamma in [0.001, 0.01, 0.1]:\n",
    "            for C in [1, 10, 100, 1000]:\n",
    "                classificador = []\n",
    "                classificador = svm.SVC(gamma=gamma, C=C, kernel=kernel).fit(X_train, y_train)\n",
    "                print('acuracia:', (classificador.score(X_test, y_test)) * 100, 'kernel:', kernel, 'gamma:', gamma, 'C:', C)\n",
    "            \n",
    "\n",
    "    cls = []\n",
    "    cls = LinearDiscriminantAnalysis(solver='lsqr', shrinkage='auto', n_components=7).fit(X_train, y_train)\n",
    "    print('\\nLDA acuracia:', cls.score(X_test, y_test) * 100)"
   ]
  },
  {
   "cell_type": "code",
   "execution_count": null,
   "metadata": {},
   "outputs": [],
   "source": [
    "\n",
    "\n",
    "clf = SVC(gamma='auto')\n",
    "\n",
    "X = teste\n",
    "y = [\"movimento1\", \"movimento2\", \"movimento3\", \"movimento4\", \"movimento5\", \"movimento6\"]\n",
    "X_train, X_test, y_train, y_test = train_test_split(X, y, test_size=0.33, random_state=42)\n",
    "clf.fit(X, y) \n"
   ]
  },
  {
   "cell_type": "code",
   "execution_count": 395,
   "metadata": {},
   "outputs": [
    {
     "name": "stdout",
     "output_type": "stream",
     "text": [
      "['movimento1' 'movimento2']\n",
      "[[1.68089912e-01 1.68753008e-01 1.71609190e-01 ... 7.96965344e+04\n",
      "  8.09700791e+04 8.22436237e+04]\n",
      " [1.74516332e-01 1.41415272e-01 1.74720424e-01 ... 7.38655907e+04\n",
      "  7.51391354e+04 7.64126801e+04]]\n"
     ]
    }
   ],
   "source": [
    "print(clf.predict(X_test))\n",
    "print(X_test)"
   ]
  },
  {
   "cell_type": "code",
   "execution_count": null,
   "metadata": {},
   "outputs": [],
   "source": []
  },
  {
   "cell_type": "code",
   "execution_count": null,
   "metadata": {},
   "outputs": [],
   "source": []
  }
 ],
 "metadata": {
  "kernelspec": {
   "display_name": "Python 3",
   "language": "python",
   "name": "python3"
  },
  "language_info": {
   "codemirror_mode": {
    "name": "ipython",
    "version": 3
   },
   "file_extension": ".py",
   "mimetype": "text/x-python",
   "name": "python",
   "nbconvert_exporter": "python",
   "pygments_lexer": "ipython3",
   "version": "3.5.3"
  }
 },
 "nbformat": 4,
 "nbformat_minor": 2
}
