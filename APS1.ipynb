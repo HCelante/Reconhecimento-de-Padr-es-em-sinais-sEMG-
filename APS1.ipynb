{
 "cells": [
  {
   "cell_type": "markdown",
   "metadata": {},
   "source": [
    "# Reconhecimentos de Padrões\n",
    "\n",
    "## Alunos: Henrique Ricardo Figueira, Higor Celante\n",
    "## Dataset: sEMG for Basic Hand movements Data Set\n",
    "\n",
    "\n",
    "A base de dados utilizada tem as seguintes características:\n",
    "\n",
    "- Série Temporal\n",
    "- 2 canais EMG\n",
    "- 5 arquivos\n",
    "\n",
    "Datasets:\n",
    " - 6s = 2 homens e 2 mulheres na fixa dos 22 anos executaram os 6 movimentos 30 vezes cada, cada movimento sendo coletado por 6s.\n",
    " - 5s = 1 homem executou os 6 movimentos 100 vezes cada, por 5s cada movimento.\n",
    " \n",
    "Movimentos:\n",
    "\n",
    "- Esférico\n",
    "- Palma aberta\n",
    "- Lateral\n",
    "- Cilíndrico\n",
    "- Gancho\n",
    "- Pinça\n"
   ]
  },
  {
   "cell_type": "markdown",
   "metadata": {},
   "source": [
    "![movimentos](https://i.imgur.com/0faxxKu.png)"
   ]
  },
  {
   "cell_type": "markdown",
   "metadata": {},
   "source": [
    "### Importações"
   ]
  },
  {
   "cell_type": "code",
   "execution_count": 1,
   "metadata": {},
   "outputs": [],
   "source": [
    "import scipy.io\n",
    "import numpy as np\n",
    "import os\n",
    "from librosa import stft\n",
    "from numpy import mean, sqrt, square, arange\n",
    "from sklearn import svm"
   ]
  },
  {
   "cell_type": "markdown",
   "metadata": {},
   "source": [
    "#### Carregando o Dataset"
   ]
  },
  {
   "cell_type": "code",
   "execution_count": 2,
   "metadata": {},
   "outputs": [],
   "source": [
    "caminhos = [os.path.join(\"src\", nome) for nome in os.listdir(\"src\")]\n",
    "pessoas = []\n",
    "\n",
    "for essive in caminhos:\n",
    "    if essive != \"/novo.txt\":\n",
    "        mat = scipy.io.loadmat(essive)\n",
    "        tip = [mat['tip_ch1'], mat['tip_ch2']]\n",
    "        spher = [mat['spher_ch1'], mat['spher_ch2']]\n",
    "        palmar = [mat['palm_ch1'], mat['palm_ch2']]\n",
    "        lateral = [mat['lat_ch1'], mat['lat_ch2']]\n",
    "        cilindrical = [mat['cyl_ch1'], mat['cyl_ch2']]\n",
    "        hook = [mat['hook_ch1'], mat['hook_ch2']]\n",
    "        data = [tip, spher, palmar, lateral, cilindrical, hook]\n",
    "        data = np.array(data)\n",
    "        pessoas.append(data)  \n",
    "        \n",
    "\n",
    "\n",
    "\n",
    "\n",
    "#print(\" 6 movimentos,30 tentativas, 2 canais,  3000 coletas\")\n"
   ]
  },
  {
   "cell_type": "markdown",
   "metadata": {},
   "source": [
    "### Selecionando 1 dos Datasets"
   ]
  },
  {
   "cell_type": "code",
   "execution_count": 3,
   "metadata": {},
   "outputs": [],
   "source": [
    "dataone = pessoas[2]\n",
    "dataone = np.array(dataone)\n",
    "dataone = np.swapaxes(dataone,1,2)"
   ]
  },
  {
   "cell_type": "markdown",
   "metadata": {},
   "source": [
    "#### Shape após carregamento"
   ]
  },
  {
   "cell_type": "markdown",
   "metadata": {},
   "source": [
    "> 6 movimentos, 30 tentativas, 2 canais,  3000 coletas"
   ]
  },
  {
   "cell_type": "code",
   "execution_count": 4,
   "metadata": {},
   "outputs": [
    {
     "name": "stdout",
     "output_type": "stream",
     "text": [
      "(6, 30, 2, 3000)\n"
     ]
    }
   ],
   "source": [
    "print(dataone.shape)"
   ]
  },
  {
   "cell_type": "markdown",
   "metadata": {},
   "source": [
    "#### Segmentação"
   ]
  },
  {
   "cell_type": "code",
   "execution_count": 5,
   "metadata": {},
   "outputs": [
    {
     "name": "stdout",
     "output_type": "stream",
     "text": [
      "Sobreposicao:         150.0\n",
      "Salto:                350.0\n",
      "Tamanho do segmento:  500.0\n"
     ]
    }
   ],
   "source": [
    "datax = []\n",
    "segmentosize = (len(dataone[0,0,0,:]))/6\n",
    "salto = segmentosize * 0.7\n",
    "antpasso = segmentosize - salto\n",
    "\n",
    "\n",
    "print(\"Sobreposicao:        \", antpasso)\n",
    "print(\"Salto:               \",salto)\n",
    "print(\"Tamanho do segmento: \",segmentosize)\n",
    "\n",
    "\n",
    "for movimento in dataone:  \n",
    "    tentativs = []\n",
    "    for tentativas in movimento:\n",
    "        canals = []\n",
    "        for canal in tentativas:\n",
    "            \n",
    "            listinha = []\n",
    "            listinha.append(canal[350:850])\n",
    "            listinha.append(canal[700:1200])\n",
    "            listinha.append(canal[1050:1550])\n",
    "            listinha.append(canal[1400:1900])\n",
    "            listinha.append(canal[1750:2250])\n",
    "            listinha.append(canal[2100:2600])\n",
    "            canals.append(np.split(canal,5) + listinha)\n",
    "        tentativs.append(canals)\n",
    "    datax.append( tentativs)\n",
    "datax = np.array(datax)\n"
   ]
  },
  {
   "cell_type": "markdown",
   "metadata": {},
   "source": [
    "![segmentacao](https://i.imgur.com/rWhhCop.png)\n"
   ]
  },
  {
   "cell_type": "markdown",
   "metadata": {},
   "source": [
    "#### Shape após segmentação"
   ]
  },
  {
   "cell_type": "markdown",
   "metadata": {},
   "source": [
    "##### 6 movimentos, 30 tentativas, 2 canais,  11 segmentos de 500 valores"
   ]
  },
  {
   "cell_type": "code",
   "execution_count": 6,
   "metadata": {},
   "outputs": [
    {
     "name": "stdout",
     "output_type": "stream",
     "text": [
      "(6, 30, 2, 11)\n"
     ]
    }
   ],
   "source": [
    "print(datax.shape)"
   ]
  },
  {
   "cell_type": "markdown",
   "metadata": {},
   "source": [
    "## Domínio do tempo"
   ]
  },
  {
   "cell_type": "code",
   "execution_count": 75,
   "metadata": {},
   "outputs": [],
   "source": [
    "iemg = []\n",
    "rmslist = []\n",
    "varlist = []\n",
    "\n",
    "for movimento in datax:\n",
    "    listaar = []\n",
    "    list1 = []\n",
    "    list2 = []\n",
    "    for tentativas in movimento:\n",
    "        canals = []\n",
    "        for canal in tentativas:\n",
    "            listseg = 0.0\n",
    "            for segmento in canal:\n",
    "                listseg = listseg + (abs(segmento.sum())/ 500 )\n",
    "            #f = lambda x: np.sum(np.abs(x)) / 500\n",
    "            rms = sqrt(mean(square(listseg)))\n",
    "            VAR = np.var(listseg)\n",
    "            #au = map(f, listseg)\n",
    "            listaar.append(listseg)\n",
    "            list1.append(rms)\n",
    "            list2.append(VAR)\n",
    "    iemg.append(listaar)\n",
    "    rmslist.append(listaar)\n",
    "    varlist.append(list2)\n",
    "\n",
    "iemg = np.array(iemg)\n",
    "rmslist = np.array(rmslist)\n",
    "varlist = np.array(varlist)\n"
   ]
  },
  {
   "cell_type": "markdown",
   "metadata": {},
   "source": [
    "### MAV"
   ]
  },
  {
   "cell_type": "code",
   "execution_count": 76,
   "metadata": {},
   "outputs": [
    {
     "name": "stdout",
     "output_type": "stream",
     "text": [
      "(6, 60)\n"
     ]
    }
   ],
   "source": [
    "\n",
    "print(iemg.shape)"
   ]
  },
  {
   "cell_type": "markdown",
   "metadata": {},
   "source": [
    "### RMS"
   ]
  },
  {
   "cell_type": "code",
   "execution_count": 77,
   "metadata": {},
   "outputs": [
    {
     "name": "stdout",
     "output_type": "stream",
     "text": [
      "(6, 60)\n"
     ]
    }
   ],
   "source": [
    "\n",
    "print(rmslist.shape)"
   ]
  },
  {
   "cell_type": "markdown",
   "metadata": {},
   "source": [
    "### VAR"
   ]
  },
  {
   "cell_type": "code",
   "execution_count": 78,
   "metadata": {},
   "outputs": [
    {
     "name": "stdout",
     "output_type": "stream",
     "text": [
      "(6, 60)\n"
     ]
    }
   ],
   "source": [
    "\n",
    "print(varlist.shape)"
   ]
  },
  {
   "cell_type": "markdown",
   "metadata": {},
   "source": [
    "## Domínio da frequência"
   ]
  },
  {
   "cell_type": "markdown",
   "metadata": {},
   "source": [
    "#### FFT"
   ]
  },
  {
   "cell_type": "code",
   "execution_count": 79,
   "metadata": {},
   "outputs": [
    {
     "name": "stdout",
     "output_type": "stream",
     "text": [
      "(6, 30, 2, 11)\n",
      "(11, 2)\n",
      "(6, 60)\n",
      "(6, 60)\n",
      "(6, 120)\n"
     ]
    }
   ],
   "source": [
    "from scipy.signal import welch\n",
    "\n",
    "print(datax[:,:,:,0:11].shape)\n",
    "psdf = []\n",
    "fmn = []\n",
    "fmd = []\n",
    "cont = 0\n",
    "allft = []\n",
    "for lvl1 in datax:\n",
    "    ffttemp = []\n",
    "    fmd_temp = []\n",
    "    fmn_temp = []\n",
    "    som_fmd = 0\n",
    "    som_fmn = 0\n",
    "    for lvl2 in lvl1:\n",
    "        for lvl3 in lvl2:\n",
    "            #, hop_length=150\n",
    "            if (cont < 11):\n",
    "                temp = np.abs(stft(lvl3[cont], n_fft=500,hop_length=350))\n",
    "                psd = welch(temp)\n",
    "                psdf.append(psd)\n",
    "                Fi = (cont * 500) / (2 * len(psd[1]))\n",
    "                cont+=1\n",
    "            for lvl3 in psd[1]:\n",
    "                som_fmd += lvl3.sum()\n",
    "                som_fmn += lvl3.sum()\n",
    "                \n",
    "            fmn_temp.append((Fi * som_fmn) / som_fmn)\n",
    "            fmd_temp.append(0.5 * som_fmd)\n",
    "            allfttemp = fmn_temp + fmd_temp\n",
    "    fmd_temp = np.array(fmd_temp)\n",
    "    fmd.append(fmd_temp)\n",
    "    fmn_temp = np.array(fmn_temp)\n",
    "    fmn.append(fmn_temp)\n",
    "    allft.append(allfttemp)\n",
    "    \n",
    "fmd = np.array(fmd)\n",
    "fmn = np.array(fmn)\n",
    "psdf = np.array(psdf)\n",
    "allft = np.array(allft)\n",
    "print(psdf.shape)\n",
    "print(fmd.shape)\n",
    "print(fmn.shape)\n",
    "print(allft.shape)"
   ]
  },
  {
   "cell_type": "markdown",
   "metadata": {},
   "source": [
    "#### PSD"
   ]
  },
  {
   "cell_type": "code",
   "execution_count": 80,
   "metadata": {},
   "outputs": [
    {
     "name": "stdout",
     "output_type": "stream",
     "text": [
      "(11, 2)\n"
     ]
    }
   ],
   "source": [
    "\n",
    "print(psdf.shape)"
   ]
  },
  {
   "cell_type": "markdown",
   "metadata": {},
   "source": [
    "#### FMD"
   ]
  },
  {
   "cell_type": "code",
   "execution_count": 81,
   "metadata": {},
   "outputs": [
    {
     "name": "stdout",
     "output_type": "stream",
     "text": [
      "(6, 60)\n"
     ]
    }
   ],
   "source": [
    "\n",
    "print(fmd.shape)"
   ]
  },
  {
   "cell_type": "markdown",
   "metadata": {},
   "source": [
    "#### FMN"
   ]
  },
  {
   "cell_type": "code",
   "execution_count": 82,
   "metadata": {},
   "outputs": [
    {
     "name": "stdout",
     "output_type": "stream",
     "text": [
      "(6, 60)\n"
     ]
    }
   ],
   "source": [
    "\n",
    "print(fmn.shape)"
   ]
  },
  {
   "cell_type": "markdown",
   "metadata": {},
   "source": [
    "#### Junção do FMN e FMD, MAV, RMS, VAR"
   ]
  },
  {
   "cell_type": "code",
   "execution_count": 83,
   "metadata": {},
   "outputs": [
    {
     "name": "stdout",
     "output_type": "stream",
     "text": [
      "(6, 120)\n"
     ]
    }
   ],
   "source": [
    "#allft = allft * VARLIST [:,0:120]\n",
    "\n",
    "print(allft.shape)"
   ]
  },
  {
   "cell_type": "markdown",
   "metadata": {},
   "source": [
    "### Movimento 1"
   ]
  },
  {
   "cell_type": "code",
   "execution_count": 84,
   "metadata": {},
   "outputs": [],
   "source": [
    "from sklearn.svm import SVC\n",
    "from sklearn.model_selection import train_test_split\n",
    "from sklearn.multiclass import OutputCodeClassifier\n",
    "from sklearn.svm import LinearSVC"
   ]
  },
  {
   "cell_type": "code",
   "execution_count": 107,
   "metadata": {},
   "outputs": [],
   "source": [
    "teste = np.concatenate((iemg, rmslist, varlist, fmn, fmd), axis =1)\n",
    "X = teste[0].reshape(-1,1)\n",
    "X = np.swapaxes(X, 0,1)\n",
    "y = np.concatenate((teste[1], teste[2], teste[3], teste[4], teste[5]))\n",
    "y = y[0:300].reshape(-1,1)\n",
    "y = np.swapaxes(y, 0,1)"
   ]
  },
  {
   "cell_type": "code",
   "execution_count": 111,
   "metadata": {},
   "outputs": [],
   "source": [
    "#y = []\n",
    "#for lvl1 in teste:\n",
    "   #for lvl2 in lvl1:\n",
    "    #        y.append(lvl2)\n",
    "#y = np.array(y)\n",
    "#print(y.shape)"
   ]
  },
  {
   "cell_type": "code",
   "execution_count": 114,
   "metadata": {},
   "outputs": [
    {
     "name": "stdout",
     "output_type": "stream",
     "text": [
      "(1, 300)\n",
      "(1, 300)\n"
     ]
    },
    {
     "ename": "ValueError",
     "evalue": "With n_samples=1, test_size=0.33 and train_size=None, the resulting train set will be empty. Adjust any of the aforementioned parameters.",
     "output_type": "error",
     "traceback": [
      "\u001b[0;31m---------------------------------------------------------------------------\u001b[0m",
      "\u001b[0;31mValueError\u001b[0m                                Traceback (most recent call last)",
      "\u001b[0;32m<ipython-input-114-37b7e7d91fbc>\u001b[0m in \u001b[0;36m<module>\u001b[0;34m\u001b[0m\n\u001b[1;32m      1\u001b[0m \u001b[0mprint\u001b[0m\u001b[0;34m(\u001b[0m\u001b[0mX\u001b[0m\u001b[0;34m.\u001b[0m\u001b[0mshape\u001b[0m\u001b[0;34m)\u001b[0m\u001b[0;34m\u001b[0m\u001b[0;34m\u001b[0m\u001b[0m\n\u001b[1;32m      2\u001b[0m \u001b[0mprint\u001b[0m\u001b[0;34m(\u001b[0m\u001b[0my\u001b[0m\u001b[0;34m.\u001b[0m\u001b[0mshape\u001b[0m\u001b[0;34m)\u001b[0m\u001b[0;34m\u001b[0m\u001b[0;34m\u001b[0m\u001b[0m\n\u001b[0;32m----> 3\u001b[0;31m \u001b[0mX_train\u001b[0m\u001b[0;34m,\u001b[0m \u001b[0mX_test\u001b[0m\u001b[0;34m,\u001b[0m \u001b[0my_train\u001b[0m\u001b[0;34m,\u001b[0m \u001b[0my_test\u001b[0m \u001b[0;34m=\u001b[0m \u001b[0mtrain_test_split\u001b[0m\u001b[0;34m(\u001b[0m\u001b[0mX\u001b[0m\u001b[0;34m,\u001b[0m \u001b[0my\u001b[0m\u001b[0;34m,\u001b[0m \u001b[0mtest_size\u001b[0m\u001b[0;34m=\u001b[0m\u001b[0;36m0.33\u001b[0m\u001b[0;34m,\u001b[0m \u001b[0mrandom_state\u001b[0m\u001b[0;34m=\u001b[0m\u001b[0;36m42\u001b[0m\u001b[0;34m)\u001b[0m\u001b[0;34m\u001b[0m\u001b[0;34m\u001b[0m\u001b[0m\n\u001b[0m\u001b[1;32m      4\u001b[0m \u001b[0mclf\u001b[0m \u001b[0;34m=\u001b[0m \u001b[0mOutputCodeClassifier\u001b[0m\u001b[0;34m(\u001b[0m\u001b[0mLinearSVC\u001b[0m\u001b[0;34m(\u001b[0m\u001b[0mrandom_state\u001b[0m\u001b[0;34m=\u001b[0m\u001b[0;36m0\u001b[0m\u001b[0;34m)\u001b[0m\u001b[0;34m,\u001b[0m \u001b[0mcode_size\u001b[0m\u001b[0;34m=\u001b[0m\u001b[0;36m2\u001b[0m\u001b[0;34m,\u001b[0m \u001b[0mrandom_state\u001b[0m\u001b[0;34m=\u001b[0m\u001b[0;36m0\u001b[0m\u001b[0;34m)\u001b[0m\u001b[0;34m\u001b[0m\u001b[0;34m\u001b[0m\u001b[0m\n\u001b[1;32m      5\u001b[0m \u001b[0;34m\u001b[0m\u001b[0m\n",
      "\u001b[0;32m~/.local/lib/python3.7/site-packages/sklearn/model_selection/_split.py\u001b[0m in \u001b[0;36mtrain_test_split\u001b[0;34m(*arrays, **options)\u001b[0m\n\u001b[1;32m   2098\u001b[0m     \u001b[0mn_samples\u001b[0m \u001b[0;34m=\u001b[0m \u001b[0m_num_samples\u001b[0m\u001b[0;34m(\u001b[0m\u001b[0marrays\u001b[0m\u001b[0;34m[\u001b[0m\u001b[0;36m0\u001b[0m\u001b[0;34m]\u001b[0m\u001b[0;34m)\u001b[0m\u001b[0;34m\u001b[0m\u001b[0;34m\u001b[0m\u001b[0m\n\u001b[1;32m   2099\u001b[0m     n_train, n_test = _validate_shuffle_split(n_samples, test_size, train_size,\n\u001b[0;32m-> 2100\u001b[0;31m                                               default_test_size=0.25)\n\u001b[0m\u001b[1;32m   2101\u001b[0m \u001b[0;34m\u001b[0m\u001b[0m\n\u001b[1;32m   2102\u001b[0m     \u001b[0;32mif\u001b[0m \u001b[0mshuffle\u001b[0m \u001b[0;32mis\u001b[0m \u001b[0;32mFalse\u001b[0m\u001b[0;34m:\u001b[0m\u001b[0;34m\u001b[0m\u001b[0;34m\u001b[0m\u001b[0m\n",
      "\u001b[0;32m~/.local/lib/python3.7/site-packages/sklearn/model_selection/_split.py\u001b[0m in \u001b[0;36m_validate_shuffle_split\u001b[0;34m(n_samples, test_size, train_size, default_test_size)\u001b[0m\n\u001b[1;32m   1780\u001b[0m             \u001b[0;34m'resulting train set will be empty. Adjust any of the '\u001b[0m\u001b[0;34m\u001b[0m\u001b[0;34m\u001b[0m\u001b[0m\n\u001b[1;32m   1781\u001b[0m             'aforementioned parameters.'.format(n_samples, test_size,\n\u001b[0;32m-> 1782\u001b[0;31m                                                 train_size)\n\u001b[0m\u001b[1;32m   1783\u001b[0m         )\n\u001b[1;32m   1784\u001b[0m \u001b[0;34m\u001b[0m\u001b[0m\n",
      "\u001b[0;31mValueError\u001b[0m: With n_samples=1, test_size=0.33 and train_size=None, the resulting train set will be empty. Adjust any of the aforementioned parameters."
     ]
    }
   ],
   "source": [
    "print(X.shape)\n",
    "print(y.shape)\n",
    "X_train, X_test, y_train, y_test = train_test_split(X, y, test_size=0.33, random_state=42)\n",
    "clf = OutputCodeClassifier(LinearSVC(random_state=0), code_size=2, random_state=0)\n",
    "\n",
    "clf.fit(X_train, y_train).predict(X_test) "
   ]
  },
  {
   "cell_type": "code",
   "execution_count": 115,
   "metadata": {},
   "outputs": [
    {
     "data": {
      "text/plain": [
       "SVC(C=1.0, cache_size=200, class_weight=None, coef0=0.0,\n",
       "    decision_function_shape='ovr', degree=3, gamma='auto', kernel='rbf',\n",
       "    max_iter=-1, probability=False, random_state=None, shrinking=True,\n",
       "    tol=0.001, verbose=False)"
      ]
     },
     "execution_count": 115,
     "metadata": {},
     "output_type": "execute_result"
    }
   ],
   "source": [
    "\n",
    "\n",
    "clf = SVC(gamma='auto')\n",
    "\n",
    "X = allft\n",
    "y = [\"movimento1\", \"movimento2\", \"movimento3\", \"movimento4\", \"movimento5\", \"movimento6\"]\n",
    "X_train, X_test, y_train, y_test = train_test_split(X, y, test_size=0.33, random_state=42)\n",
    "clf.fit(X, y) \n"
   ]
  },
  {
   "cell_type": "code",
   "execution_count": 117,
   "metadata": {},
   "outputs": [
    {
     "name": "stdout",
     "output_type": "stream",
     "text": [
      "['movimento1' 'movimento6']\n",
      "[[0.00000000e+00 9.96015936e-01 1.99203187e+00 2.98804781e+00\n",
      "  3.98406375e+00 4.98007968e+00 5.97609562e+00 6.97211155e+00\n",
      "  7.96812749e+00 8.96414343e+00 9.96015936e+00 9.96015936e+00\n",
      "  9.96015936e+00 9.96015936e+00 9.96015936e+00 9.96015936e+00\n",
      "  9.96015936e+00 9.96015936e+00 9.96015936e+00 9.96015936e+00\n",
      "  9.96015936e+00 9.96015936e+00 9.96015936e+00 9.96015936e+00\n",
      "  9.96015936e+00 9.96015936e+00 9.96015936e+00 9.96015936e+00\n",
      "  9.96015936e+00 9.96015936e+00 9.96015936e+00 9.96015936e+00\n",
      "  9.96015936e+00 9.96015936e+00 9.96015936e+00 9.96015936e+00\n",
      "  9.96015936e+00 9.96015936e+00 9.96015936e+00 9.96015936e+00\n",
      "  9.96015936e+00 9.96015936e+00 9.96015936e+00 9.96015936e+00\n",
      "  9.96015936e+00 9.96015936e+00 9.96015936e+00 9.96015936e+00\n",
      "  9.96015936e+00 9.96015936e+00 9.96015936e+00 9.96015936e+00\n",
      "  9.96015936e+00 9.96015936e+00 9.96015936e+00 9.96015936e+00\n",
      "  9.96015936e+00 9.96015936e+00 9.96015936e+00 9.96015936e+00\n",
      "  5.97074677e+01 1.00429997e+02 1.79150569e+02 2.24744299e+02\n",
      "  2.59989897e+02 2.93169023e+02 3.29051846e+02 3.77858606e+02\n",
      "  4.22318882e+02 4.74388702e+02 5.26702630e+02 5.79016558e+02\n",
      "  6.31330487e+02 6.83644415e+02 7.35958343e+02 7.88272272e+02\n",
      "  8.40586200e+02 8.92900128e+02 9.45214057e+02 9.97527985e+02\n",
      "  1.04984191e+03 1.10215584e+03 1.15446977e+03 1.20678370e+03\n",
      "  1.25909763e+03 1.31141155e+03 1.36372548e+03 1.41603941e+03\n",
      "  1.46835334e+03 1.52066727e+03 1.57298120e+03 1.62529512e+03\n",
      "  1.67760905e+03 1.72992298e+03 1.78223691e+03 1.83455084e+03\n",
      "  1.88686477e+03 1.93917870e+03 1.99149262e+03 2.04380655e+03\n",
      "  2.09612048e+03 2.14843441e+03 2.20074834e+03 2.25306227e+03\n",
      "  2.30537619e+03 2.35769012e+03 2.41000405e+03 2.46231798e+03\n",
      "  2.51463191e+03 2.56694584e+03 2.61925976e+03 2.67157369e+03\n",
      "  2.72388762e+03 2.77620155e+03 2.82851548e+03 2.88082941e+03\n",
      "  2.93314333e+03 2.98545726e+03 3.03777119e+03 3.09008512e+03]\n",
      " [9.96015936e+00 9.96015936e+00 9.96015936e+00 9.96015936e+00\n",
      "  9.96015936e+00 9.96015936e+00 9.96015936e+00 9.96015936e+00\n",
      "  9.96015936e+00 9.96015936e+00 9.96015936e+00 9.96015936e+00\n",
      "  9.96015936e+00 9.96015936e+00 9.96015936e+00 9.96015936e+00\n",
      "  9.96015936e+00 9.96015936e+00 9.96015936e+00 9.96015936e+00\n",
      "  9.96015936e+00 9.96015936e+00 9.96015936e+00 9.96015936e+00\n",
      "  9.96015936e+00 9.96015936e+00 9.96015936e+00 9.96015936e+00\n",
      "  9.96015936e+00 9.96015936e+00 9.96015936e+00 9.96015936e+00\n",
      "  9.96015936e+00 9.96015936e+00 9.96015936e+00 9.96015936e+00\n",
      "  9.96015936e+00 9.96015936e+00 9.96015936e+00 9.96015936e+00\n",
      "  9.96015936e+00 9.96015936e+00 9.96015936e+00 9.96015936e+00\n",
      "  9.96015936e+00 9.96015936e+00 9.96015936e+00 9.96015936e+00\n",
      "  9.96015936e+00 9.96015936e+00 9.96015936e+00 9.96015936e+00\n",
      "  9.96015936e+00 9.96015936e+00 9.96015936e+00 9.96015936e+00\n",
      "  9.96015936e+00 9.96015936e+00 9.96015936e+00 9.96015936e+00\n",
      "  5.23139283e+01 1.04627857e+02 1.56941785e+02 2.09255713e+02\n",
      "  2.61569642e+02 3.13883570e+02 3.66197498e+02 4.18511427e+02\n",
      "  4.70825355e+02 5.23139283e+02 5.75453212e+02 6.27767140e+02\n",
      "  6.80081068e+02 7.32394997e+02 7.84708925e+02 8.37022853e+02\n",
      "  8.89336782e+02 9.41650710e+02 9.93964638e+02 1.04627857e+03\n",
      "  1.09859250e+03 1.15090642e+03 1.20322035e+03 1.25553428e+03\n",
      "  1.30784821e+03 1.36016214e+03 1.41247607e+03 1.46478999e+03\n",
      "  1.51710392e+03 1.56941785e+03 1.62173178e+03 1.67404571e+03\n",
      "  1.72635964e+03 1.77867356e+03 1.83098749e+03 1.88330142e+03\n",
      "  1.93561535e+03 1.98792928e+03 2.04024321e+03 2.09255713e+03\n",
      "  2.14487106e+03 2.19718499e+03 2.24949892e+03 2.30181285e+03\n",
      "  2.35412678e+03 2.40644070e+03 2.45875463e+03 2.51106856e+03\n",
      "  2.56338249e+03 2.61569642e+03 2.66801035e+03 2.72032427e+03\n",
      "  2.77263820e+03 2.82495213e+03 2.87726606e+03 2.92957999e+03\n",
      "  2.98189392e+03 3.03420784e+03 3.08652177e+03 3.13883570e+03]]\n"
     ]
    }
   ],
   "source": [
    "print(clf.predict(X_test))\n",
    "print(X_test)"
   ]
  },
  {
   "cell_type": "code",
   "execution_count": null,
   "metadata": {},
   "outputs": [],
   "source": []
  },
  {
   "cell_type": "code",
   "execution_count": null,
   "metadata": {},
   "outputs": [],
   "source": []
  }
 ],
 "metadata": {
  "kernelspec": {
   "display_name": "Python 3",
   "language": "python",
   "name": "python3"
  },
  "language_info": {
   "codemirror_mode": {
    "name": "ipython",
    "version": 3
   },
   "file_extension": ".py",
   "mimetype": "text/x-python",
   "name": "python",
   "nbconvert_exporter": "python",
   "pygments_lexer": "ipython3",
   "version": "3.7.3"
  }
 },
 "nbformat": 4,
 "nbformat_minor": 2
}
