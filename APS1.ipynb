{
 "cells": [
  {
   "cell_type": "markdown",
   "metadata": {},
   "source": [
    "# Reconhecimentos de Padrões\n",
    "## Dataset: sEMG Basic Hand movements"
   ]
  },
  {
   "cell_type": "markdown",
   "metadata": {},
   "source": [
    "### Importações"
   ]
  },
  {
   "cell_type": "code",
   "execution_count": 28,
   "metadata": {},
   "outputs": [],
   "source": [
    "import scipy.io\n",
    "import numpy as np\n",
    "import os\n",
    "from librosa import stft\n",
    "from numpy import mean, sqrt, square, arange\n",
    "from sklearn import svm"
   ]
  },
  {
   "cell_type": "markdown",
   "metadata": {},
   "source": [
    "#### Carregando o Dataset"
   ]
  },
  {
   "cell_type": "code",
   "execution_count": 14,
   "metadata": {},
   "outputs": [],
   "source": [
    "caminhos = [os.path.join(\"src\", nome) for nome in os.listdir(\"src\")]\n",
    "pessoas = []\n",
    "\n",
    "for essive in caminhos:\n",
    "    if essive != \"/novo.txt\":\n",
    "        mat = scipy.io.loadmat(essive)\n",
    "        tip = [mat['tip_ch1'], mat['tip_ch2']]\n",
    "        spher = [mat['spher_ch1'], mat['spher_ch2']]\n",
    "        palmar = [mat['palm_ch1'], mat['palm_ch2']]\n",
    "        lateral = [mat['lat_ch1'], mat['lat_ch2']]\n",
    "        cilindrical = [mat['cyl_ch1'], mat['cyl_ch2']]\n",
    "        hook = [mat['hook_ch1'], mat['hook_ch2']]\n",
    "        data = [tip, spher, palmar, lateral, cilindrical, hook]\n",
    "        data = np.array(data)\n",
    "        pessoas.append(data)  \n",
    "        \n",
    "\n",
    "\n",
    "\n",
    "\n",
    "#print(\" 6 movimentos,30 tentativas, 2 canais,  3000 coletas\")\n"
   ]
  },
  {
   "cell_type": "markdown",
   "metadata": {},
   "source": [
    "### Selecionando 1 dos Datasets"
   ]
  },
  {
   "cell_type": "code",
   "execution_count": 15,
   "metadata": {},
   "outputs": [],
   "source": [
    "dataone = pessoas[2]\n",
    "dataone = np.array(dataone)\n",
    "dataone = np.swapaxes(dataone,1,2)"
   ]
  },
  {
   "cell_type": "markdown",
   "metadata": {},
   "source": [
    "#### Shape após carregamento"
   ]
  },
  {
   "cell_type": "markdown",
   "metadata": {},
   "source": [
    "> 6 movimentos, 30 tentativas, 2 canais,  3000 coletas"
   ]
  },
  {
   "cell_type": "code",
   "execution_count": 16,
   "metadata": {},
   "outputs": [
    {
     "name": "stdout",
     "output_type": "stream",
     "text": [
      "(6, 30, 2, 3000)\n"
     ]
    }
   ],
   "source": [
    "print(dataone.shape)"
   ]
  },
  {
   "cell_type": "markdown",
   "metadata": {},
   "source": [
    "#### Segmentação"
   ]
  },
  {
   "cell_type": "code",
   "execution_count": 17,
   "metadata": {},
   "outputs": [
    {
     "name": "stdout",
     "output_type": "stream",
     "text": [
      "Sobreposicao:         150.0\n",
      "Salto:                350.0\n",
      "Tamanho do segmento:  500.0\n"
     ]
    }
   ],
   "source": [
    "datax = []\n",
    "segmentosize = (len(dataone[0,0,0,:]))/6\n",
    "salto = segmentosize * 0.7\n",
    "antpasso = segmentosize - salto\n",
    "\n",
    "\n",
    "print(\"Sobreposicao:        \", antpasso)\n",
    "print(\"Salto:               \",salto)\n",
    "print(\"Tamanho do segmento: \",segmentosize)\n",
    "\n",
    "\n",
    "for movimento in dataone:  \n",
    "    tentativs = []\n",
    "    for tentativas in movimento:\n",
    "        canals = []\n",
    "        for canal in tentativas:\n",
    "            \n",
    "            listinha = []\n",
    "            listinha.append(canal[350:850])\n",
    "            listinha.append(canal[700:1200])\n",
    "            listinha.append(canal[1050:1550])\n",
    "            listinha.append(canal[1400:1900])\n",
    "            listinha.append(canal[1750:2250])\n",
    "            listinha.append(canal[2100:2600])\n",
    "            canals.append(np.split(canal,5) + listinha)\n",
    "        tentativs.append(canals)\n",
    "    datax.append( tentativs)\n",
    "datax = np.array(datax)\n"
   ]
  },
  {
   "cell_type": "markdown",
   "metadata": {},
   "source": [
    "![segmentacao](https://i.imgur.com/rWhhCop.png)\n"
   ]
  },
  {
   "cell_type": "markdown",
   "metadata": {},
   "source": [
    "#### Shape após segmentação"
   ]
  },
  {
   "cell_type": "markdown",
   "metadata": {},
   "source": [
    "##### 6 movimentos, 30 tentativas, 2 canais,  11 segmentos de 500 valores"
   ]
  },
  {
   "cell_type": "code",
   "execution_count": 18,
   "metadata": {},
   "outputs": [
    {
     "name": "stdout",
     "output_type": "stream",
     "text": [
      "(6, 30, 2, 11)\n"
     ]
    }
   ],
   "source": [
    "print(datax.shape)"
   ]
  },
  {
   "cell_type": "markdown",
   "metadata": {},
   "source": [
    "## Domínio do tempo"
   ]
  },
  {
   "cell_type": "markdown",
   "metadata": {},
   "source": [
    "### MAV"
   ]
  },
  {
   "cell_type": "code",
   "execution_count": 19,
   "metadata": {},
   "outputs": [
    {
     "name": "stdout",
     "output_type": "stream",
     "text": [
      "(6, 660)\n"
     ]
    }
   ],
   "source": [
    "iemg = []\n",
    "for movimento in datax:\n",
    "    listaar = []\n",
    "    for tentativas in movimento:\n",
    "        canals = []\n",
    "        for canal in tentativas:\n",
    "            for segmento in canal:\n",
    "                f = lambda x: np.sum(np.abs(x)) / 500\n",
    "                au = map(f, segmento)\n",
    "                listaar.append(au)\n",
    "    iemg.append(listaar)\n",
    "iemg = np.array(iemg)\n",
    "print(iemg.shape)"
   ]
  },
  {
   "cell_type": "markdown",
   "metadata": {},
   "source": [
    "### RMS"
   ]
  },
  {
   "cell_type": "code",
   "execution_count": 20,
   "metadata": {},
   "outputs": [
    {
     "name": "stdout",
     "output_type": "stream",
     "text": [
      "(6, 660)\n"
     ]
    }
   ],
   "source": [
    "rmslist = []\n",
    "for movimento in datax:\n",
    "    listaar = []\n",
    "    for tentativas in movimento:\n",
    "        canals = []\n",
    "        for canal in tentativas:\n",
    "            for segmento in canal:\n",
    "                rms = sqrt(mean(square(segmento)))\n",
    "                listaar.append(rms)\n",
    "        #listaar.append(canals)\n",
    "    rmslist.append(listaar)\n",
    "rmslist = np.array(rmslist)\n",
    "print(rmslist.shape)"
   ]
  },
  {
   "cell_type": "markdown",
   "metadata": {},
   "source": [
    "### VAR"
   ]
  },
  {
   "cell_type": "code",
   "execution_count": 21,
   "metadata": {},
   "outputs": [
    {
     "name": "stdout",
     "output_type": "stream",
     "text": [
      "(6, 660)\n"
     ]
    }
   ],
   "source": [
    "VARLIST = []\n",
    "for movimento in datax:\n",
    "    listaar = []\n",
    "    for tentativas in movimento:\n",
    "        canals = []\n",
    "        for canal in tentativas:\n",
    "            for segmento in canal:\n",
    "                VAR = np.var(segmento)\n",
    "                listaar.append(VAR)\n",
    "    VARLIST.append(listaar)\n",
    "VARLIST = np.array(VARLIST)\n",
    "print(VARLIST.shape)"
   ]
  },
  {
   "cell_type": "markdown",
   "metadata": {},
   "source": [
    "## Domínio da frequência"
   ]
  },
  {
   "cell_type": "markdown",
   "metadata": {},
   "source": [
    "#### FFT"
   ]
  },
  {
   "cell_type": "code",
   "execution_count": 29,
   "metadata": {},
   "outputs": [
    {
     "name": "stdout",
     "output_type": "stream",
     "text": [
      "(6, 30, 2, 11)\n",
      "(11, 2)\n",
      "(6, 60)\n",
      "(6, 60)\n",
      "(6, 120)\n"
     ]
    }
   ],
   "source": [
    "from scipy.signal import welch\n",
    "\n",
    "print(datax[:,:,:,0:11].shape)\n",
    "psdf = []\n",
    "fmn = []\n",
    "fmd = []\n",
    "cont = 0\n",
    "allft = []\n",
    "for lvl1 in datax:\n",
    "    ffttemp = []\n",
    "    fmd_temp = []\n",
    "    fmn_temp = []\n",
    "    som_fmd = 0\n",
    "    som_fmn = 0\n",
    "    for lvl2 in lvl1:\n",
    "        for lvl3 in lvl2:\n",
    "            #, hop_length=150\n",
    "            if (cont < 11):\n",
    "                temp = np.abs(stft(lvl3[cont], n_fft=500,hop_length=350))\n",
    "                psd = welch(temp)\n",
    "                psdf.append(psd)\n",
    "                Fi = (cont * 500) / (2 * len(psd[1]))\n",
    "                cont+=1\n",
    "            for lvl3 in psd[1]:\n",
    "                som_fmd += lvl3.sum()\n",
    "                som_fmn += lvl3.sum()\n",
    "                \n",
    "            fmn_temp.append((Fi * som_fmn) / som_fmn)\n",
    "            fmd_temp.append(0.5 * som_fmd)\n",
    "            allfttemp = fmn_temp + fmd_temp\n",
    "    fmd_temp = np.array(fmd_temp)\n",
    "    fmd.append(fmd_temp)\n",
    "    fmn_temp = np.array(fmn_temp)\n",
    "    fmn.append(fmn_temp)\n",
    "    allft.append(allfttemp)\n",
    "fmd = np.array(fmd)\n",
    "fmn = np.array(fmn)\n",
    "psdf = np.array(psdf)\n",
    "allft = np.array(allft)\n",
    "print(psdf.shape)\n",
    "print(fmd.shape)\n",
    "print(fmn.shape)\n",
    "print(allft.shape)"
   ]
  },
  {
   "cell_type": "markdown",
   "metadata": {},
   "source": [
    "#### PSD"
   ]
  },
  {
   "cell_type": "code",
   "execution_count": 25,
   "metadata": {},
   "outputs": [
    {
     "name": "stdout",
     "output_type": "stream",
     "text": [
      "(11, 2)\n"
     ]
    }
   ],
   "source": [
    "\n",
    "print(psdf.shape)"
   ]
  },
  {
   "cell_type": "markdown",
   "metadata": {},
   "source": [
    "#### FMD"
   ]
  },
  {
   "cell_type": "code",
   "execution_count": 26,
   "metadata": {},
   "outputs": [
    {
     "name": "stdout",
     "output_type": "stream",
     "text": [
      "(6, 60)\n"
     ]
    }
   ],
   "source": [
    "\n",
    "print(fmd.shape)"
   ]
  },
  {
   "cell_type": "markdown",
   "metadata": {},
   "source": [
    "#### FMN"
   ]
  },
  {
   "cell_type": "code",
   "execution_count": 27,
   "metadata": {},
   "outputs": [
    {
     "name": "stdout",
     "output_type": "stream",
     "text": [
      "(6, 60)\n"
     ]
    }
   ],
   "source": [
    "\n",
    "print(fmn.shape)"
   ]
  },
  {
   "cell_type": "markdown",
   "metadata": {},
   "source": [
    "### Movimento 1"
   ]
  },
  {
   "cell_type": "code",
   "execution_count": 52,
   "metadata": {},
   "outputs": [
    {
     "data": {
      "text/plain": [
       "SVC(C=1.0, cache_size=200, class_weight=None, coef0=0.0,\n",
       "    decision_function_shape='ovr', degree=3, gamma='auto', kernel='rbf',\n",
       "    max_iter=-1, probability=False, random_state=None, shrinking=True,\n",
       "    tol=0.001, verbose=False)"
      ]
     },
     "execution_count": 52,
     "metadata": {},
     "output_type": "execute_result"
    }
   ],
   "source": [
    "from sklearn.svm import SVC\n",
    "from sklearn.model_selection import train_test_split\n",
    "\n",
    "clf = SVC(gamma='auto')\n",
    "\n",
    "X = allft\n",
    "y = [\"movimento1\", \"movimento2\", \"movimento3\", \"movimento4\", \"movimento5\", \"movimento6\"]\n",
    "X_train, X_test, y_train, y_test = train_test_split(X, y, test_size=0.33, random_state=42)\n",
    "clf.fit(X, y) \n"
   ]
  },
  {
   "cell_type": "code",
   "execution_count": 55,
   "metadata": {},
   "outputs": [
    {
     "name": "stdout",
     "output_type": "stream",
     "text": [
      "['movimento1' 'movimento6']\n",
      "[[0.00000000e+00 9.96015936e-01 1.99203187e+00 2.98804781e+00\n",
      "  3.98406375e+00 4.98007968e+00 5.97609562e+00 6.97211155e+00\n",
      "  7.96812749e+00 8.96414343e+00 9.96015936e+00 9.96015936e+00\n",
      "  9.96015936e+00 9.96015936e+00 9.96015936e+00 9.96015936e+00\n",
      "  9.96015936e+00 9.96015936e+00 9.96015936e+00 9.96015936e+00\n",
      "  9.96015936e+00 9.96015936e+00 9.96015936e+00 9.96015936e+00\n",
      "  9.96015936e+00 9.96015936e+00 9.96015936e+00 9.96015936e+00\n",
      "  9.96015936e+00 9.96015936e+00 9.96015936e+00 9.96015936e+00\n",
      "  9.96015936e+00 9.96015936e+00 9.96015936e+00 9.96015936e+00\n",
      "  9.96015936e+00 9.96015936e+00 9.96015936e+00 9.96015936e+00\n",
      "  9.96015936e+00 9.96015936e+00 9.96015936e+00 9.96015936e+00\n",
      "  9.96015936e+00 9.96015936e+00 9.96015936e+00 9.96015936e+00\n",
      "  9.96015936e+00 9.96015936e+00 9.96015936e+00 9.96015936e+00\n",
      "  9.96015936e+00 9.96015936e+00 9.96015936e+00 9.96015936e+00\n",
      "  9.96015936e+00 9.96015936e+00 9.96015936e+00 9.96015936e+00\n",
      "  8.52204844e+02 4.39633776e+03 6.14060103e+03 7.82604353e+03\n",
      "  8.49846261e+03 1.05975570e+04 1.18415153e+04 1.47471486e+04\n",
      "  1.58355910e+04 1.85663903e+04 1.98399350e+04 2.11134797e+04\n",
      "  2.23870244e+04 2.36605690e+04 2.49341137e+04 2.62076584e+04\n",
      "  2.74812030e+04 2.87547477e+04 3.00282924e+04 3.13018370e+04\n",
      "  3.25753817e+04 3.38489264e+04 3.51224710e+04 3.63960157e+04\n",
      "  3.76695604e+04 3.89431050e+04 4.02166497e+04 4.14901944e+04\n",
      "  4.27637390e+04 4.40372837e+04 4.53108284e+04 4.65843730e+04\n",
      "  4.78579177e+04 4.91314624e+04 5.04050070e+04 5.16785517e+04\n",
      "  5.29520964e+04 5.42256410e+04 5.54991857e+04 5.67727304e+04\n",
      "  5.80462750e+04 5.93198197e+04 6.05933644e+04 6.18669090e+04\n",
      "  6.31404537e+04 6.44139984e+04 6.56875430e+04 6.69610877e+04\n",
      "  6.82346324e+04 6.95081770e+04 7.07817217e+04 7.20552664e+04\n",
      "  7.33288111e+04 7.46023557e+04 7.58759004e+04 7.71494451e+04\n",
      "  7.84229897e+04 7.96965344e+04 8.09700791e+04 8.22436237e+04]\n",
      " [9.96015936e+00 9.96015936e+00 9.96015936e+00 9.96015936e+00\n",
      "  9.96015936e+00 9.96015936e+00 9.96015936e+00 9.96015936e+00\n",
      "  9.96015936e+00 9.96015936e+00 9.96015936e+00 9.96015936e+00\n",
      "  9.96015936e+00 9.96015936e+00 9.96015936e+00 9.96015936e+00\n",
      "  9.96015936e+00 9.96015936e+00 9.96015936e+00 9.96015936e+00\n",
      "  9.96015936e+00 9.96015936e+00 9.96015936e+00 9.96015936e+00\n",
      "  9.96015936e+00 9.96015936e+00 9.96015936e+00 9.96015936e+00\n",
      "  9.96015936e+00 9.96015936e+00 9.96015936e+00 9.96015936e+00\n",
      "  9.96015936e+00 9.96015936e+00 9.96015936e+00 9.96015936e+00\n",
      "  9.96015936e+00 9.96015936e+00 9.96015936e+00 9.96015936e+00\n",
      "  9.96015936e+00 9.96015936e+00 9.96015936e+00 9.96015936e+00\n",
      "  9.96015936e+00 9.96015936e+00 9.96015936e+00 9.96015936e+00\n",
      "  9.96015936e+00 9.96015936e+00 9.96015936e+00 9.96015936e+00\n",
      "  9.96015936e+00 9.96015936e+00 9.96015936e+00 9.96015936e+00\n",
      "  9.96015936e+00 9.96015936e+00 9.96015936e+00 9.96015936e+00\n",
      "  1.27354467e+03 2.54708934e+03 3.82063400e+03 5.09417867e+03\n",
      "  6.36772334e+03 7.64126801e+03 8.91481267e+03 1.01883573e+04\n",
      "  1.14619020e+04 1.27354467e+04 1.40089913e+04 1.52825360e+04\n",
      "  1.65560807e+04 1.78296253e+04 1.91031700e+04 2.03767147e+04\n",
      "  2.16502593e+04 2.29238040e+04 2.41973487e+04 2.54708934e+04\n",
      "  2.67444380e+04 2.80179827e+04 2.92915274e+04 3.05650720e+04\n",
      "  3.18386167e+04 3.31121614e+04 3.43857060e+04 3.56592507e+04\n",
      "  3.69327954e+04 3.82063400e+04 3.94798847e+04 4.07534294e+04\n",
      "  4.20269740e+04 4.33005187e+04 4.45740634e+04 4.58476080e+04\n",
      "  4.71211527e+04 4.83946974e+04 4.96682420e+04 5.09417867e+04\n",
      "  5.22153314e+04 5.34888760e+04 5.47624207e+04 5.60359654e+04\n",
      "  5.73095100e+04 5.85830547e+04 5.98565994e+04 6.11301440e+04\n",
      "  6.24036887e+04 6.36772334e+04 6.49507780e+04 6.62243227e+04\n",
      "  6.74978674e+04 6.87714120e+04 7.00449567e+04 7.13185014e+04\n",
      "  7.25920460e+04 7.38655907e+04 7.51391354e+04 7.64126801e+04]]\n"
     ]
    }
   ],
   "source": [
    "print(clf.predict(X_test))\n",
    "print(X_test)"
   ]
  },
  {
   "cell_type": "code",
   "execution_count": null,
   "metadata": {},
   "outputs": [],
   "source": []
  }
 ],
 "metadata": {
  "kernelspec": {
   "display_name": "Python 3",
   "language": "python",
   "name": "python3"
  },
  "language_info": {
   "codemirror_mode": {
    "name": "ipython",
    "version": 3
   },
   "file_extension": ".py",
   "mimetype": "text/x-python",
   "name": "python",
   "nbconvert_exporter": "python",
   "pygments_lexer": "ipython3",
   "version": "3.7.3"
  }
 },
 "nbformat": 4,
 "nbformat_minor": 2
}
