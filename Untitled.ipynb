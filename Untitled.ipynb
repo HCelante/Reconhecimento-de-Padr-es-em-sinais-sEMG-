{
 "cells": [
  {
   "cell_type": "markdown",
   "metadata": {},
   "source": [
    "# Reconhecimento de Padrões"
   ]
  },
  {
   "cell_type": "markdown",
   "metadata": {},
   "source": [
    "## Dataset : sEMG_Basic_Hand_movements_upatras"
   ]
  },
  {
   "cell_type": "markdown",
   "metadata": {},
   "source": [
    "## Fazer >>>\n",
    "#### Questões de projeto\n",
    "#### Extração de caraterísticas\n",
    " - 4 dom. tempo\n",
    " - 2 dom. frequência\n",
    "#### Gerar um vetor de características bidimensional\n",
    "#### Classificadores\n",
    "###### SVM (parametrizar, kernel quad, linear) svm é binario, um pra cada, um x todos\n",
    "###### LDA\n",
    "###### QLDA\n",
    "______________________________________________________________"
   ]
  },
  {
   "cell_type": "markdown",
   "metadata": {},
   "source": [
    "### Importação de Bibliotecas"
   ]
  },
  {
   "cell_type": "code",
   "execution_count": 1,
   "metadata": {},
   "outputs": [],
   "source": [
    "import scipy.io\n",
    "import numpy as np\n",
    "import os\n",
    "\n",
    "%matplotlib inline\n",
    "\n",
    "import matplotlib.pyplot as plt\n",
    "from mpl_toolkits.mplot3d import Axes3D\n",
    "from matplotlib import cm\n",
    "\n"
   ]
  },
  {
   "cell_type": "markdown",
   "metadata": {},
   "source": [
    "\n"
   ]
  },
  {
   "cell_type": "code",
   "execution_count": 2,
   "metadata": {},
   "outputs": [
    {
     "ename": "NameError",
     "evalue": "name 'data' is not defined",
     "output_type": "error",
     "traceback": [
      "\u001b[0;31m---------------------------------------------------------------------------\u001b[0m",
      "\u001b[0;31mNameError\u001b[0m                                 Traceback (most recent call last)",
      "\u001b[0;32m<ipython-input-2-12a66afbe675>\u001b[0m in \u001b[0;36m<module>\u001b[0;34m\u001b[0m\n\u001b[1;32m      7\u001b[0m \u001b[0;32mfor\u001b[0m \u001b[0me\u001b[0m \u001b[0;32min\u001b[0m \u001b[0mrange\u001b[0m\u001b[0;34m(\u001b[0m\u001b[0;36m2\u001b[0m\u001b[0;34m)\u001b[0m\u001b[0;34m:\u001b[0m\u001b[0;34m\u001b[0m\u001b[0m\n\u001b[1;32m      8\u001b[0m     \u001b[0;32mfor\u001b[0m \u001b[0mi\u001b[0m\u001b[0;34m,\u001b[0m \u001b[0mt\u001b[0m \u001b[0;32min\u001b[0m \u001b[0menumerate\u001b[0m\u001b[0;34m(\u001b[0m\u001b[0mnp\u001b[0m\u001b[0;34m.\u001b[0m\u001b[0mlinspace\u001b[0m\u001b[0;34m(\u001b[0m\u001b[0;36m0\u001b[0m\u001b[0;34m,\u001b[0m \u001b[0;36m5\u001b[0m\u001b[0;34m,\u001b[0m \u001b[0;36m500\u001b[0m\u001b[0;34m)\u001b[0m\u001b[0;34m)\u001b[0m\u001b[0;34m:\u001b[0m\u001b[0;34m\u001b[0m\u001b[0m\n\u001b[0;32m----> 9\u001b[0;31m         \u001b[0md1\u001b[0m\u001b[0;34m.\u001b[0m\u001b[0mappend\u001b[0m\u001b[0;34m(\u001b[0m\u001b[0;34m[\u001b[0m\u001b[0me\u001b[0m\u001b[0;34m,\u001b[0m \u001b[0mt\u001b[0m\u001b[0;34m,\u001b[0m \u001b[0mdata\u001b[0m\u001b[0;34m[\u001b[0m\u001b[0;36m0\u001b[0m\u001b[0;34m]\u001b[0m\u001b[0;34m[\u001b[0m\u001b[0;36m0\u001b[0m\u001b[0;34m]\u001b[0m\u001b[0;34m[\u001b[0m\u001b[0me\u001b[0m\u001b[0;34m]\u001b[0m\u001b[0;34m[\u001b[0m\u001b[0mi\u001b[0m\u001b[0;34m]\u001b[0m\u001b[0;34m]\u001b[0m\u001b[0;34m)\u001b[0m\u001b[0;34m\u001b[0m\u001b[0m\n\u001b[0m\u001b[1;32m     10\u001b[0m         \u001b[0md2\u001b[0m\u001b[0;34m.\u001b[0m\u001b[0mappend\u001b[0m\u001b[0;34m(\u001b[0m\u001b[0;34m[\u001b[0m\u001b[0me\u001b[0m\u001b[0;34m,\u001b[0m \u001b[0mt\u001b[0m\u001b[0;34m,\u001b[0m \u001b[0mdata\u001b[0m\u001b[0;34m[\u001b[0m\u001b[0;36m1\u001b[0m\u001b[0;34m]\u001b[0m\u001b[0;34m[\u001b[0m\u001b[0;36m0\u001b[0m\u001b[0;34m]\u001b[0m\u001b[0;34m[\u001b[0m\u001b[0me\u001b[0m\u001b[0;34m]\u001b[0m\u001b[0;34m[\u001b[0m\u001b[0mi\u001b[0m\u001b[0;34m]\u001b[0m\u001b[0;34m]\u001b[0m\u001b[0;34m)\u001b[0m\u001b[0;34m\u001b[0m\u001b[0m\n\u001b[1;32m     11\u001b[0m         \u001b[0md3\u001b[0m\u001b[0;34m.\u001b[0m\u001b[0mappend\u001b[0m\u001b[0;34m(\u001b[0m\u001b[0;34m[\u001b[0m\u001b[0me\u001b[0m\u001b[0;34m,\u001b[0m \u001b[0mt\u001b[0m\u001b[0;34m,\u001b[0m \u001b[0mdata\u001b[0m\u001b[0;34m[\u001b[0m\u001b[0;36m2\u001b[0m\u001b[0;34m]\u001b[0m\u001b[0;34m[\u001b[0m\u001b[0;36m0\u001b[0m\u001b[0;34m]\u001b[0m\u001b[0;34m[\u001b[0m\u001b[0me\u001b[0m\u001b[0;34m]\u001b[0m\u001b[0;34m[\u001b[0m\u001b[0mi\u001b[0m\u001b[0;34m]\u001b[0m\u001b[0;34m]\u001b[0m\u001b[0;34m)\u001b[0m\u001b[0;34m\u001b[0m\u001b[0m\n",
      "\u001b[0;31mNameError\u001b[0m: name 'data' is not defined"
     ]
    }
   ],
   "source": [
    "\n",
    "d1 = list()\n",
    "d2 = list()\n",
    "d3 = list()\n",
    "d4 = list()\n",
    "d5 = list()\n",
    "d6 = list()\n",
    "for e in range(2):\n",
    "    for i, t in enumerate(np.linspace(0, 5, 500)):\n",
    "        d1.append([e, t, data[0][0][e][i]])\n",
    "        d2.append([e, t, data[1][0][e][i]])\n",
    "        d3.append([e, t, data[2][0][e][i]])\n",
    "        d4.append([e, t, data[3][0][e][i]])\n",
    "        d5.append([e, t, data[4][0][e][i]])\n",
    "        d6.append([e, t, data[5][0][e][i]])\n",
    "        \n",
    "d1 = np.array(d1)\n",
    "d2 = np.array(d2)\n",
    "d3 = np.array(d3)\n",
    "d4 = np.array(d4)\n",
    "d5 = np.array(d5)\n",
    "d6 = np.array(d6)\n",
    "\n",
    "\n",
    "x1, y1, z1 = d1[:,0], d1[:,1], d1[:,2]\n",
    "x2, y2, z2 = d2[:,0], d2[:,1], d2[:,2]\n",
    "x3, y3, z3 = d3[:,0], d3[:,1], d3[:,2]\n",
    "x4, y4, z4 = d4[:,0], d4[:,1], d4[:,2]\n",
    "x5, y5, z5 = d5[:,0], d5[:,1], d5[:,2]\n",
    "x6, y6, z6 = d6[:,0], d6[:,1], d6[:,2]\n",
    "\n",
    "fig = plt.figure()\n",
    "\n",
    "ax = fig.add_subplot(1, 2, 1, projection='3d')\n",
    "surf = ax.plot_trisurf(z1, y1, x1 ,cmap=cm.inferno, linewidth=1)\n",
    "ax.set_xlabel('Canais')\n",
    "ax.set_ylabel('Tempo (seg.)')\n",
    "ax.set_zlabel('Milivolts')\n",
    "\n",
    "ax = fig.add_subplot(1, 2, 2, projection='3d')\n",
    "surf = ax.plot_trisurf(x2, y2, z2, cmap=cm.inferno, linewidth=1)\n",
    "ax.set_xlabel('Canais')\n",
    "ax.set_ylabel('Tempo (seg.)')\n",
    "ax.set_zlabel('Milivolts')\n",
    "\n",
    "fig2 = plt.figure()\n",
    "\n",
    "ax = fig2.add_subplot(1, 2, 1, projection='3d')\n",
    "surf = ax.plot_trisurf(x3, y3, z3, cmap=cm.inferno, linewidth=1)\n",
    "ax.set_xlabel('Canais')\n",
    "ax.set_ylabel('Tempo (seg.)')\n",
    "ax.set_zlabel('Milivolts')\n",
    "\n",
    "ax = fig2.add_subplot(1, 2, 2, projection='3d')\n",
    "surf = ax.plot_trisurf(x4, y4, z4, cmap=cm.inferno, linewidth=1)\n",
    "ax.set_xlabel('Canais')\n",
    "ax.set_ylabel('Tempo (seg.)')\n",
    "ax.set_zlabel('Milivolts')\n",
    "\n",
    "fig3 = plt.figure()\n",
    "\n",
    "ax = fig3.add_subplot(1, 2, 1, projection='3d')\n",
    "surf = ax.plot_trisurf(x5, y5, z5, cmap=cm.inferno, linewidth=1)\n",
    "ax.set_xlabel('Canais')\n",
    "ax.set_ylabel('Tempo (seg.)')\n",
    "ax.set_zlabel('Milivolts')\n",
    "\n",
    "ax = fig3.add_subplot(1, 2, 2, projection='3d')\n",
    "surf = ax.plot_trisurf(x6, y6, z6, cmap=cm.inferno, linewidth=1)\n",
    "ax.set_xlabel('Canais')\n",
    "ax.set_ylabel('Tempo (seg.)')\n",
    "ax.set_zlabel('Milivolts')\n",
    "\n",
    "fig.colorbar(surf)\n",
    "fig.tight_layout()\n",
    "fig2.colorbar(surf)\n",
    "fig2.tight_layout()\n",
    "fig3.colorbar(surf)\n",
    "fig3.tight_layout()\n",
    "plt.show()"
   ]
  },
  {
   "cell_type": "markdown",
   "metadata": {},
   "source": [
    "### Plotando"
   ]
  },
  {
   "cell_type": "code",
   "execution_count": 3,
   "metadata": {},
   "outputs": [
    {
     "name": "stdout",
     "output_type": "stream",
     "text": [
      "(6, 30, 2, 3000)\n",
      " 6 movimentos, 2 canais, 30 tentativas, 3000 coletas\n"
     ]
    }
   ],
   "source": [
    "\n",
    "listao = []\n",
    "\n",
    "caminhos = [os.path.join(\"src\", nome) for nome in os.listdir(\"src\")]\n",
    "pessoas = []\n",
    "\n",
    "for essive in caminhos:\n",
    "    if essive != \"/novo.txt\":\n",
    "        mat = scipy.io.loadmat(essive)\n",
    "        tip = [mat['tip_ch1'], mat['tip_ch2']]\n",
    "        spher = [mat['spher_ch1'], mat['spher_ch2']]\n",
    "        palmar = [mat['palm_ch1'], mat['palm_ch2']]\n",
    "        lateral = [mat['lat_ch1'], mat['lat_ch2']]\n",
    "        cilindrical = [mat['cyl_ch1'], mat['cyl_ch2']]\n",
    "        hook = [mat['hook_ch1'], mat['hook_ch2']]\n",
    "        data = [tip, spher, palmar, lateral, cilindrical, hook]\n",
    "        data = np.array(data)\n",
    "        pessoas.append(data)  \n",
    "        \n",
    "data2 = np.swapaxes(data,1,2)\n",
    "print(data2.shape)\n",
    "data = pessoas[3]\n",
    "print(\" 6 movimentos, 2 canais, 30 tentativas, 3000 coletas\")\n",
    "\n",
    "# 6, 100, 2, 25, 100\n"
   ]
  },
  {
   "cell_type": "markdown",
   "metadata": {},
   "source": [
    "### Segmentando"
   ]
  },
  {
   "cell_type": "markdown",
   "metadata": {},
   "source": [
    "dx é uma lista que representa 1 movimento já cortado em 5s / 500hz\n",
    "Esse passo tem o objetivo de cortar os 5s de coleta em segmentos de 100ms\n",
    "             \n",
    "                "
   ]
  },
  {
   "cell_type": "code",
   "execution_count": 4,
   "metadata": {},
   "outputs": [
    {
     "name": "stdout",
     "output_type": "stream",
     "text": [
      "0.123201\n",
      "0.202185\n",
      "0.0977\n",
      "0.202185\n",
      "-0.029808\n",
      "0.329724\n",
      "0.199706\n",
      "0.202185\n",
      "0.225208\n",
      "0.253201\n",
      "0.199706\n",
      "0.355232\n",
      "0.199706\n",
      "0.253201\n",
      "0.225208\n",
      "0.074646\n",
      "0.199706\n",
      "0.227693\n",
      "0.174205\n",
      "0.202185\n",
      "0.174205\n",
      "0.253201\n",
      "0.148703\n",
      "0.202185\n",
      "-0.004307\n",
      "0.227693\n",
      "0.0977\n",
      "0.227693\n",
      "0.046696\n",
      "0.202185\n",
      "0.123201\n",
      "0.304216\n",
      "0.199706\n",
      "0.202185\n",
      "0.072198\n",
      "0.202185\n",
      "0.148703\n",
      "0.253201\n",
      "0.123201\n",
      "0.202185\n",
      "0.25071\n",
      "0.202185\n",
      "0.123201\n",
      "0.253201\n",
      "0.148703\n",
      "0.253201\n",
      "0.123201\n",
      "0.202185\n",
      "0.123201\n",
      "0.202185\n",
      "0.148703\n",
      "0.202185\n",
      "0.148703\n",
      "0.329724\n",
      "0.174205\n",
      "0.253201\n",
      "0.25071\n",
      "0.380739\n",
      "0.072198\n",
      "0.304216\n",
      "0.25071\n",
      "0.202185\n",
      "-0.004307\n",
      "0.329724\n",
      "0.174205\n",
      "0.227693\n",
      "0.25071\n",
      "0.202185\n",
      "-0.080812\n",
      "0.304216\n",
      "0.021195\n",
      "0.278708\n",
      "0.276211\n",
      "0.304216\n",
      "0.301713\n",
      "0.253201\n",
      "0.276211\n",
      "0.202185\n",
      "0.199706\n",
      "0.202185\n",
      "0.072198\n",
      "0.202185\n",
      "0.046696\n",
      "0.202185\n",
      "-0.004307\n",
      "0.227693\n",
      "-0.004307\n",
      "0.202185\n",
      "0.021195\n",
      "0.329724\n",
      "0.0977\n",
      "0.227693\n",
      "-0.080812\n",
      "0.202185\n",
      "0.301713\n",
      "0.202185\n",
      "0.148703\n",
      "0.202185\n",
      "0.021195\n",
      "0.304216\n",
      "0.174205\n",
      "0.202185\n",
      "0.0977\n",
      "0.227693\n",
      "0.0977\n",
      "0.202185\n",
      "0.072198\n",
      "0.202185\n",
      "0.123201\n",
      "0.304216\n",
      "0.25071\n",
      "0.176677\n",
      "0.225208\n",
      "0.15117\n",
      "0.199706\n",
      "0.253201\n",
      "0.123201\n",
      "0.202185\n",
      "0.25071\n",
      "0.278708\n",
      "0.046696\n",
      "0.253201\n",
      "0.0977\n",
      "0.227693\n",
      "0.0977\n",
      "0.508278\n",
      "0.021195\n",
      "0.202185\n",
      "0.276211\n",
      "0.329724\n",
      "0.046696\n",
      "0.202185\n",
      "0.148703\n",
      "0.227693\n",
      "0.174205\n",
      "0.253201\n",
      "0.123201\n",
      "0.202185\n",
      "0.0977\n",
      "0.227693\n",
      "0.25071\n",
      "0.329724\n",
      "0.199706\n",
      "0.278708\n",
      "0.25071\n",
      "0.227693\n",
      "0.225208\n",
      "0.227693\n",
      "0.225208\n",
      "0.253201\n",
      "0.199706\n",
      "0.202185\n",
      "0.123201\n",
      "0.253201\n",
      "0.25071\n",
      "0.227693\n",
      "0.148703\n",
      "0.202185\n",
      "0.25071\n",
      "0.253201\n",
      "0.0977\n",
      "-0.256954\n",
      "0.123201\n",
      "0.202185\n",
      "0.123201\n",
      "0.202185\n",
      "0.046696\n",
      "0.227693\n",
      "0.276211\n",
      "0.253201\n",
      "0.199706\n",
      "0.253201\n",
      "0.072198\n",
      "0.202185\n",
      "0.225208\n",
      "0.380739\n",
      "0.174205\n",
      "0.202185\n",
      "0.276211\n",
      "0.431755\n",
      "0.148703\n",
      "0.227693\n",
      "0.225208\n",
      "0.227693\n",
      "0.123201\n",
      "0.202185\n",
      "0.072198\n",
      "0.227693\n",
      "0.199706\n",
      "0.253201\n",
      "0.123201\n",
      "0.202185\n",
      "0.199706\n",
      "0.202185\n",
      "0.225208\n",
      "0.202185\n",
      "0.174205\n",
      "0.227693\n",
      "0.123201\n",
      "0.227693\n",
      "0.148703\n",
      "0.227693\n",
      "0.072198\n",
      "0.253201\n",
      "0.199706\n",
      "0.278708\n",
      "0.225208\n",
      "0.253201\n",
      "0.148703\n",
      "0.227693\n",
      "0.0977\n",
      "0.227693\n",
      "0.225208\n",
      "0.227693\n",
      "0.072198\n",
      "0.304216\n",
      "0.148703\n",
      "0.202185\n",
      "0.199706\n",
      "0.253201\n",
      "0.148703\n",
      "0.202185\n",
      "0.0977\n",
      "0.253201\n",
      "0.072198\n",
      "0.202185\n",
      "0.199706\n",
      "0.227693\n",
      "0.148703\n",
      "0.227693\n",
      "0.174205\n",
      "0.202185\n",
      "0.123201\n",
      "0.304216\n",
      "0.123201\n",
      "0.253201\n",
      "0.123201\n",
      "0.202185\n",
      "0.174205\n",
      "0.202185\n",
      "0.123201\n",
      "0.304216\n",
      "0.225208\n",
      "-0.154923\n",
      "0.046696\n",
      "0.227693\n",
      "0.046696\n",
      "0.253201\n",
      "0.148703\n",
      "0.355232\n",
      "0.123201\n",
      "0.202185\n",
      "0.174205\n",
      "0.227693\n",
      "0.148703\n",
      "0.202185\n",
      "0.199706\n",
      "0.559294\n",
      "0.199706\n",
      "0.355232\n",
      "0.276211\n",
      "0.227693\n",
      "0.174205\n",
      "0.253201\n",
      "0.199706\n",
      "0.278708\n",
      "0.123201\n",
      "0.355232\n",
      "0.225208\n",
      "0.253201\n",
      "0.199706\n",
      "0.227693\n",
      "0.25071\n",
      "0.355232\n",
      "0.148703\n",
      "0.253201\n",
      "0.123201\n",
      "0.329724\n",
      "0.072198\n",
      "0.253201\n",
      "-0.05531\n",
      "0.457263\n",
      "-0.080812\n",
      "0.253201\n",
      "0.174205\n",
      "0.304216\n",
      "0.072198\n",
      "0.253201\n",
      "0.123201\n",
      "0.355232\n",
      "0.0977\n",
      "0.202185\n",
      "0.0977\n",
      "0.278708\n",
      "0.148703\n",
      "0.202185\n",
      "0.123201\n",
      "-0.282462\n",
      "0.046696\n",
      "0.278708\n",
      "-0.004307\n",
      "0.253201\n",
      "0.123201\n",
      "0.304216\n",
      "0.072198\n",
      "0.253201\n",
      "0.072198\n",
      "0.227693\n",
      "0.072198\n",
      "0.202185\n",
      "0.123201\n",
      "0.202185\n",
      "0.123201\n",
      "0.227693\n",
      "0.148703\n",
      "0.202185\n",
      "0.174205\n",
      "0.202185\n",
      "0.072198\n",
      "0.202185\n",
      "0.148703\n",
      "0.278708\n",
      "0.148703\n",
      "0.227693\n",
      "0.148703\n",
      "0.202185\n",
      "0.123201\n",
      "0.227693\n",
      "0.174205\n",
      "0.278708\n",
      "0.174205\n",
      "0.227693\n",
      "0.276211\n",
      "0.253201\n",
      "0.148703\n",
      "0.329724\n",
      "-0.004307\n",
      "0.304216\n",
      "0.25071\n",
      "0.253201\n",
      "0.123201\n",
      "0.202185\n",
      "0.123201\n",
      "0.202185\n",
      "0.148703\n",
      "0.202185\n",
      "0.276211\n",
      "0.202185\n",
      "0.276211\n",
      "0.202185\n",
      "0.123201\n",
      "0.202185\n",
      "0.174205\n",
      "0.202185\n",
      "0.199706\n",
      "0.202185\n",
      "0.148703\n",
      "0.202185\n",
      "0.0977\n",
      "0.202185\n",
      "(6, 30, 2, 10)\n"
     ]
    }
   ],
   "source": [
    "\n",
    "tenta = []\n",
    "\n",
    "moviments = []\n",
    "datax = []\n",
    "for movimento in data2:\n",
    "    \n",
    "    tentativs = []\n",
    "    for tentativas in movimento:\n",
    "        canals = []\n",
    "        for canal in tentativas:\n",
    "            print(canal[0])\n",
    "            #print(canal.shape)\n",
    "            #canal2 = []\n",
    "            #canal2.append(canal)\n",
    "            #canals.append()\n",
    "            listinha = []\n",
    "            listinha.append(canal[350:850])\n",
    "            listinha.append(canal[700:1200])\n",
    "            listinha.append(canal[1050:1550])\n",
    "            listinha.append(canal[1400:1900])\n",
    "            listinha.append(canal[1750:2250])\n",
    "            #print(listinha)\n",
    "            canals.append(np.split(canal,5) + listinha)\n",
    "        \n",
    "        #canals = np.array(canals)\n",
    "        #print(canals.shape)\n",
    "        tentativs.append(canals)\n",
    "    #tentativs = np.array(tentativs)\n",
    "    datax.append( tentativs)\n",
    "datax = np.array(datax)\n",
    "    \n",
    "print(datax.shape)\n",
    "#print(datax[])\n",
    "            "
   ]
  },
  {
   "cell_type": "markdown",
   "metadata": {},
   "source": [
    "### MAV\n"
   ]
  },
  {
   "cell_type": "code",
   "execution_count": 5,
   "metadata": {},
   "outputs": [
    {
     "name": "stdout",
     "output_type": "stream",
     "text": [
      "(6, 600)\n"
     ]
    }
   ],
   "source": [
    "\n",
    "iemg = []\n",
    "#print(datax.shape)\n",
    "for movimento in datax:\n",
    "    listaar = []\n",
    "    for tentativas in movimento:\n",
    "        canals = []\n",
    "        for canal in tentativas:\n",
    "            for segmento in canal:\n",
    "                f = lambda x: np.sum(np.abs(x)) / 500\n",
    "                au = map(f, segmento)\n",
    "                listaar.append(au)\n",
    "    iemg.append(listaar)\n",
    "\n",
    "# print(iemg)\n",
    "iemg = np.array(iemg)\n",
    "print(iemg.shape)\n",
    "#print(help(map))"
   ]
  },
  {
   "cell_type": "markdown",
   "metadata": {},
   "source": [
    "# RMS"
   ]
  },
  {
   "cell_type": "code",
   "execution_count": 6,
   "metadata": {},
   "outputs": [
    {
     "name": "stdout",
     "output_type": "stream",
     "text": [
      "(6, 600)\n"
     ]
    }
   ],
   "source": [
    "from numpy import mean, sqrt, square, arange\n",
    "\n",
    "\n",
    "rmslist = []\n",
    "for movimento in datax:\n",
    "    listaar = []\n",
    "    for tentativas in movimento:\n",
    "        canals = []\n",
    "        for canal in tentativas:\n",
    "            for segmento in canal:\n",
    "                rms = sqrt(mean(square(segmento)))\n",
    "                listaar.append(rms)\n",
    "        #listaar.append(canals)\n",
    "    rmslist.append(listaar)\n",
    "rmslist = np.array(rmslist)\n",
    "print(rmslist.shape)"
   ]
  },
  {
   "cell_type": "markdown",
   "metadata": {},
   "source": [
    "# VAR"
   ]
  },
  {
   "cell_type": "code",
   "execution_count": 7,
   "metadata": {},
   "outputs": [
    {
     "name": "stdout",
     "output_type": "stream",
     "text": [
      "(6, 600)\n"
     ]
    }
   ],
   "source": [
    "\n",
    "\n",
    "\n",
    "VARLIST = []\n",
    "for movimento in datax:\n",
    "    listaar = []\n",
    "    for tentativas in movimento:\n",
    "        canals = []\n",
    "        for canal in tentativas:\n",
    "            for segmento in canal:\n",
    "                VAR = np.var(segmento)\n",
    "                listaar.append(VAR)\n",
    "        #listaar.append(canals)\n",
    "    VARLIST.append(listaar)\n",
    "VARLIST = np.array(VARLIST)\n",
    "print(VARLIST.shape)"
   ]
  },
  {
   "cell_type": "markdown",
   "metadata": {},
   "source": [
    "# FOURRIER\n"
   ]
  },
  {
   "cell_type": "markdown",
   "metadata": {},
   "source": [
    "#fft()\n",
    "\n",
    "\n",
    "FFTLIST = []\n",
    "for movimento in datax:\n",
    "    listaar = []\n",
    "    for tentativas in movimento:\n",
    "        canals = []\n",
    "        for canal in tentativas:\n",
    "            for segmento in canal:\n",
    "                FFT = np.fft(segmento)\n",
    "                listaar.append(FFT)\n",
    "        #listaar.append(canals)\n",
    "    FTFLIST.append(listaar)\n",
    "FFTLIST = np.array(FFTLIST)\n",
    "print(FFTLIST.shape)\n",
    "\n"
   ]
  },
  {
   "cell_type": "markdown",
   "metadata": {},
   "source": [
    "6 features \n",
    "4 dominio tempo\n",
    "2 dom freqnecia\n",
    "\n",
    "y_freq = librosa.stft(x,n_fft, hop_length)"
   ]
  },
  {
   "cell_type": "markdown",
   "metadata": {},
   "source": [
    "## Domínio da Frequência\n"
   ]
  },
  {
   "cell_type": "markdown",
   "metadata": {},
   "source": [
    "### Alterando dimensionalidade"
   ]
  },
  {
   "cell_type": "code",
   "execution_count": 8,
   "metadata": {},
   "outputs": [
    {
     "name": "stdout",
     "output_type": "stream",
     "text": [
      "(6, 600)\n"
     ]
    }
   ],
   "source": [
    "redim = []\n",
    "for movimento in datax:\n",
    "    listaar = []\n",
    "    for tentativas in movimento:\n",
    "        canals = []\n",
    "        for canal in tentativas:\n",
    "            for segmento in canal:\n",
    "                \n",
    "                listaar.append(segmento)\n",
    "        #listaar.append(canals)\n",
    "    redim.append(listaar)\n",
    "redim = np.array(redim)\n",
    "print(redim.shape)"
   ]
  },
  {
   "cell_type": "markdown",
   "metadata": {},
   "source": [
    "### FFT"
   ]
  },
  {
   "cell_type": "code",
   "execution_count": 15,
   "metadata": {},
   "outputs": [
    {
     "name": "stdout",
     "output_type": "stream",
     "text": [
      "(6, 600)\n"
     ]
    },
    {
     "ename": "ParameterError",
     "evalue": "Audio data must be floating-point",
     "output_type": "error",
     "traceback": [
      "\u001b[0;31m---------------------------------------------------------------------------\u001b[0m",
      "\u001b[0;31mParameterError\u001b[0m                            Traceback (most recent call last)",
      "\u001b[0;32m<ipython-input-15-c9f205e9a888>\u001b[0m in \u001b[0;36m<module>\u001b[0;34m\u001b[0m\n\u001b[1;32m      5\u001b[0m \u001b[0mprint\u001b[0m\u001b[0;34m(\u001b[0m\u001b[0mredim\u001b[0m\u001b[0;34m.\u001b[0m\u001b[0mshape\u001b[0m\u001b[0;34m)\u001b[0m\u001b[0;34m\u001b[0m\u001b[0m\n\u001b[1;32m      6\u001b[0m \u001b[0;34m\u001b[0m\u001b[0m\n\u001b[0;32m----> 7\u001b[0;31m \u001b[0mw\u001b[0m \u001b[0;34m=\u001b[0m \u001b[0mnp\u001b[0m\u001b[0;34m.\u001b[0m\u001b[0mapply_along_axis\u001b[0m\u001b[0;34m(\u001b[0m\u001b[0mstft\u001b[0m\u001b[0;34m,\u001b[0m\u001b[0;36m1\u001b[0m\u001b[0;34m,\u001b[0m\u001b[0mredim\u001b[0m\u001b[0;34m)\u001b[0m\u001b[0;34m\u001b[0m\u001b[0m\n\u001b[0m\u001b[1;32m      8\u001b[0m \u001b[0;31m#w = np.fft.fft(redim[1],600)\u001b[0m\u001b[0;34m\u001b[0m\u001b[0;34m\u001b[0m\u001b[0m\n\u001b[1;32m      9\u001b[0m \u001b[0mw\u001b[0m \u001b[0;34m=\u001b[0m \u001b[0mnp\u001b[0m\u001b[0;34m.\u001b[0m\u001b[0mswapaxes\u001b[0m\u001b[0;34m(\u001b[0m\u001b[0mw\u001b[0m\u001b[0;34m,\u001b[0m \u001b[0;36m0\u001b[0m\u001b[0;34m,\u001b[0m \u001b[0;36m1\u001b[0m\u001b[0;34m)\u001b[0m\u001b[0;34m\u001b[0m\u001b[0m\n",
      "\u001b[0;32m<__array_function__ internals>\u001b[0m in \u001b[0;36mapply_along_axis\u001b[0;34m(*args, **kwargs)\u001b[0m\n",
      "\u001b[0;32m~/Documentos/RP/lib/python3.5/site-packages/numpy/lib/shape_base.py\u001b[0m in \u001b[0;36mapply_along_axis\u001b[0;34m(func1d, axis, arr, *args, **kwargs)\u001b[0m\n\u001b[1;32m    377\u001b[0m     \u001b[0;32mexcept\u001b[0m \u001b[0mStopIteration\u001b[0m\u001b[0;34m:\u001b[0m\u001b[0;34m\u001b[0m\u001b[0m\n\u001b[1;32m    378\u001b[0m         \u001b[0;32mraise\u001b[0m \u001b[0mValueError\u001b[0m\u001b[0;34m(\u001b[0m\u001b[0;34m'Cannot apply_along_axis when any iteration dimensions are 0'\u001b[0m\u001b[0;34m)\u001b[0m\u001b[0;34m\u001b[0m\u001b[0m\n\u001b[0;32m--> 379\u001b[0;31m     \u001b[0mres\u001b[0m \u001b[0;34m=\u001b[0m \u001b[0masanyarray\u001b[0m\u001b[0;34m(\u001b[0m\u001b[0mfunc1d\u001b[0m\u001b[0;34m(\u001b[0m\u001b[0minarr_view\u001b[0m\u001b[0;34m[\u001b[0m\u001b[0mind0\u001b[0m\u001b[0;34m]\u001b[0m\u001b[0;34m,\u001b[0m \u001b[0;34m*\u001b[0m\u001b[0margs\u001b[0m\u001b[0;34m,\u001b[0m \u001b[0;34m**\u001b[0m\u001b[0mkwargs\u001b[0m\u001b[0;34m)\u001b[0m\u001b[0;34m)\u001b[0m\u001b[0;34m\u001b[0m\u001b[0m\n\u001b[0m\u001b[1;32m    380\u001b[0m \u001b[0;34m\u001b[0m\u001b[0m\n\u001b[1;32m    381\u001b[0m     \u001b[0;31m# build a buffer for storing evaluations of func1d.\u001b[0m\u001b[0;34m\u001b[0m\u001b[0;34m\u001b[0m\u001b[0m\n",
      "\u001b[0;32m~/Documentos/RP/lib/python3.5/site-packages/librosa/core/spectrum.py\u001b[0m in \u001b[0;36mstft\u001b[0;34m(y, n_fft, hop_length, win_length, window, center, dtype, pad_mode)\u001b[0m\n\u001b[1;32m    213\u001b[0m \u001b[0;34m\u001b[0m\u001b[0m\n\u001b[1;32m    214\u001b[0m     \u001b[0;31m# Check audio is valid\u001b[0m\u001b[0;34m\u001b[0m\u001b[0;34m\u001b[0m\u001b[0m\n\u001b[0;32m--> 215\u001b[0;31m     \u001b[0mutil\u001b[0m\u001b[0;34m.\u001b[0m\u001b[0mvalid_audio\u001b[0m\u001b[0;34m(\u001b[0m\u001b[0my\u001b[0m\u001b[0;34m)\u001b[0m\u001b[0;34m\u001b[0m\u001b[0m\n\u001b[0m\u001b[1;32m    216\u001b[0m \u001b[0;34m\u001b[0m\u001b[0m\n\u001b[1;32m    217\u001b[0m     \u001b[0;31m# Pad the time series so that frames are centered\u001b[0m\u001b[0;34m\u001b[0m\u001b[0;34m\u001b[0m\u001b[0m\n",
      "\u001b[0;32m~/Documentos/RP/lib/python3.5/site-packages/librosa/util/utils.py\u001b[0m in \u001b[0;36mvalid_audio\u001b[0;34m(y, mono)\u001b[0m\n\u001b[1;32m    262\u001b[0m \u001b[0;34m\u001b[0m\u001b[0m\n\u001b[1;32m    263\u001b[0m     \u001b[0;32mif\u001b[0m \u001b[0;32mnot\u001b[0m \u001b[0mnp\u001b[0m\u001b[0;34m.\u001b[0m\u001b[0missubdtype\u001b[0m\u001b[0;34m(\u001b[0m\u001b[0my\u001b[0m\u001b[0;34m.\u001b[0m\u001b[0mdtype\u001b[0m\u001b[0;34m,\u001b[0m \u001b[0mnp\u001b[0m\u001b[0;34m.\u001b[0m\u001b[0mfloating\u001b[0m\u001b[0;34m)\u001b[0m\u001b[0;34m:\u001b[0m\u001b[0;34m\u001b[0m\u001b[0m\n\u001b[0;32m--> 264\u001b[0;31m         \u001b[0;32mraise\u001b[0m \u001b[0mParameterError\u001b[0m\u001b[0;34m(\u001b[0m\u001b[0;34m'Audio data must be floating-point'\u001b[0m\u001b[0;34m)\u001b[0m\u001b[0;34m\u001b[0m\u001b[0m\n\u001b[0m\u001b[1;32m    265\u001b[0m \u001b[0;34m\u001b[0m\u001b[0m\n\u001b[1;32m    266\u001b[0m     \u001b[0;32mif\u001b[0m \u001b[0mmono\u001b[0m \u001b[0;32mand\u001b[0m \u001b[0my\u001b[0m\u001b[0;34m.\u001b[0m\u001b[0mndim\u001b[0m \u001b[0;34m!=\u001b[0m \u001b[0;36m1\u001b[0m\u001b[0;34m:\u001b[0m\u001b[0;34m\u001b[0m\u001b[0m\n",
      "\u001b[0;31mParameterError\u001b[0m: Audio data must be floating-point"
     ]
    }
   ],
   "source": [
    "from librosa import stft\n",
    "\n",
    "FFTlist = []\n",
    "redim = np.array(redim)\n",
    "print(redim.shape)\n",
    "\n",
    "w = np.apply_along_axis(stft,1,redim)\n",
    "#w = np.fft.fft(redim[1],600)\n",
    "w = np.swapaxes(w, 0, 1)\n",
    "print(w.shape)"
   ]
  },
  {
   "cell_type": "markdown",
   "metadata": {},
   "source": [
    "## PSD\n"
   ]
  },
  {
   "cell_type": "code",
   "execution_count": 19,
   "metadata": {},
   "outputs": [
    {
     "ename": "NameError",
     "evalue": "name 'w' is not defined",
     "output_type": "error",
     "traceback": [
      "\u001b[0;31m---------------------------------------------------------------------------\u001b[0m",
      "\u001b[0;31mNameError\u001b[0m                                 Traceback (most recent call last)",
      "\u001b[0;32m<ipython-input-19-02e26dc1f79a>\u001b[0m in \u001b[0;36m<module>\u001b[0;34m\u001b[0m\n\u001b[0;32m----> 1\u001b[0;31m \u001b[0mpsd\u001b[0m \u001b[0;34m=\u001b[0m \u001b[0mnp\u001b[0m\u001b[0;34m.\u001b[0m\u001b[0mpower\u001b[0m\u001b[0;34m(\u001b[0m\u001b[0mabs\u001b[0m\u001b[0;34m(\u001b[0m\u001b[0mw\u001b[0m\u001b[0;34m)\u001b[0m\u001b[0;34m,\u001b[0m \u001b[0;36m2\u001b[0m\u001b[0;34m)\u001b[0m\u001b[0;34m\u001b[0m\u001b[0m\n\u001b[0m\u001b[1;32m      2\u001b[0m \u001b[0mprint\u001b[0m\u001b[0;34m(\u001b[0m\u001b[0mpsd\u001b[0m\u001b[0;34m.\u001b[0m\u001b[0mshape\u001b[0m\u001b[0;34m)\u001b[0m\u001b[0;34m\u001b[0m\u001b[0m\n",
      "\u001b[0;31mNameError\u001b[0m: name 'w' is not defined"
     ]
    }
   ],
   "source": [
    "psd = np.power(abs(w), 2)\n",
    "print(psd.shape)"
   ]
  },
  {
   "cell_type": "markdown",
   "metadata": {},
   "source": [
    "## FMD"
   ]
  },
  {
   "cell_type": "code",
   "execution_count": 20,
   "metadata": {},
   "outputs": [
    {
     "ename": "NameError",
     "evalue": "name 'psd' is not defined",
     "output_type": "error",
     "traceback": [
      "\u001b[0;31m---------------------------------------------------------------------------\u001b[0m",
      "\u001b[0;31mNameError\u001b[0m                                 Traceback (most recent call last)",
      "\u001b[0;32m<ipython-input-20-d4a14a7f7815>\u001b[0m in \u001b[0;36m<module>\u001b[0;34m\u001b[0m\n\u001b[0;32m----> 1\u001b[0;31m \u001b[0mfmd\u001b[0m \u001b[0;34m=\u001b[0m \u001b[0mnp\u001b[0m\u001b[0;34m.\u001b[0m\u001b[0msum\u001b[0m\u001b[0;34m(\u001b[0m\u001b[0mpsd\u001b[0m\u001b[0;34m/\u001b[0m\u001b[0;36m2\u001b[0m\u001b[0;34m,\u001b[0m \u001b[0maxis\u001b[0m\u001b[0;34m=\u001b[0m\u001b[0;34m-\u001b[0m\u001b[0;36m1\u001b[0m\u001b[0;34m)\u001b[0m\u001b[0;34m\u001b[0m\u001b[0m\n\u001b[0m\u001b[1;32m      2\u001b[0m \u001b[0mprint\u001b[0m\u001b[0;34m(\u001b[0m\u001b[0mfmd\u001b[0m\u001b[0;34m.\u001b[0m\u001b[0mshape\u001b[0m\u001b[0;34m)\u001b[0m\u001b[0;34m\u001b[0m\u001b[0m\n",
      "\u001b[0;31mNameError\u001b[0m: name 'psd' is not defined"
     ]
    }
   ],
   "source": [
    "fmd = np.sum(psd/2, axis=-1)\n",
    "print(fmd.shape)"
   ]
  },
  {
   "cell_type": "code",
   "execution_count": null,
   "metadata": {},
   "outputs": [],
   "source": []
  },
  {
   "cell_type": "code",
   "execution_count": null,
   "metadata": {},
   "outputs": [],
   "source": []
  }
 ],
 "metadata": {
  "kernelspec": {
   "display_name": "Python 3",
   "language": "python",
   "name": "python3"
  },
  "language_info": {
   "codemirror_mode": {
    "name": "ipython",
    "version": 3
   },
   "file_extension": ".py",
   "mimetype": "text/x-python",
   "name": "python",
   "nbconvert_exporter": "python",
   "pygments_lexer": "ipython3",
   "version": "3.5.3"
  }
 },
 "nbformat": 4,
 "nbformat_minor": 2
}
