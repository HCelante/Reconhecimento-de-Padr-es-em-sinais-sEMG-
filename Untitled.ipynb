{
 "cells": [
  {
   "cell_type": "markdown",
   "metadata": {},
   "source": [
    "### Importação das Bibliotecas\n"
   ]
  },
  {
   "cell_type": "markdown",
   "metadata": {},
   "source": [
    "from keras import regularizers\n",
    "from keras.models import Sequential\n",
    "from keras.layers import Dense, Dropout\n",
    "from keras.optimizers import SGD, Adam\n",
    "from keras.utils.np_utils import to_categorical\n",
    "import numpy as np\n",
    "from sklearn.metrics import classification_report, accuracy_score, confusion_matrix\n",
    "from sklearn.model_selection import GridSearchCV, train_test_split\n",
    "from sklearn.preprocessing import LabelEncoder\n",
    "from urllib.request import urlopen, urlretrieve\n",
    "\n",
    "import matplotlib.pyplot as plt\n",
    "%matplotlib inline\n"
   ]
  },
  {
   "cell_type": "markdown",
   "metadata": {},
   "source": [
    "### Carregando o Dataset"
   ]
  },
  {
   "cell_type": "markdown",
   "metadata": {},
   "source": [
    "filedata = open('Dataset/1.txt')\n",
    "data = filedata.read()\n",
    "\n",
    "datasetcru = np.array([s.split('\\t') for s in data.split('\\n')][1:-1]) # ignora a primeira linha\n",
    "#print(classes)\n",
    "print(dataset)\n",
    "print(len(dataset))\n",
    "print(dataset.shape)"
   ]
  },
  {
   "cell_type": "code",
   "execution_count": 8,
   "metadata": {},
   "outputs": [
    {
     "name": "stdout",
     "output_type": "stream",
     "text": [
      "(6, 2, 30, 3000)\n",
      "(6, 2, 30, 3000)\n",
      "(6, 2, 30, 3000)\n",
      "(6, 2, 30, 3000)\n",
      "(6, 2, 30, 3000)\n",
      "(6, 2, 100, 2500)\n",
      "(6, 2, 100, 2500)\n",
      "(6, 2, 100, 2500)\n"
     ]
    }
   ],
   "source": [
    "import scipy.io\n",
    "import numpy as np\n",
    "import os\n",
    "listao = []\n",
    "\n",
    "caminhos = [os.path.join(\"src\", nome) for nome in os.listdir(\"src\")]\n",
    "pessoas = []\n",
    "\n",
    "for essive in caminhos:\n",
    "    mat = scipy.io.loadmat(essive)\n",
    "    tip = [mat['tip_ch1'], mat['tip_ch2']]\n",
    "    spher = [mat['spher_ch1'], mat['spher_ch2']]\n",
    "    palmar = [mat['palm_ch1'], mat['palm_ch2']]\n",
    "    lateral = [mat['lat_ch1'], mat['lat_ch2']]\n",
    "    cilindrical = [mat['cyl_ch1'], mat['cyl_ch2']]\n",
    "    hook = [mat['hook_ch1'], mat['hook_ch2']]\n",
    "    data = [tip, spher, palmar, lateral, cilindrical, hook]\n",
    "    data = np.array(data)\n",
    "    pessoas.append(data)  \n",
    "    print(data.shape)\n",
    "        \n",
    "#mat = scipy.io.loadmat('src/female_1.mat')\n",
    "#tip = [mat['tip_ch1'], mat['tip_ch2']]\n",
    "#spher = [mat['spher_ch1'], mat['spher_ch2']]\n",
    "#palmar = [mat['palm_ch1'], mat['palm_ch2']]\n",
    "#lateral = [mat['lat_ch1'], mat['lat_ch2']]\n",
    "#cilindrical = [mat['cyl_ch1'], mat['cyl_ch2']]\n",
    "#hook = [mat['hook_ch1'], mat['hook_ch2']]\n",
    "#data = [tip, spher, palmar, lateral, cilindrical, hook]\n",
    "#data = np.array(data)\n",
    "#\n",
    "\n",
    "\n",
    "\n"
   ]
  },
  {
   "cell_type": "markdown",
   "metadata": {},
   "source": [
    "### gravando no txt"
   ]
  },
  {
   "cell_type": "code",
   "execution_count": null,
   "metadata": {},
   "outputs": [],
   "source": [
    "newfile = open('src/novo.txt', 'w')\n",
    "for data in pessoas:    \n",
    "    for i in data:\n",
    "        newfile.write(str(i))\n",
    "newfile.close()"
   ]
  }
 ],
 "metadata": {
  "kernelspec": {
   "display_name": "Python 3",
   "language": "python",
   "name": "python3"
  },
  "language_info": {
   "codemirror_mode": {
    "name": "ipython",
    "version": 3
   },
   "file_extension": ".py",
   "mimetype": "text/x-python",
   "name": "python",
   "nbconvert_exporter": "python",
   "pygments_lexer": "ipython3",
   "version": "3.7.0"
  }
 },
 "nbformat": 4,
 "nbformat_minor": 2
}
